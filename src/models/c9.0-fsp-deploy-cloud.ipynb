{
 "cells": [
  {
   "cell_type": "markdown",
   "id": "2a754125",
   "metadata": {},
   "source": [
    "# PA005: High Value Customer Identification ( Insiders )"
   ]
  },
  {
   "cell_type": "markdown",
   "id": "af399e2c",
   "metadata": {},
   "source": [
    "# 0.0 Imports"
   ]
  },
  {
   "cell_type": "code",
   "execution_count": 1,
   "id": "93c28c39",
   "metadata": {
    "ExecuteTime": {
     "end_time": "2021-12-14T13:36:09.257194Z",
     "start_time": "2021-12-14T13:36:01.035347Z"
    }
   },
   "outputs": [],
   "source": [
    "import re\n",
    "import sqlite3\n",
    "\n",
    "import pandas                                                                             as pd\n",
    "import numpy                                                                              as np\n",
    "import seaborn                                                                            as sns\n",
    "import umap.umap_                                                                         as umap\n",
    "\n",
    "\n",
    "from sqlalchemy                    import create_engine\n",
    "from datetime                      import datetime\n",
    "\n",
    "from matplotlib                    import pyplot                                          as plt\n",
    "\n",
    "from sklearn                       import cluster                                         as c\n",
    "from sklearn                       import metrics                                         as met\n",
    "from sklearn                       import decomposition                                   as dd\n",
    "from sklearn                       import ensemble                                        as en\n",
    "from sklearn                       import mixture                                         as mx\n",
    "from plotly                        import express                                         as px\n",
    "from sklearn                       import preprocessing                                   as pp\n",
    "\n",
    "\n",
    "import warnings\n",
    "warnings.filterwarnings(\"ignore\")"
   ]
  },
  {
   "cell_type": "markdown",
   "id": "9f9face5",
   "metadata": {},
   "source": [
    "##  0.2 Load Dataset\n"
   ]
  },
  {
   "cell_type": "code",
   "execution_count": 3,
   "id": "41dac48a",
   "metadata": {
    "ExecuteTime": {
     "end_time": "2021-12-14T13:36:09.894487Z",
     "start_time": "2021-12-14T13:36:09.305005Z"
    },
    "scrolled": true
   },
   "outputs": [],
   "source": [
    "# load data\n",
    "path = '/Users/felip/repositorio/pa005_insiders_clustering/insiders_clustering/'\n",
    "df_raw = pd.read_csv(path + 'data/raw/Ecommerce.csv', encoding='cp1252')\n",
    "\n",
    "# # drop extra column\n",
    "df_raw = df_raw.drop(columns=['Unnamed: 8'] , axis=1)\n"
   ]
  },
  {
   "cell_type": "markdown",
   "id": "937f320c",
   "metadata": {
    "ExecuteTime": {
     "end_time": "2021-10-27T19:34:03.756273Z",
     "start_time": "2021-10-27T19:34:03.746397Z"
    },
    "heading_collapsed": true
   },
   "source": [
    "# <font color ='red'> 1.0 Descrição dos dados </font>"
   ]
  },
  {
   "cell_type": "code",
   "execution_count": 4,
   "id": "531feb57",
   "metadata": {
    "ExecuteTime": {
     "end_time": "2021-12-14T13:36:09.910703Z",
     "start_time": "2021-12-14T13:36:09.897332Z"
    },
    "hidden": true
   },
   "outputs": [],
   "source": [
    "df1 = df_raw.copy()"
   ]
  },
  {
   "cell_type": "markdown",
   "id": "83749ecd",
   "metadata": {
    "heading_collapsed": true,
    "hidden": true
   },
   "source": [
    "## 1.1 Rename Columns"
   ]
  },
  {
   "cell_type": "code",
   "execution_count": 5,
   "id": "15dba0a4",
   "metadata": {
    "ExecuteTime": {
     "end_time": "2021-12-14T13:36:09.926342Z",
     "start_time": "2021-12-14T13:36:09.911646Z"
    },
    "hidden": true
   },
   "outputs": [],
   "source": [
    "cols_new = ['invoice_no', 'stock_code', 'description', 'quantity', 'invoice_date','unit_price', 'customer_id', 'country']\n",
    "\n",
    "df1.columns = cols_new"
   ]
  },
  {
   "cell_type": "markdown",
   "id": "3faa0cc0",
   "metadata": {
    "heading_collapsed": true,
    "hidden": true
   },
   "source": [
    "## 1.2 Data dimensios"
   ]
  },
  {
   "cell_type": "code",
   "execution_count": 6,
   "id": "2c70213e",
   "metadata": {
    "ExecuteTime": {
     "end_time": "2021-12-14T13:36:09.942172Z",
     "start_time": "2021-12-14T13:36:09.927338Z"
    },
    "hidden": true
   },
   "outputs": [
    {
     "name": "stdout",
     "output_type": "stream",
     "text": [
      "Number of rows: 541909\n",
      "Number of columns: 8\n"
     ]
    }
   ],
   "source": [
    "print('Number of rows: {}'.format(df1.shape[0]))\n",
    "print('Number of columns: {}'.format(df1.shape[1]))"
   ]
  },
  {
   "cell_type": "markdown",
   "id": "9549d185",
   "metadata": {
    "heading_collapsed": true,
    "hidden": true
   },
   "source": [
    "## 1.3 Data types"
   ]
  },
  {
   "cell_type": "code",
   "execution_count": 7,
   "id": "a19553d2",
   "metadata": {
    "ExecuteTime": {
     "end_time": "2021-12-14T13:36:09.957873Z",
     "start_time": "2021-12-14T13:36:09.944171Z"
    },
    "hidden": true
   },
   "outputs": [
    {
     "data": {
      "text/plain": [
       "invoice_no       object\n",
       "stock_code       object\n",
       "description      object\n",
       "quantity          int64\n",
       "invoice_date     object\n",
       "unit_price      float64\n",
       "customer_id     float64\n",
       "country          object\n",
       "dtype: object"
      ]
     },
     "execution_count": 7,
     "metadata": {},
     "output_type": "execute_result"
    }
   ],
   "source": [
    "df1.dtypes"
   ]
  },
  {
   "cell_type": "markdown",
   "id": "c211b60b",
   "metadata": {
    "heading_collapsed": true,
    "hidden": true
   },
   "source": [
    "## 1.4 Check NA"
   ]
  },
  {
   "cell_type": "code",
   "execution_count": 8,
   "id": "0b5a1a55",
   "metadata": {
    "ExecuteTime": {
     "end_time": "2021-12-14T13:36:10.050910Z",
     "start_time": "2021-12-14T13:36:09.959830Z"
    },
    "hidden": true
   },
   "outputs": [
    {
     "data": {
      "text/plain": [
       "invoice_no           0\n",
       "stock_code           0\n",
       "description       1454\n",
       "quantity             0\n",
       "invoice_date         0\n",
       "unit_price           0\n",
       "customer_id     135080\n",
       "country              0\n",
       "dtype: int64"
      ]
     },
     "execution_count": 8,
     "metadata": {},
     "output_type": "execute_result"
    }
   ],
   "source": [
    "df1.isna().sum()"
   ]
  },
  {
   "cell_type": "markdown",
   "id": "7e314cc3",
   "metadata": {
    "heading_collapsed": true,
    "hidden": true
   },
   "source": [
    "## 1.5 Replace NA\n"
   ]
  },
  {
   "cell_type": "code",
   "execution_count": 9,
   "id": "7667e086",
   "metadata": {
    "ExecuteTime": {
     "end_time": "2021-12-14T13:36:10.097667Z",
     "start_time": "2021-12-14T13:36:10.051869Z"
    },
    "hidden": true
   },
   "outputs": [],
   "source": [
    "df_missing = df1.loc[df1['customer_id'].isna(), :]\n",
    "df_not_missing = df1.loc[~df1['customer_id'].isna(), :]\n",
    "\n"
   ]
  },
  {
   "cell_type": "code",
   "execution_count": 10,
   "id": "7efe3dcf",
   "metadata": {
    "ExecuteTime": {
     "end_time": "2021-12-14T13:36:10.422681Z",
     "start_time": "2021-12-14T13:36:10.099470Z"
    },
    "hidden": true,
    "scrolled": true
   },
   "outputs": [
    {
     "data": {
      "text/html": [
       "<div>\n",
       "<style scoped>\n",
       "    .dataframe tbody tr th:only-of-type {\n",
       "        vertical-align: middle;\n",
       "    }\n",
       "\n",
       "    .dataframe tbody tr th {\n",
       "        vertical-align: top;\n",
       "    }\n",
       "\n",
       "    .dataframe thead th {\n",
       "        text-align: right;\n",
       "    }\n",
       "</style>\n",
       "<table border=\"1\" class=\"dataframe\">\n",
       "  <thead>\n",
       "    <tr style=\"text-align: right;\">\n",
       "      <th></th>\n",
       "      <th>invoice_no</th>\n",
       "      <th>stock_code</th>\n",
       "      <th>description</th>\n",
       "      <th>quantity</th>\n",
       "      <th>invoice_date</th>\n",
       "      <th>unit_price</th>\n",
       "      <th>country</th>\n",
       "      <th>customer_id</th>\n",
       "    </tr>\n",
       "  </thead>\n",
       "  <tbody>\n",
       "    <tr>\n",
       "      <th>0</th>\n",
       "      <td>536365</td>\n",
       "      <td>85123A</td>\n",
       "      <td>WHITE HANGING HEART T-LIGHT HOLDER</td>\n",
       "      <td>6</td>\n",
       "      <td>29-Nov-16</td>\n",
       "      <td>2.55</td>\n",
       "      <td>United Kingdom</td>\n",
       "      <td>17850.0</td>\n",
       "    </tr>\n",
       "    <tr>\n",
       "      <th>1</th>\n",
       "      <td>536365</td>\n",
       "      <td>71053</td>\n",
       "      <td>WHITE METAL LANTERN</td>\n",
       "      <td>6</td>\n",
       "      <td>29-Nov-16</td>\n",
       "      <td>3.39</td>\n",
       "      <td>United Kingdom</td>\n",
       "      <td>17850.0</td>\n",
       "    </tr>\n",
       "    <tr>\n",
       "      <th>2</th>\n",
       "      <td>536365</td>\n",
       "      <td>84406B</td>\n",
       "      <td>CREAM CUPID HEARTS COAT HANGER</td>\n",
       "      <td>8</td>\n",
       "      <td>29-Nov-16</td>\n",
       "      <td>2.75</td>\n",
       "      <td>United Kingdom</td>\n",
       "      <td>17850.0</td>\n",
       "    </tr>\n",
       "    <tr>\n",
       "      <th>3</th>\n",
       "      <td>536365</td>\n",
       "      <td>84029G</td>\n",
       "      <td>KNITTED UNION FLAG HOT WATER BOTTLE</td>\n",
       "      <td>6</td>\n",
       "      <td>29-Nov-16</td>\n",
       "      <td>3.39</td>\n",
       "      <td>United Kingdom</td>\n",
       "      <td>17850.0</td>\n",
       "    </tr>\n",
       "    <tr>\n",
       "      <th>4</th>\n",
       "      <td>536365</td>\n",
       "      <td>84029E</td>\n",
       "      <td>RED WOOLLY HOTTIE WHITE HEART.</td>\n",
       "      <td>6</td>\n",
       "      <td>29-Nov-16</td>\n",
       "      <td>3.39</td>\n",
       "      <td>United Kingdom</td>\n",
       "      <td>17850.0</td>\n",
       "    </tr>\n",
       "  </tbody>\n",
       "</table>\n",
       "</div>"
      ],
      "text/plain": [
       "  invoice_no stock_code                          description  quantity  \\\n",
       "0     536365     85123A   WHITE HANGING HEART T-LIGHT HOLDER         6   \n",
       "1     536365      71053                  WHITE METAL LANTERN         6   \n",
       "2     536365     84406B       CREAM CUPID HEARTS COAT HANGER         8   \n",
       "3     536365     84029G  KNITTED UNION FLAG HOT WATER BOTTLE         6   \n",
       "4     536365     84029E       RED WOOLLY HOTTIE WHITE HEART.         6   \n",
       "\n",
       "  invoice_date  unit_price         country  customer_id  \n",
       "0    29-Nov-16        2.55  United Kingdom      17850.0  \n",
       "1    29-Nov-16        3.39  United Kingdom      17850.0  \n",
       "2    29-Nov-16        2.75  United Kingdom      17850.0  \n",
       "3    29-Nov-16        3.39  United Kingdom      17850.0  \n",
       "4    29-Nov-16        3.39  United Kingdom      17850.0  "
      ]
     },
     "execution_count": 10,
     "metadata": {},
     "output_type": "execute_result"
    }
   ],
   "source": [
    "# create referance \n",
    "\n",
    "df_backup = pd.DataFrame(df_missing['invoice_no'].drop_duplicates())\n",
    "df_backup['customer_id'] = np.arange(19000 , 19000+len(df_backup), 1)\n",
    "df_backup.head()\n",
    "\n",
    "# merge original with reference dataframe\n",
    "df1 = pd.merge(df1, df_backup , on='invoice_no' , how='left')\n",
    "\n",
    "#coalesce\n",
    "df1['customer_id'] = df1['customer_id_x'].combine_first(df1['customer_id_y'])\n",
    "\n",
    "# drop extra columns\n",
    "\n",
    "df1 = df1.drop(columns=['customer_id_x' , 'customer_id_y' ] , axis = 1)\n",
    "\n",
    "df1.head()"
   ]
  },
  {
   "cell_type": "markdown",
   "id": "95a16fb4",
   "metadata": {
    "heading_collapsed": true,
    "hidden": true
   },
   "source": [
    "## 1.6 Changes dtypes\n"
   ]
  },
  {
   "cell_type": "code",
   "execution_count": 11,
   "id": "78c2128a",
   "metadata": {
    "ExecuteTime": {
     "end_time": "2021-12-14T13:36:10.500815Z",
     "start_time": "2021-12-14T13:36:10.423678Z"
    },
    "hidden": true
   },
   "outputs": [],
   "source": [
    "# invoice date\n",
    "\n",
    "df1['invoice_date'] = pd.to_datetime(df1['invoice_date'] , format='%d-%b-%y')\n",
    "\n",
    "# customer_id\n",
    "\n",
    "df1['customer_id'] = df1['customer_id'].astype('int64')\n"
   ]
  },
  {
   "cell_type": "markdown",
   "id": "f9115e6f",
   "metadata": {
    "heading_collapsed": true,
    "hidden": true
   },
   "source": [
    "## 1.7 Descriptive Statistics"
   ]
  },
  {
   "cell_type": "code",
   "execution_count": 12,
   "id": "53c369af",
   "metadata": {
    "ExecuteTime": {
     "end_time": "2021-12-14T13:36:10.545490Z",
     "start_time": "2021-12-14T13:36:10.502810Z"
    },
    "hidden": true
   },
   "outputs": [],
   "source": [
    "num_attributes = df1.select_dtypes(include=['int64' , 'float64'])\n",
    "cat_attributes = df1.select_dtypes(exclude=['int64' , 'float64','datetime64[ns]'])\n"
   ]
  },
  {
   "cell_type": "markdown",
   "id": "1fbd8b4e",
   "metadata": {
    "heading_collapsed": true,
    "hidden": true
   },
   "source": [
    "### 1.7.1 Numerical Attributs"
   ]
  },
  {
   "cell_type": "code",
   "execution_count": 13,
   "id": "e8d6356f",
   "metadata": {
    "ExecuteTime": {
     "end_time": "2021-12-14T13:36:10.671011Z",
     "start_time": "2021-12-14T13:36:10.546489Z"
    },
    "hidden": true
   },
   "outputs": [
    {
     "data": {
      "text/html": [
       "<div>\n",
       "<style scoped>\n",
       "    .dataframe tbody tr th:only-of-type {\n",
       "        vertical-align: middle;\n",
       "    }\n",
       "\n",
       "    .dataframe tbody tr th {\n",
       "        vertical-align: top;\n",
       "    }\n",
       "\n",
       "    .dataframe thead th {\n",
       "        text-align: right;\n",
       "    }\n",
       "</style>\n",
       "<table border=\"1\" class=\"dataframe\">\n",
       "  <thead>\n",
       "    <tr style=\"text-align: right;\">\n",
       "      <th></th>\n",
       "      <th>Attributes</th>\n",
       "      <th>min</th>\n",
       "      <th>max</th>\n",
       "      <th>range</th>\n",
       "      <th>mean</th>\n",
       "      <th>median</th>\n",
       "      <th>std</th>\n",
       "      <th>skew</th>\n",
       "      <th>kurtoses</th>\n",
       "    </tr>\n",
       "  </thead>\n",
       "  <tbody>\n",
       "    <tr>\n",
       "      <th>0</th>\n",
       "      <td>quantity</td>\n",
       "      <td>-80995.00</td>\n",
       "      <td>80995.0</td>\n",
       "      <td>161990.00</td>\n",
       "      <td>9.552250</td>\n",
       "      <td>3.00</td>\n",
       "      <td>218.080957</td>\n",
       "      <td>-0.264076</td>\n",
       "      <td>119769.160031</td>\n",
       "    </tr>\n",
       "    <tr>\n",
       "      <th>1</th>\n",
       "      <td>unit_price</td>\n",
       "      <td>-11062.06</td>\n",
       "      <td>38970.0</td>\n",
       "      <td>50032.06</td>\n",
       "      <td>4.611114</td>\n",
       "      <td>2.08</td>\n",
       "      <td>96.759764</td>\n",
       "      <td>186.506972</td>\n",
       "      <td>59005.719097</td>\n",
       "    </tr>\n",
       "    <tr>\n",
       "      <th>2</th>\n",
       "      <td>customer_id</td>\n",
       "      <td>12346.00</td>\n",
       "      <td>22709.0</td>\n",
       "      <td>10363.00</td>\n",
       "      <td>16688.840453</td>\n",
       "      <td>16249.00</td>\n",
       "      <td>2911.408666</td>\n",
       "      <td>0.487449</td>\n",
       "      <td>-0.804287</td>\n",
       "    </tr>\n",
       "  </tbody>\n",
       "</table>\n",
       "</div>"
      ],
      "text/plain": [
       "    Attributes       min      max      range          mean    median  \\\n",
       "0     quantity -80995.00  80995.0  161990.00      9.552250      3.00   \n",
       "1   unit_price -11062.06  38970.0   50032.06      4.611114      2.08   \n",
       "2  customer_id  12346.00  22709.0   10363.00  16688.840453  16249.00   \n",
       "\n",
       "           std        skew       kurtoses  \n",
       "0   218.080957   -0.264076  119769.160031  \n",
       "1    96.759764  186.506972   59005.719097  \n",
       "2  2911.408666    0.487449      -0.804287  "
      ]
     },
     "execution_count": 13,
     "metadata": {},
     "output_type": "execute_result"
    }
   ],
   "source": [
    "# central tendency - mean, median\n",
    "mean = pd.DataFrame(num_attributes.apply(np.mean)).T\n",
    "median = pd.DataFrame(num_attributes.apply(np.median)).T\n",
    "\n",
    "# dispersion - std , min , max , range , skew , kurtosis\n",
    "std = pd.DataFrame(num_attributes.apply(np.std)).T\n",
    "mi = pd.DataFrame(num_attributes.apply(np.min)).T\n",
    "ma = pd.DataFrame(num_attributes.apply(np.max)).T\n",
    "ran = pd.DataFrame(num_attributes.apply(lambda x: x.max() - x.min())).T\n",
    "skew = pd.DataFrame(num_attributes.apply(lambda x: x.skew())).T\n",
    "kurtosis = pd.DataFrame(num_attributes.apply(lambda x: x.kurtosis())).T\n",
    "\n",
    "# concatenate\n",
    "\n",
    "m = pd.concat([mi , ma ,ran, mean , median  , std,  skew ,  kurtosis]).T.reset_index()\n",
    "m.columns = ['Attributes' , 'min' , 'max', 'range', 'mean', 'median', 'std', 'skew', 'kurtoses']\n",
    "m"
   ]
  },
  {
   "cell_type": "markdown",
   "id": "12fc2e09",
   "metadata": {
    "heading_collapsed": true,
    "hidden": true
   },
   "source": [
    "### 1.7.2 Categorical Attributs"
   ]
  },
  {
   "cell_type": "markdown",
   "id": "dd9bc352",
   "metadata": {
    "heading_collapsed": true,
    "hidden": true
   },
   "source": [
    "#### Invoice No"
   ]
  },
  {
   "cell_type": "code",
   "execution_count": 14,
   "id": "4d424932",
   "metadata": {
    "ExecuteTime": {
     "end_time": "2021-12-14T13:36:11.166670Z",
     "start_time": "2021-12-14T13:36:10.672314Z"
    },
    "hidden": true
   },
   "outputs": [
    {
     "name": "stdout",
     "output_type": "stream",
     "text": [
      "Total number of invoices: 9291\n",
      "Total number of negative quantity: 9291\n"
     ]
    }
   ],
   "source": [
    "# identificação:\n",
    "df_letter_invoices = df1.loc[df1['invoice_no'].apply(lambda x: bool(re.search('[^0-9]+', x))) , :]\n",
    "df_letter_invoices.head()\n",
    "\n",
    "print('Total number of invoices: {}'.format(len(df_letter_invoices)))\n",
    "print('Total number of negative quantity: {}'.format(len(df_letter_invoices['quantity'] < 0)))"
   ]
  },
  {
   "cell_type": "markdown",
   "id": "eab78bc0",
   "metadata": {
    "heading_collapsed": true,
    "hidden": true
   },
   "source": [
    "#### Stock Code"
   ]
  },
  {
   "cell_type": "code",
   "execution_count": 15,
   "id": "61902dad",
   "metadata": {
    "ExecuteTime": {
     "end_time": "2021-12-14T13:36:11.647165Z",
     "start_time": "2021-12-14T13:36:11.168625Z"
    },
    "hidden": true
   },
   "outputs": [
    {
     "data": {
      "text/plain": [
       "array(['POST', 'D', 'DOT', 'M', 'S', 'AMAZONFEE', 'm', 'DCGSSBOY',\n",
       "       'DCGSSGIRL', 'PADS', 'B', 'CRUK'], dtype=object)"
      ]
     },
     "execution_count": 15,
     "metadata": {},
     "output_type": "execute_result"
    }
   ],
   "source": [
    "# check stock code only characters\n",
    "df1.loc[cat_attributes['stock_code'].apply(lambda x: bool(re.search('^[a-zA-Z]+$', x))),'stock_code'].unique()\n",
    "\n",
    "# Ação:\n",
    "## 1. Remove stock_code in ['POST', 'D', 'DOT', 'M', 'S', 'AMAZONFEE', 'm', 'DCGSSBOY','DCGSSGIRL', 'PADS', 'B', 'CRUK']\n"
   ]
  },
  {
   "cell_type": "markdown",
   "id": "77e23da2",
   "metadata": {
    "ExecuteTime": {
     "end_time": "2021-10-27T19:37:24.383790Z",
     "start_time": "2021-10-27T19:37:24.370791Z"
    },
    "heading_collapsed": true
   },
   "source": [
    "# <font color ='red'> 2.0 Filtragem de variaveis </font>"
   ]
  },
  {
   "cell_type": "code",
   "execution_count": 16,
   "id": "425abb24",
   "metadata": {
    "ExecuteTime": {
     "end_time": "2021-12-14T13:36:11.678239Z",
     "start_time": "2021-12-14T13:36:11.648030Z"
    },
    "hidden": true
   },
   "outputs": [],
   "source": [
    "df2 = df1.copy()"
   ]
  },
  {
   "cell_type": "code",
   "execution_count": 17,
   "id": "6ee778d7",
   "metadata": {
    "ExecuteTime": {
     "end_time": "2021-12-14T13:36:11.910348Z",
     "start_time": "2021-12-14T13:36:11.679070Z"
    },
    "hidden": true
   },
   "outputs": [],
   "source": [
    "# ==== Numerical Attributes ====\n",
    "\n",
    "df2 = df2.loc[df2['unit_price'] > 0.04 , :]\n",
    "\n",
    "\n",
    "# ==== Categorical Attributes ====\n",
    "\n",
    "\n",
    "df2 = df2[~df2['stock_code'].isin(['POST', 'D', 'DOT', 'M', 'S', 'AMAZONFEE', 'm', 'DCGSSBOY','DCGSSGIRL', 'PADS', 'B', 'CRUK'])]\n",
    "\n",
    "# description\n",
    "df2 = df2.drop('description', axis =1)\n",
    "\n",
    "# map\n",
    "df2 = df2[~df2['country'].isin (['European Community' , 'Unspecified'])]\n",
    "\n",
    "# bad users\n",
    "df2 = df2[~df2['customer_id'].isin( [16446]) ]\n",
    "\n",
    "\n",
    "## quantity \n",
    "df2_returns = df2.loc[df2['quantity'] < 0, :]\n",
    "df2_purchase = df2.loc[df2['quantity'] >= 0, :]\n"
   ]
  },
  {
   "cell_type": "markdown",
   "id": "fdcf5e3f",
   "metadata": {
    "ExecuteTime": {
     "end_time": "2021-10-27T19:35:06.270967Z",
     "start_time": "2021-10-27T19:35:06.263969Z"
    },
    "heading_collapsed": true
   },
   "source": [
    "# <font color ='red'> 3.0 Feature Engeneering </font>"
   ]
  },
  {
   "cell_type": "code",
   "execution_count": 18,
   "id": "54093948",
   "metadata": {
    "ExecuteTime": {
     "end_time": "2021-12-14T13:36:11.926090Z",
     "start_time": "2021-12-14T13:36:11.911876Z"
    },
    "hidden": true
   },
   "outputs": [],
   "source": [
    "df3 = df2.copy()"
   ]
  },
  {
   "cell_type": "markdown",
   "id": "615e033b",
   "metadata": {
    "heading_collapsed": true,
    "hidden": true
   },
   "source": [
    "## 3.1 Feature Creation"
   ]
  },
  {
   "cell_type": "code",
   "execution_count": 19,
   "id": "76ab6e27",
   "metadata": {
    "ExecuteTime": {
     "end_time": "2021-12-14T13:36:11.956817Z",
     "start_time": "2021-12-14T13:36:11.927110Z"
    },
    "hidden": true
   },
   "outputs": [],
   "source": [
    "# data reference\n",
    "\n",
    "df_ref = df3.drop(['invoice_no','stock_code','quantity', 'invoice_date','unit_price','country'], axis = 1 ).drop_duplicates(ignore_index = True)\n"
   ]
  },
  {
   "cell_type": "markdown",
   "id": "928177d2",
   "metadata": {
    "heading_collapsed": true,
    "hidden": true
   },
   "source": [
    "### 3.1.1. Gross Revenue"
   ]
  },
  {
   "cell_type": "code",
   "execution_count": 20,
   "id": "9f59c51c",
   "metadata": {
    "ExecuteTime": {
     "end_time": "2021-12-14T13:36:12.018854Z",
     "start_time": "2021-12-14T13:36:11.957246Z"
    },
    "hidden": true
   },
   "outputs": [
    {
     "data": {
      "text/plain": [
       "customer_id       0\n",
       "gross_revenue    91\n",
       "dtype: int64"
      ]
     },
     "execution_count": 20,
     "metadata": {},
     "output_type": "execute_result"
    }
   ],
   "source": [
    "# Gross Revenue ( Faturamento = quantity * price)\n",
    "df2_purchase.loc[: , 'gross_revenue'] = df2_purchase.loc[: , 'quantity'] * df2_purchase.loc[: , 'unit_price']\n",
    "\n",
    "df_monetary = df2_purchase.loc[: , ['customer_id' , 'gross_revenue']].groupby('customer_id').sum().reset_index()\n",
    "df_ref = pd.merge(df_ref, df_monetary,on='customer_id',how='left')\n",
    "\n",
    "df_ref.isna().sum()"
   ]
  },
  {
   "cell_type": "markdown",
   "id": "666c7266",
   "metadata": {
    "heading_collapsed": true,
    "hidden": true
   },
   "source": [
    "### 3.1.2. Recency - Day from last purchase"
   ]
  },
  {
   "cell_type": "code",
   "execution_count": 21,
   "id": "53a0e533",
   "metadata": {
    "ExecuteTime": {
     "end_time": "2021-12-14T13:36:12.065296Z",
     "start_time": "2021-12-14T13:36:12.019811Z"
    },
    "hidden": true
   },
   "outputs": [
    {
     "data": {
      "text/plain": [
       "customer_id       0\n",
       "gross_revenue    91\n",
       "recency_days     91\n",
       "dtype: int64"
      ]
     },
     "execution_count": 21,
     "metadata": {},
     "output_type": "execute_result"
    }
   ],
   "source": [
    "# Recency - Last day purchase\n",
    "df_recency = df2_purchase.loc[: ,[ 'customer_id', 'invoice_date']].groupby('customer_id').max().reset_index()\n",
    "df_recency['recency_days'] = (df2['invoice_date'].max() - df_recency['invoice_date']).dt.days\n",
    "df_recency = df_recency[['customer_id','recency_days']].copy()\n",
    "df_ref = pd.merge(df_ref , df_recency , on='customer_id', how='left')\n",
    "df_ref.isna().sum()"
   ]
  },
  {
   "cell_type": "markdown",
   "id": "c98e3f45",
   "metadata": {
    "heading_collapsed": true,
    "hidden": true
   },
   "source": [
    "### 3.1.3. Quantity of purchased"
   ]
  },
  {
   "cell_type": "code",
   "execution_count": 22,
   "id": "a01fffca",
   "metadata": {
    "ExecuteTime": {
     "end_time": "2021-12-14T13:36:12.141677Z",
     "start_time": "2021-12-14T13:36:12.066298Z"
    },
    "hidden": true,
    "scrolled": true
   },
   "outputs": [
    {
     "data": {
      "text/plain": [
       "customer_id       0\n",
       "gross_revenue    91\n",
       "recency_days     91\n",
       "qtde_invoices    91\n",
       "dtype: int64"
      ]
     },
     "execution_count": 22,
     "metadata": {},
     "output_type": "execute_result"
    }
   ],
   "source": [
    "# Numero de produtos\n",
    "df_freq = (df2_purchase.loc[: ,['customer_id','invoice_no']].drop_duplicates()\n",
    "                                                            .groupby('customer_id')\n",
    "                                                            .count()\n",
    "                                                            .reset_index()\n",
    "                                                            .rename(columns={'invoice_no' : 'qtde_invoices'}))\n",
    "\n",
    "df_ref = pd.merge(df_ref , df_freq , on='customer_id', how='left')\n",
    "df_ref.isna().sum()"
   ]
  },
  {
   "cell_type": "markdown",
   "id": "b5c9cac0",
   "metadata": {
    "heading_collapsed": true,
    "hidden": true
   },
   "source": [
    "### 3.1.4. Quantity total of items purchased\n"
   ]
  },
  {
   "cell_type": "code",
   "execution_count": 23,
   "id": "868f2aff",
   "metadata": {
    "ExecuteTime": {
     "end_time": "2021-12-14T13:36:12.186332Z",
     "start_time": "2021-12-14T13:36:12.142729Z"
    },
    "hidden": true,
    "scrolled": false
   },
   "outputs": [
    {
     "data": {
      "text/plain": [
       "customer_id       0\n",
       "gross_revenue    91\n",
       "recency_days     91\n",
       "qtde_invoices    91\n",
       "qtde_items       91\n",
       "dtype: int64"
      ]
     },
     "execution_count": 23,
     "metadata": {},
     "output_type": "execute_result"
    }
   ],
   "source": [
    "df_freq = df2_purchase.loc[: ,['customer_id','quantity']].groupby('customer_id').sum().reset_index().rename(columns = {'quantity' : 'qtde_items'})\n",
    "df_ref = pd.merge(df_ref , df_freq , on='customer_id', how='left')\n",
    "df_ref.isna().sum()"
   ]
  },
  {
   "cell_type": "markdown",
   "id": "eb942651",
   "metadata": {
    "heading_collapsed": true,
    "hidden": true
   },
   "source": [
    "### 3.1.5. Quantity of products purchased\n"
   ]
  },
  {
   "cell_type": "code",
   "execution_count": 24,
   "id": "82563d67",
   "metadata": {
    "ExecuteTime": {
     "end_time": "2021-12-14T13:36:12.248771Z",
     "start_time": "2021-12-14T13:36:12.188327Z"
    },
    "hidden": true,
    "scrolled": false
   },
   "outputs": [
    {
     "data": {
      "text/plain": [
       "customer_id       0\n",
       "gross_revenue    91\n",
       "recency_days     91\n",
       "qtde_invoices    91\n",
       "qtde_items       91\n",
       "qtde_products    91\n",
       "dtype: int64"
      ]
     },
     "execution_count": 24,
     "metadata": {},
     "output_type": "execute_result"
    }
   ],
   "source": [
    "df_freq = df2_purchase.loc[: ,['customer_id','stock_code']].groupby('customer_id').count().reset_index().rename(columns = {'stock_code' : 'qtde_products'})\n",
    "df_ref = pd.merge(df_ref , df_freq , on='customer_id', how='left')\n",
    "df_ref.isna().sum()"
   ]
  },
  {
   "cell_type": "markdown",
   "id": "cf3b90c6",
   "metadata": {
    "heading_collapsed": true,
    "hidden": true
   },
   "source": [
    "### 3.1.6. Avg Ticket Value"
   ]
  },
  {
   "cell_type": "code",
   "execution_count": 25,
   "id": "5ced0c7b",
   "metadata": {
    "ExecuteTime": {
     "end_time": "2021-12-14T13:36:12.295256Z",
     "start_time": "2021-12-14T13:36:12.250766Z"
    },
    "hidden": true,
    "scrolled": true
   },
   "outputs": [
    {
     "data": {
      "text/plain": [
       "customer_id       0\n",
       "gross_revenue    91\n",
       "recency_days     91\n",
       "qtde_invoices    91\n",
       "qtde_items       91\n",
       "qtde_products    91\n",
       "avg_ticket       91\n",
       "dtype: int64"
      ]
     },
     "execution_count": 25,
     "metadata": {},
     "output_type": "execute_result"
    }
   ],
   "source": [
    "# Avg ticket\n",
    "df_avg_ticket = df2_purchase.loc[: ,['customer_id' , 'gross_revenue']].groupby('customer_id').mean().reset_index().rename(columns={'gross_revenue':'avg_ticket'})\n",
    "#df_avg_ticket['avg_ticket'] = np.round(df_avg_ticket['avg_ticket'] , 2)\n",
    "df_ref = pd.merge(df_ref, df_avg_ticket,on='customer_id',how='left')\n",
    "df_ref.isna().sum()"
   ]
  },
  {
   "cell_type": "markdown",
   "id": "7046ed55",
   "metadata": {
    "heading_collapsed": true,
    "hidden": true
   },
   "source": [
    "### 3.1.8. Frequency Purchase"
   ]
  },
  {
   "cell_type": "code",
   "execution_count": 26,
   "id": "abbefc9c",
   "metadata": {
    "ExecuteTime": {
     "end_time": "2021-12-14T13:36:12.309923Z",
     "start_time": "2021-12-14T13:36:12.297268Z"
    },
    "hidden": true
   },
   "outputs": [],
   "source": [
    "df3_purchase = df2_purchase.copy()"
   ]
  },
  {
   "cell_type": "code",
   "execution_count": 27,
   "id": "cd56dac1",
   "metadata": {
    "ExecuteTime": {
     "end_time": "2021-12-14T13:36:13.196256Z",
     "start_time": "2021-12-14T13:36:12.310920Z"
    },
    "hidden": true,
    "scrolled": false
   },
   "outputs": [
    {
     "data": {
      "text/plain": [
       "customer_id       0\n",
       "gross_revenue    91\n",
       "recency_days     91\n",
       "qtde_invoices    91\n",
       "qtde_items       91\n",
       "qtde_products    91\n",
       "avg_ticket       91\n",
       "frequency        91\n",
       "dtype: int64"
      ]
     },
     "execution_count": 27,
     "metadata": {},
     "output_type": "execute_result"
    }
   ],
   "source": [
    "df_aux = df3_purchase[['invoice_no','customer_id', 'invoice_date']].drop_duplicates().groupby('customer_id').agg(max_  = ('invoice_date', 'max'), \n",
    "                                                                                               min_  = ('invoice_date', 'min'), \n",
    "                                                                                               days_ = ('invoice_date', lambda x: (( x.max() - x.min() ).days)+ 1),\n",
    "                                                                                               buy_  = ('invoice_date', 'count')).reset_index()\n",
    "\n",
    "# Frequency \n",
    "df_aux['frequency'] = df_aux[['buy_', 'days_']].apply( lambda x: x['buy_'] / x['days_'] if x['days_'] != 0 else 0, axis = 1)\n",
    "\n",
    "# Merge\n",
    "df_ref = pd.merge(df_ref , df_aux[['customer_id', 'frequency']], on='customer_id', how = 'left')\n",
    "\n",
    "df_ref.isna().sum()"
   ]
  },
  {
   "cell_type": "markdown",
   "id": "80bafc63",
   "metadata": {
    "heading_collapsed": true,
    "hidden": true
   },
   "source": [
    "### 3.1.9. Numbers of Returns"
   ]
  },
  {
   "cell_type": "code",
   "execution_count": 28,
   "id": "706e317c",
   "metadata": {
    "ExecuteTime": {
     "end_time": "2021-12-14T13:36:13.227754Z",
     "start_time": "2021-12-14T13:36:13.200247Z"
    },
    "hidden": true
   },
   "outputs": [
    {
     "data": {
      "text/plain": [
       "customer_id       0\n",
       "gross_revenue    91\n",
       "recency_days     91\n",
       "qtde_invoices    91\n",
       "qtde_items       91\n",
       "qtde_products    91\n",
       "avg_ticket       91\n",
       "frequency        91\n",
       "qtde_returns      0\n",
       "dtype: int64"
      ]
     },
     "execution_count": 28,
     "metadata": {},
     "output_type": "execute_result"
    }
   ],
   "source": [
    "df_returns = df2_returns[['customer_id' , 'quantity']].groupby('customer_id').sum().reset_index().rename( columns={'quantity' : 'qtde_returns'})\n",
    "df_returns['qtde_returns'] = df_returns['qtde_returns'] * -1\n",
    "df_ref = pd.merge(df_ref , df_returns, on ='customer_id' ,  how='left')\n",
    "\n",
    "df_ref.loc[df_ref['qtde_returns'].isna() , 'qtde_returns'] = 0\n",
    "df_ref.isna().sum()"
   ]
  },
  {
   "cell_type": "markdown",
   "id": "546b8575",
   "metadata": {},
   "source": [
    "# <font color ='red'> 4.0 EDA (Exploratory Data Analysis) </font>"
   ]
  },
  {
   "cell_type": "code",
   "execution_count": 29,
   "id": "bf89a0c7",
   "metadata": {
    "ExecuteTime": {
     "end_time": "2021-12-14T13:36:13.243713Z",
     "start_time": "2021-12-14T13:36:13.228753Z"
    },
    "scrolled": true
   },
   "outputs": [],
   "source": [
    "df4 = df_ref.dropna().copy()"
   ]
  },
  {
   "cell_type": "markdown",
   "id": "34f2dedc",
   "metadata": {},
   "source": [
    "## 4.3 Estudo do espaço"
   ]
  },
  {
   "cell_type": "code",
   "execution_count": 30,
   "id": "6225e8b0",
   "metadata": {
    "ExecuteTime": {
     "end_time": "2021-12-14T13:36:13.259671Z",
     "start_time": "2021-12-14T13:36:13.244710Z"
    }
   },
   "outputs": [],
   "source": [
    "# Selected Dataset\n",
    "cols_selected = ['customer_id', 'gross_revenue','recency_days', 'qtde_products', 'frequency', 'qtde_returns' ]\n",
    "df43 = df4[cols_selected].drop(columns = 'customer_id')\n"
   ]
  },
  {
   "cell_type": "code",
   "execution_count": 31,
   "id": "ef85ff6a",
   "metadata": {
    "ExecuteTime": {
     "end_time": "2021-12-14T13:36:13.290991Z",
     "start_time": "2021-12-14T13:36:13.261665Z"
    }
   },
   "outputs": [],
   "source": [
    "mm = pp.MinMaxScaler()\n",
    "\n",
    "df43['gross_revenue']          = mm.fit_transform(df43[['gross_revenue']])\n",
    "df43['recency_days']           = mm.fit_transform(df43[['recency_days']])\n",
    "df43['qtde_products']          = mm.fit_transform(df43[['qtde_products']])\n",
    "df43['frequency']              = mm.fit_transform(df43[['frequency']])\n",
    "df43['qtde_returns']           = mm.fit_transform(df43[['qtde_returns']])\n",
    "\n",
    "\n",
    "X = df43.copy()\n"
   ]
  },
  {
   "cell_type": "code",
   "execution_count": 32,
   "id": "13d65796",
   "metadata": {
    "ExecuteTime": {
     "end_time": "2021-12-14T13:36:16.794519Z",
     "start_time": "2021-12-14T13:36:13.291988Z"
    }
   },
   "outputs": [],
   "source": [
    "# training dataset \n",
    "X = df43.drop(columns=[ 'gross_revenue'], axis = 1)\n",
    "Y = df43['gross_revenue']\n",
    "\n",
    "# model definition\n",
    "rf_model = en.RandomForestRegressor(n_estimators = 300 , random_state = 42 )\n",
    "\n",
    "# model training\n",
    "rf_model.fit(X,Y)\n",
    "\n",
    "# dataframe Leaf\n",
    "df_leaf = pd.DataFrame(rf_model.apply(X))"
   ]
  },
  {
   "cell_type": "code",
   "execution_count": 33,
   "id": "deebd300",
   "metadata": {
    "ExecuteTime": {
     "end_time": "2021-12-14T13:37:05.350714Z",
     "start_time": "2021-12-14T13:36:16.795516Z"
    }
   },
   "outputs": [],
   "source": [
    "# tree\n",
    "\n",
    "num_comp=[2,3,4,5]\n",
    "\n",
    "components_list1=[]\n",
    "components_list2=[]\n",
    "components_list3=[]\n",
    "components_list4=[]\n",
    "\n",
    "df_tree_1 = pd.DataFrame()\n",
    "df_tree_2 = pd.DataFrame()\n",
    "df_tree_3 = pd.DataFrame()\n",
    "df_tree_4 = pd.DataFrame()\n",
    "\n",
    "\n",
    "\n",
    "for i in num_comp:\n",
    "    \n",
    "    # reduzer dimensionality\n",
    "    reducer = umap.UMAP(random_state = 42, n_components = i)\n",
    "    embedding = reducer.fit_transform(df_leaf)\n",
    "\n",
    "    \n",
    "    if i == 2:\n",
    "        components_list1.append(embedding)\n",
    "        # embedding\n",
    "        df_tree_1['embedding_x'] = embedding[:,0]\n",
    "        df_tree_1['embedding_y'] = embedding[:,1]\n",
    "\n",
    "\n",
    "        \n",
    "    if i == 3:\n",
    "        components_list2.append(embedding)\n",
    "        # embedding\n",
    "        df_tree_2['embedding_x'] = embedding[:,0]\n",
    "        df_tree_2['embedding_y'] = embedding[:,1]\n",
    "        df_tree_2['embedding_z'] = embedding[:,2]\n",
    "\n",
    "        \n",
    "    if i == 4:\n",
    "        components_list3.append(embedding)\n",
    "        df_tree_3['embedding_x'] = embedding[:,0]\n",
    "        df_tree_3['embedding_y'] = embedding[:,1]\n",
    "        df_tree_3['embedding_z'] = embedding[:,2]\n",
    "        df_tree_3['embedding_w'] = embedding[:,3]\n",
    "\n",
    "    if i == 5:\n",
    "        components_list4.append(embedding)\n",
    "        df_tree_4['embedding_x'] = embedding[:,0]\n",
    "        df_tree_4['embedding_y'] = embedding[:,1]\n",
    "        df_tree_4['embedding_z'] = embedding[:,2]\n",
    "        df_tree_4['embedding_w'] = embedding[:,3]\n",
    "        df_tree_4['embedding_l'] = embedding[:,4]\n"
   ]
  },
  {
   "cell_type": "markdown",
   "id": "62fce3cb",
   "metadata": {},
   "source": [
    "# <font color ='red'> 5.0 Data Preparation </font>"
   ]
  },
  {
   "cell_type": "code",
   "execution_count": 34,
   "id": "15164e27",
   "metadata": {
    "ExecuteTime": {
     "end_time": "2021-12-14T13:37:05.382016Z",
     "start_time": "2021-12-14T13:37:05.351706Z"
    }
   },
   "outputs": [],
   "source": [
    "# UMAP EMbedding\n",
    "df5 = df_tree_2.copy()\n",
    "df5.to_csv('../src/data/tree_based_embedding.csv' , index = False)\n",
    "\n",
    "\n"
   ]
  },
  {
   "cell_type": "markdown",
   "id": "7abe5726",
   "metadata": {},
   "source": [
    "# <font color ='red'> 5.0 Hyperparameter Fine-Tunning </font>"
   ]
  },
  {
   "cell_type": "code",
   "execution_count": 35,
   "id": "7eede1a0",
   "metadata": {
    "ExecuteTime": {
     "end_time": "2021-12-14T13:37:05.398002Z",
     "start_time": "2021-12-14T13:37:05.383013Z"
    }
   },
   "outputs": [],
   "source": [
    "x = df5.copy()"
   ]
  },
  {
   "cell_type": "code",
   "execution_count": 36,
   "id": "7824ec53",
   "metadata": {
    "ExecuteTime": {
     "end_time": "2021-12-14T13:37:05.413956Z",
     "start_time": "2021-12-14T13:37:05.398971Z"
    }
   },
   "outputs": [],
   "source": [
    "clusters = np.arange(2,25,1)"
   ]
  },
  {
   "cell_type": "code",
   "execution_count": 37,
   "id": "e31281bc",
   "metadata": {
    "ExecuteTime": {
     "end_time": "2021-12-14T13:37:20.414153Z",
     "start_time": "2021-12-14T13:37:05.414932Z"
    }
   },
   "outputs": [],
   "source": [
    "kmeans_list = []\n",
    "\n",
    "for k in clusters:\n",
    "\n",
    "    # model definition\n",
    "    kmeans_model = c.KMeans(n_clusters = k , random_state=42)\n",
    "\n",
    "    # model training\n",
    "    kmeans_model.fit(x)\n",
    "\n",
    "    # model predict\n",
    "    labels = kmeans_model.predict(x)\n",
    "\n",
    "    # model performance\n",
    "    sil = met.silhouette_score(x , labels , metric='euclidean')\n",
    "\n",
    "    kmeans_list.append(sil)"
   ]
  },
  {
   "cell_type": "markdown",
   "id": "c036e322",
   "metadata": {},
   "source": [
    "# <font color ='red'> 6.0 Model Training </font>"
   ]
  },
  {
   "cell_type": "code",
   "execution_count": 38,
   "id": "8db949bc",
   "metadata": {
    "ExecuteTime": {
     "end_time": "2021-12-14T13:37:20.430110Z",
     "start_time": "2021-12-14T13:37:20.415150Z"
    }
   },
   "outputs": [],
   "source": [
    "df8 = x.copy()"
   ]
  },
  {
   "cell_type": "markdown",
   "id": "c6ed5aae",
   "metadata": {},
   "source": [
    "## 6.1 GMM"
   ]
  },
  {
   "cell_type": "code",
   "execution_count": 39,
   "id": "39b57958",
   "metadata": {
    "ExecuteTime": {
     "end_time": "2021-12-14T13:37:20.538785Z",
     "start_time": "2021-12-14T13:37:20.431109Z"
    }
   },
   "outputs": [],
   "source": [
    "# model definition\n",
    "k = 11\n",
    "kmeans = c.KMeans(init='random', n_clusters=k, n_init=10, max_iter=300, random_state=42)\n",
    "\n",
    "# model training\n",
    "kmeans.fit(df8)\n",
    "\n",
    "# clustering\n",
    "labels = kmeans.labels_\n",
    "\n"
   ]
  },
  {
   "cell_type": "markdown",
   "id": "3d53591c",
   "metadata": {},
   "source": [
    "## 6.2 Cluster Validation"
   ]
  },
  {
   "cell_type": "code",
   "execution_count": 40,
   "id": "aa7c4fdd",
   "metadata": {
    "ExecuteTime": {
     "end_time": "2021-12-14T13:37:21.012459Z",
     "start_time": "2021-12-14T13:37:20.539782Z"
    }
   },
   "outputs": [
    {
     "name": "stdout",
     "output_type": "stream",
     "text": [
      "SS value: 0.4872538447380066\n"
     ]
    }
   ],
   "source": [
    "print('SS value: {}'.format(met.silhouette_score(df8, labels, metric='euclidean')))"
   ]
  },
  {
   "cell_type": "markdown",
   "id": "16d7dc87",
   "metadata": {},
   "source": [
    "# <font color ='red'> 7.0 Cluster Analysis </font>"
   ]
  },
  {
   "cell_type": "code",
   "execution_count": 41,
   "id": "4f251cdb",
   "metadata": {
    "ExecuteTime": {
     "end_time": "2021-12-14T13:37:21.028415Z",
     "start_time": "2021-12-14T13:37:21.013456Z"
    },
    "hide_input": false
   },
   "outputs": [],
   "source": [
    "df92 = df4[cols_selected].copy()\n",
    "df92['cluster'] = labels\n",
    "\n",
    "\n",
    "\n",
    "df92['last_training_timestamp'] = datetime.now().strftime('%Y-%m-%d %H:%M:%S')\n",
    "\n",
    "# change dtypes\n",
    "df92['recency_days'] = df92['recency_days'].astype('int64')\n",
    "df92['qtde_products'] = df92['qtde_products'].astype('int64')\n",
    "df92['qtde_returns'] = df92['qtde_returns'].astype('int64')\n",
    "df92['last_training_timestamp'] =pd.to_datetime(df92['last_training_timestamp'])"
   ]
  },
  {
   "cell_type": "markdown",
   "id": "b70eba2e",
   "metadata": {},
   "source": [
    "## 7.2 Cluster Profile\n"
   ]
  },
  {
   "cell_type": "code",
   "execution_count": 42,
   "id": "2fecea82",
   "metadata": {
    "ExecuteTime": {
     "end_time": "2021-12-14T13:37:21.076288Z",
     "start_time": "2021-12-14T13:37:21.029413Z"
    },
    "hide_input": false,
    "scrolled": true
   },
   "outputs": [
    {
     "data": {
      "text/html": [
       "<div>\n",
       "<style scoped>\n",
       "    .dataframe tbody tr th:only-of-type {\n",
       "        vertical-align: middle;\n",
       "    }\n",
       "\n",
       "    .dataframe tbody tr th {\n",
       "        vertical-align: top;\n",
       "    }\n",
       "\n",
       "    .dataframe thead th {\n",
       "        text-align: right;\n",
       "    }\n",
       "</style>\n",
       "<table border=\"1\" class=\"dataframe\">\n",
       "  <thead>\n",
       "    <tr style=\"text-align: right;\">\n",
       "      <th></th>\n",
       "      <th>cluster</th>\n",
       "      <th>customer_id</th>\n",
       "      <th>perc_customers</th>\n",
       "      <th>gross_revenue</th>\n",
       "      <th>recency_days</th>\n",
       "      <th>qtde_products</th>\n",
       "      <th>frequency</th>\n",
       "      <th>qtde_returns</th>\n",
       "    </tr>\n",
       "  </thead>\n",
       "  <tbody>\n",
       "    <tr>\n",
       "      <th>0</th>\n",
       "      <td>0</td>\n",
       "      <td>1044</td>\n",
       "      <td>18.331870</td>\n",
       "      <td>1924.674923</td>\n",
       "      <td>104.756705</td>\n",
       "      <td>137.068966</td>\n",
       "      <td>0.495891</td>\n",
       "      <td>2.008621</td>\n",
       "    </tr>\n",
       "    <tr>\n",
       "      <th>1</th>\n",
       "      <td>1</td>\n",
       "      <td>504</td>\n",
       "      <td>8.849868</td>\n",
       "      <td>402.308492</td>\n",
       "      <td>127.103175</td>\n",
       "      <td>12.321429</td>\n",
       "      <td>0.602438</td>\n",
       "      <td>4.672619</td>\n",
       "    </tr>\n",
       "    <tr>\n",
       "      <th>2</th>\n",
       "      <td>2</td>\n",
       "      <td>382</td>\n",
       "      <td>6.707638</td>\n",
       "      <td>1226.036152</td>\n",
       "      <td>60.269634</td>\n",
       "      <td>52.573298</td>\n",
       "      <td>0.027513</td>\n",
       "      <td>9.455497</td>\n",
       "    </tr>\n",
       "    <tr>\n",
       "      <th>3</th>\n",
       "      <td>3</td>\n",
       "      <td>646</td>\n",
       "      <td>11.343284</td>\n",
       "      <td>841.509474</td>\n",
       "      <td>149.258514</td>\n",
       "      <td>49.656347</td>\n",
       "      <td>0.828322</td>\n",
       "      <td>5.157895</td>\n",
       "    </tr>\n",
       "    <tr>\n",
       "      <th>4</th>\n",
       "      <td>4</td>\n",
       "      <td>823</td>\n",
       "      <td>14.451273</td>\n",
       "      <td>401.885905</td>\n",
       "      <td>148.074119</td>\n",
       "      <td>15.873633</td>\n",
       "      <td>0.730735</td>\n",
       "      <td>5.174970</td>\n",
       "    </tr>\n",
       "    <tr>\n",
       "      <th>5</th>\n",
       "      <td>5</td>\n",
       "      <td>437</td>\n",
       "      <td>7.673398</td>\n",
       "      <td>1674.142929</td>\n",
       "      <td>85.828375</td>\n",
       "      <td>30.244851</td>\n",
       "      <td>0.035986</td>\n",
       "      <td>9.116705</td>\n",
       "    </tr>\n",
       "    <tr>\n",
       "      <th>6</th>\n",
       "      <td>6</td>\n",
       "      <td>528</td>\n",
       "      <td>9.271291</td>\n",
       "      <td>328.959640</td>\n",
       "      <td>156.905303</td>\n",
       "      <td>18.935606</td>\n",
       "      <td>1.012847</td>\n",
       "      <td>1.380682</td>\n",
       "    </tr>\n",
       "    <tr>\n",
       "      <th>7</th>\n",
       "      <td>7</td>\n",
       "      <td>121</td>\n",
       "      <td>2.124671</td>\n",
       "      <td>1149.349587</td>\n",
       "      <td>66.454545</td>\n",
       "      <td>57.231405</td>\n",
       "      <td>0.200603</td>\n",
       "      <td>12.438017</td>\n",
       "    </tr>\n",
       "    <tr>\n",
       "      <th>8</th>\n",
       "      <td>8</td>\n",
       "      <td>801</td>\n",
       "      <td>14.064969</td>\n",
       "      <td>6724.390487</td>\n",
       "      <td>51.360799</td>\n",
       "      <td>344.263421</td>\n",
       "      <td>0.224773</td>\n",
       "      <td>192.541823</td>\n",
       "    </tr>\n",
       "    <tr>\n",
       "      <th>9</th>\n",
       "      <td>9</td>\n",
       "      <td>163</td>\n",
       "      <td>2.862160</td>\n",
       "      <td>392.884847</td>\n",
       "      <td>155.576687</td>\n",
       "      <td>28.723926</td>\n",
       "      <td>1.027755</td>\n",
       "      <td>6.662577</td>\n",
       "    </tr>\n",
       "    <tr>\n",
       "      <th>10</th>\n",
       "      <td>10</td>\n",
       "      <td>246</td>\n",
       "      <td>4.319579</td>\n",
       "      <td>222.917724</td>\n",
       "      <td>228.772358</td>\n",
       "      <td>9.077236</td>\n",
       "      <td>0.919297</td>\n",
       "      <td>3.609756</td>\n",
       "    </tr>\n",
       "  </tbody>\n",
       "</table>\n",
       "</div>"
      ],
      "text/plain": [
       "    cluster  customer_id  perc_customers  gross_revenue  recency_days  \\\n",
       "0         0         1044       18.331870    1924.674923    104.756705   \n",
       "1         1          504        8.849868     402.308492    127.103175   \n",
       "2         2          382        6.707638    1226.036152     60.269634   \n",
       "3         3          646       11.343284     841.509474    149.258514   \n",
       "4         4          823       14.451273     401.885905    148.074119   \n",
       "5         5          437        7.673398    1674.142929     85.828375   \n",
       "6         6          528        9.271291     328.959640    156.905303   \n",
       "7         7          121        2.124671    1149.349587     66.454545   \n",
       "8         8          801       14.064969    6724.390487     51.360799   \n",
       "9         9          163        2.862160     392.884847    155.576687   \n",
       "10       10          246        4.319579     222.917724    228.772358   \n",
       "\n",
       "    qtde_products  frequency  qtde_returns  \n",
       "0      137.068966   0.495891      2.008621  \n",
       "1       12.321429   0.602438      4.672619  \n",
       "2       52.573298   0.027513      9.455497  \n",
       "3       49.656347   0.828322      5.157895  \n",
       "4       15.873633   0.730735      5.174970  \n",
       "5       30.244851   0.035986      9.116705  \n",
       "6       18.935606   1.012847      1.380682  \n",
       "7       57.231405   0.200603     12.438017  \n",
       "8      344.263421   0.224773    192.541823  \n",
       "9       28.723926   1.027755      6.662577  \n",
       "10       9.077236   0.919297      3.609756  "
      ]
     },
     "execution_count": 42,
     "metadata": {},
     "output_type": "execute_result"
    }
   ],
   "source": [
    "# Number of customer\n",
    "df_cluster = df92[['customer_id','cluster']].groupby('cluster').count().reset_index()\n",
    "df_cluster['perc_customers'] = 100*(df_cluster['customer_id'] / df_cluster['customer_id'].sum())\n",
    "\n",
    "# Avg Gross revenue\n",
    "df_avg_gross_revenue = df92[['gross_revenue','cluster']].groupby('cluster').mean().reset_index()\n",
    "df_cluster = pd.merge(df_cluster , df_avg_gross_revenue , how='inner' , on='cluster')\n",
    "\n",
    "# Avg recency days\n",
    "df_avg_recency_days = df92[['recency_days','cluster']].groupby('cluster').mean().reset_index()\n",
    "df_cluster = pd.merge(df_cluster , df_avg_recency_days , how='inner' , on='cluster')\n",
    "\n",
    "# Avg invoice_no\n",
    "df_qtde_products = df92[['qtde_products','cluster']].groupby('cluster').mean().reset_index()\n",
    "df_cluster = pd.merge(df_cluster , df_qtde_products , how='inner' , on='cluster')\n",
    "\n",
    "# Frequency\n",
    "df_frequency = df92[['frequency','cluster']].groupby('cluster').mean().reset_index()\n",
    "df_cluster = pd.merge(df_cluster , df_frequency , how='inner' , on='cluster')\n",
    "\n",
    "# Returns\n",
    "df_qtde_returns = df92[['qtde_returns','cluster']].groupby('cluster').mean().reset_index()\n",
    "df_cluster = pd.merge(df_cluster , df_qtde_returns , how='inner' , on='cluster')\n",
    "\n",
    "\n",
    "df_cluster"
   ]
  },
  {
   "cell_type": "code",
   "execution_count": 43,
   "id": "feabdf89",
   "metadata": {
    "ExecuteTime": {
     "end_time": "2021-12-14T13:37:21.092248Z",
     "start_time": "2021-12-14T13:37:21.077285Z"
    }
   },
   "outputs": [],
   "source": [
    "# 1 cluster Insiders\n",
    "# 4 cluster more products\n",
    "# 7 cluster spend money\n",
    "# 9 cluster even more products\n",
    "# 2 cluster less days\n",
    "# 10 cluster less 1k\n",
    "# 8 cluster Stop Returners\n",
    "# 9 cluster more buy\n",
    "# 5 cluster even more buy\n",
    "# 3 cluster weak\n",
    "# 0 cluster latecomer"
   ]
  },
  {
   "cell_type": "markdown",
   "id": "9de02b54",
   "metadata": {},
   "source": [
    "### Cluster 01: ( Candidato a Insiders)\n",
    "\n",
    "    - Número de customers: 665 (12% do customers)\n",
    "    - Faturamento médio: 7503\n",
    "    - Recência média: 52 dias \n",
    "    - Média de produtos comprados: 371 produtos\n",
    "    - Frequência de produtos comprados: 0.23 produtos/dia\n",
    "    - Receita em média: $ 7503.14,00 dólares\n",
    "    \n"
   ]
  },
  {
   "cell_type": "markdown",
   "id": "44b0219f",
   "metadata": {},
   "source": [
    "# <font color ='red'> 8.0 Deploy to production </font>"
   ]
  },
  {
   "cell_type": "code",
   "execution_count": 44,
   "id": "7132112f",
   "metadata": {
    "ExecuteTime": {
     "end_time": "2021-12-14T13:37:21.108205Z",
     "start_time": "2021-12-14T13:37:21.093243Z"
    },
    "scrolled": true
   },
   "outputs": [
    {
     "data": {
      "text/plain": [
       "customer_id                         int64\n",
       "gross_revenue                     float64\n",
       "recency_days                        int64\n",
       "qtde_products                       int64\n",
       "frequency                         float64\n",
       "qtde_returns                        int64\n",
       "cluster                             int32\n",
       "last_training_timestamp    datetime64[ns]\n",
       "dtype: object"
      ]
     },
     "execution_count": 44,
     "metadata": {},
     "output_type": "execute_result"
    }
   ],
   "source": [
    "df92.dtypes"
   ]
  },
  {
   "cell_type": "markdown",
   "id": "5bfee546",
   "metadata": {},
   "source": [
    "## 8.1. Insert into SQLITE"
   ]
  },
  {
   "cell_type": "code",
   "execution_count": 45,
   "id": "6fbe5b6e",
   "metadata": {
    "ExecuteTime": {
     "end_time": "2021-12-14T13:37:21.138596Z",
     "start_time": "2021-12-14T13:37:21.109214Z"
    }
   },
   "outputs": [],
   "source": [
    "# database connection\n",
    "conn = create_engine('sqlite:///insiders_db.sqlite')\n",
    "\n",
    "# drop table\n",
    "# query_drop_insiders=\"\"\"\n",
    "#     DROP TABLE Insiders\n",
    "# \"\"\"\n",
    "\n",
    "\n",
    "# create Table\n",
    "# query_create_table_insiders = \"\"\"\n",
    "#     CREATE TABLE Insiders (\n",
    "#         customer_id                   INTEGER,\n",
    "#         gross_revenue                 REAL,\n",
    "#         recency_days                  INTEGER,\n",
    "#         qtde_products                 INTEGER,\n",
    "#         frequency                     REAL,\n",
    "#         qtde_returns                  INTEGER,\n",
    "#         cluster                       INTEGER,\n",
    "#         last_training_timestamp       TIMESTAMP\n",
    "#      )\n",
    "\n",
    "# \"\"\"\n",
    "\n",
    "# conn.execute(query_create_table_insiders)"
   ]
  },
  {
   "cell_type": "code",
   "execution_count": 46,
   "id": "ccc38f38",
   "metadata": {
    "ExecuteTime": {
     "end_time": "2021-12-14T13:37:21.248386Z",
     "start_time": "2021-12-14T13:37:21.140257Z"
    }
   },
   "outputs": [],
   "source": [
    "# insert data into\n",
    "df92.to_sql('Insiders', con=conn, if_exists='append' , index=False)"
   ]
  },
  {
   "cell_type": "code",
   "execution_count": 47,
   "id": "c83da32e",
   "metadata": {
    "ExecuteTime": {
     "end_time": "2021-12-14T13:37:21.263345Z",
     "start_time": "2021-12-14T13:37:21.250395Z"
    }
   },
   "outputs": [],
   "source": [
    "# get query\n",
    "# query_collect=\"\"\"\n",
    "#     SELECT * from Insiders\n",
    "# \"\"\"\n",
    "\n",
    "# df = pd.read_sql_query(query_collect , conn)\n",
    "# df.head()"
   ]
  },
  {
   "cell_type": "code",
   "execution_count": null,
   "id": "fe057d3d",
   "metadata": {},
   "outputs": [],
   "source": []
  },
  {
   "cell_type": "code",
   "execution_count": null,
   "id": "cf0668e0",
   "metadata": {},
   "outputs": [],
   "source": []
  },
  {
   "cell_type": "code",
   "execution_count": null,
   "id": "a3c3bfcc",
   "metadata": {},
   "outputs": [],
   "source": []
  },
  {
   "cell_type": "code",
   "execution_count": null,
   "id": "11481d10",
   "metadata": {},
   "outputs": [],
   "source": []
  }
 ],
 "metadata": {
  "gist": {
   "data": {
    "description": "repositorio/pa005_insiders_clustering/insiders_clustering/notebooks/c3.0-fsp-metrics.ipynb",
    "public": false
   },
   "id": ""
  },
  "kernelspec": {
   "display_name": "Python 3 (ipykernel)",
   "language": "python",
   "name": "python3"
  },
  "language_info": {
   "codemirror_mode": {
    "name": "ipython",
    "version": 3
   },
   "file_extension": ".py",
   "mimetype": "text/x-python",
   "name": "python",
   "nbconvert_exporter": "python",
   "pygments_lexer": "ipython3",
   "version": "3.9.7"
  },
  "toc": {
   "base_numbering": 1,
   "nav_menu": {
    "height": "430px",
    "width": "202px"
   },
   "number_sections": false,
   "sideBar": true,
   "skip_h1_title": false,
   "title_cell": "Table of Contents",
   "title_sidebar": "Contents",
   "toc_cell": false,
   "toc_position": {
    "height": "calc(100% - 180px)",
    "left": "10px",
    "top": "150px",
    "width": "384px"
   },
   "toc_section_display": true,
   "toc_window_display": false
  },
  "varInspector": {
   "cols": {
    "lenName": 16,
    "lenType": 16,
    "lenVar": 40
   },
   "kernels_config": {
    "python": {
     "delete_cmd_postfix": "",
     "delete_cmd_prefix": "del ",
     "library": "var_list.py",
     "varRefreshCmd": "print(var_dic_list())"
    },
    "r": {
     "delete_cmd_postfix": ") ",
     "delete_cmd_prefix": "rm(",
     "library": "var_list.r",
     "varRefreshCmd": "cat(var_dic_list()) "
    }
   },
   "position": {
    "height": "831px",
    "left": "1033px",
    "right": "20px",
    "top": "15px",
    "width": "798px"
   },
   "types_to_exclude": [
    "module",
    "function",
    "builtin_function_or_method",
    "instance",
    "_Feature"
   ],
   "window_display": false
  }
 },
 "nbformat": 4,
 "nbformat_minor": 5
}
