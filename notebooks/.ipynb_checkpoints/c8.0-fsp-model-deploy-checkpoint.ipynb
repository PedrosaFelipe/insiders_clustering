{
 "cells": [
  {
   "cell_type": "markdown",
   "id": "2a754125",
   "metadata": {},
   "source": [
    "# PA005: High Value Customer Identification ( Insiders )"
   ]
  },
  {
   "cell_type": "markdown",
   "id": "af399e2c",
   "metadata": {},
   "source": [
    "# 0.0 Imports"
   ]
  },
  {
   "cell_type": "code",
   "execution_count": 1,
   "id": "93c28c39",
   "metadata": {
    "ExecuteTime": {
     "end_time": "2021-12-03T15:50:30.518265Z",
     "start_time": "2021-12-03T15:50:21.637231Z"
    }
   },
   "outputs": [],
   "source": [
    "import re\n",
    "import sqlite3\n",
    "\n",
    "import pandas                                                                             as pd\n",
    "import numpy                                                                              as np\n",
    "import seaborn                                                                            as sns\n",
    "import umap.umap_                                                                         as umap\n",
    "\n",
    "\n",
    "from sqlalchemy                    import create_engine\n",
    "from datetime                      import datetime\n",
    "\n",
    "from matplotlib                    import pyplot                                          as plt\n",
    "\n",
    "from sklearn                       import cluster                                         as c\n",
    "from sklearn                       import metrics                                         as met\n",
    "from sklearn                       import decomposition                                   as dd\n",
    "from sklearn                       import ensemble                                        as en\n",
    "from sklearn                       import mixture                                         as mx\n",
    "from plotly                        import express                                         as px\n",
    "from sklearn                       import preprocessing                                   as pp\n",
    "\n",
    "\n",
    "import warnings\n",
    "warnings.filterwarnings(\"ignore\")"
   ]
  },
  {
   "cell_type": "markdown",
   "id": "9f9face5",
   "metadata": {},
   "source": [
    "##  0.2 Load Dataset\n"
   ]
  },
  {
   "cell_type": "code",
   "execution_count": 2,
   "id": "41dac48a",
   "metadata": {
    "ExecuteTime": {
     "end_time": "2021-12-03T15:50:31.120233Z",
     "start_time": "2021-12-03T15:50:30.520231Z"
    },
    "scrolled": true
   },
   "outputs": [],
   "source": [
    "# load data\n",
    "df_raw = pd.read_csv(r'../data/raw/Ecommerce.csv', encoding='cp1252')\n",
    "\n",
    "# # drop extra column\n",
    "df_raw = df_raw.drop(columns=['Unnamed: 8'] , axis=1)"
   ]
  },
  {
   "cell_type": "markdown",
   "id": "937f320c",
   "metadata": {
    "ExecuteTime": {
     "end_time": "2021-10-27T19:34:03.756273Z",
     "start_time": "2021-10-27T19:34:03.746397Z"
    },
    "heading_collapsed": true
   },
   "source": [
    "# <font color ='red'> 1.0 Descrição dos dados </font>"
   ]
  },
  {
   "cell_type": "code",
   "execution_count": 3,
   "id": "531feb57",
   "metadata": {
    "ExecuteTime": {
     "end_time": "2021-12-03T15:50:31.153233Z",
     "start_time": "2021-12-03T15:50:31.121265Z"
    },
    "hidden": true
   },
   "outputs": [],
   "source": [
    "df1 = df_raw.copy()"
   ]
  },
  {
   "cell_type": "markdown",
   "id": "83749ecd",
   "metadata": {
    "heading_collapsed": true,
    "hidden": true
   },
   "source": [
    "## 1.1 Rename Columns"
   ]
  },
  {
   "cell_type": "code",
   "execution_count": 4,
   "id": "15dba0a4",
   "metadata": {
    "ExecuteTime": {
     "end_time": "2021-12-03T15:50:31.168233Z",
     "start_time": "2021-12-03T15:50:31.156264Z"
    },
    "hidden": true
   },
   "outputs": [],
   "source": [
    "cols_new = ['invoice_no', 'stock_code', 'description', 'quantity', 'invoice_date','unit_price', 'customer_id', 'country']\n",
    "\n",
    "df1.columns = cols_new"
   ]
  },
  {
   "cell_type": "markdown",
   "id": "3faa0cc0",
   "metadata": {
    "heading_collapsed": true,
    "hidden": true
   },
   "source": [
    "## 1.2 Data dimensios"
   ]
  },
  {
   "cell_type": "code",
   "execution_count": 5,
   "id": "2c70213e",
   "metadata": {
    "ExecuteTime": {
     "end_time": "2021-12-03T15:50:31.184230Z",
     "start_time": "2021-12-03T15:50:31.169232Z"
    },
    "hidden": true
   },
   "outputs": [
    {
     "name": "stdout",
     "output_type": "stream",
     "text": [
      "Number of rows: 541909\n",
      "Number of columns: 8\n"
     ]
    }
   ],
   "source": [
    "print('Number of rows: {}'.format(df1.shape[0]))\n",
    "print('Number of columns: {}'.format(df1.shape[1]))"
   ]
  },
  {
   "cell_type": "markdown",
   "id": "9549d185",
   "metadata": {
    "heading_collapsed": true,
    "hidden": true
   },
   "source": [
    "## 1.3 Data types"
   ]
  },
  {
   "cell_type": "code",
   "execution_count": 6,
   "id": "a19553d2",
   "metadata": {
    "ExecuteTime": {
     "end_time": "2021-12-03T15:50:31.199232Z",
     "start_time": "2021-12-03T15:50:31.186234Z"
    },
    "hidden": true
   },
   "outputs": [
    {
     "data": {
      "text/plain": [
       "invoice_no       object\n",
       "stock_code       object\n",
       "description      object\n",
       "quantity          int64\n",
       "invoice_date     object\n",
       "unit_price      float64\n",
       "customer_id     float64\n",
       "country          object\n",
       "dtype: object"
      ]
     },
     "execution_count": 6,
     "metadata": {},
     "output_type": "execute_result"
    }
   ],
   "source": [
    "df1.dtypes"
   ]
  },
  {
   "cell_type": "markdown",
   "id": "c211b60b",
   "metadata": {
    "heading_collapsed": true,
    "hidden": true
   },
   "source": [
    "## 1.4 Check NA"
   ]
  },
  {
   "cell_type": "code",
   "execution_count": 7,
   "id": "0b5a1a55",
   "metadata": {
    "ExecuteTime": {
     "end_time": "2021-12-03T15:50:31.313232Z",
     "start_time": "2021-12-03T15:50:31.200232Z"
    },
    "hidden": true
   },
   "outputs": [
    {
     "data": {
      "text/plain": [
       "invoice_no           0\n",
       "stock_code           0\n",
       "description       1454\n",
       "quantity             0\n",
       "invoice_date         0\n",
       "unit_price           0\n",
       "customer_id     135080\n",
       "country              0\n",
       "dtype: int64"
      ]
     },
     "execution_count": 7,
     "metadata": {},
     "output_type": "execute_result"
    }
   ],
   "source": [
    "df1.isna().sum()"
   ]
  },
  {
   "cell_type": "markdown",
   "id": "7e314cc3",
   "metadata": {
    "heading_collapsed": true,
    "hidden": true
   },
   "source": [
    "## 1.5 Replace NA\n"
   ]
  },
  {
   "cell_type": "code",
   "execution_count": 8,
   "id": "7667e086",
   "metadata": {
    "ExecuteTime": {
     "end_time": "2021-12-03T15:50:31.373232Z",
     "start_time": "2021-12-03T15:50:31.316232Z"
    },
    "hidden": true
   },
   "outputs": [],
   "source": [
    "df_missing = df1.loc[df1['customer_id'].isna(), :]\n",
    "df_not_missing = df1.loc[~df1['customer_id'].isna(), :]\n",
    "\n"
   ]
  },
  {
   "cell_type": "code",
   "execution_count": 9,
   "id": "7efe3dcf",
   "metadata": {
    "ExecuteTime": {
     "end_time": "2021-12-03T15:50:31.708233Z",
     "start_time": "2021-12-03T15:50:31.375233Z"
    },
    "hidden": true,
    "scrolled": true
   },
   "outputs": [
    {
     "data": {
      "text/html": [
       "<div>\n",
       "<style scoped>\n",
       "    .dataframe tbody tr th:only-of-type {\n",
       "        vertical-align: middle;\n",
       "    }\n",
       "\n",
       "    .dataframe tbody tr th {\n",
       "        vertical-align: top;\n",
       "    }\n",
       "\n",
       "    .dataframe thead th {\n",
       "        text-align: right;\n",
       "    }\n",
       "</style>\n",
       "<table border=\"1\" class=\"dataframe\">\n",
       "  <thead>\n",
       "    <tr style=\"text-align: right;\">\n",
       "      <th></th>\n",
       "      <th>invoice_no</th>\n",
       "      <th>stock_code</th>\n",
       "      <th>description</th>\n",
       "      <th>quantity</th>\n",
       "      <th>invoice_date</th>\n",
       "      <th>unit_price</th>\n",
       "      <th>country</th>\n",
       "      <th>customer_id</th>\n",
       "    </tr>\n",
       "  </thead>\n",
       "  <tbody>\n",
       "    <tr>\n",
       "      <th>0</th>\n",
       "      <td>536365</td>\n",
       "      <td>85123A</td>\n",
       "      <td>WHITE HANGING HEART T-LIGHT HOLDER</td>\n",
       "      <td>6</td>\n",
       "      <td>29-Nov-16</td>\n",
       "      <td>2.55</td>\n",
       "      <td>United Kingdom</td>\n",
       "      <td>17850.0</td>\n",
       "    </tr>\n",
       "    <tr>\n",
       "      <th>1</th>\n",
       "      <td>536365</td>\n",
       "      <td>71053</td>\n",
       "      <td>WHITE METAL LANTERN</td>\n",
       "      <td>6</td>\n",
       "      <td>29-Nov-16</td>\n",
       "      <td>3.39</td>\n",
       "      <td>United Kingdom</td>\n",
       "      <td>17850.0</td>\n",
       "    </tr>\n",
       "    <tr>\n",
       "      <th>2</th>\n",
       "      <td>536365</td>\n",
       "      <td>84406B</td>\n",
       "      <td>CREAM CUPID HEARTS COAT HANGER</td>\n",
       "      <td>8</td>\n",
       "      <td>29-Nov-16</td>\n",
       "      <td>2.75</td>\n",
       "      <td>United Kingdom</td>\n",
       "      <td>17850.0</td>\n",
       "    </tr>\n",
       "    <tr>\n",
       "      <th>3</th>\n",
       "      <td>536365</td>\n",
       "      <td>84029G</td>\n",
       "      <td>KNITTED UNION FLAG HOT WATER BOTTLE</td>\n",
       "      <td>6</td>\n",
       "      <td>29-Nov-16</td>\n",
       "      <td>3.39</td>\n",
       "      <td>United Kingdom</td>\n",
       "      <td>17850.0</td>\n",
       "    </tr>\n",
       "    <tr>\n",
       "      <th>4</th>\n",
       "      <td>536365</td>\n",
       "      <td>84029E</td>\n",
       "      <td>RED WOOLLY HOTTIE WHITE HEART.</td>\n",
       "      <td>6</td>\n",
       "      <td>29-Nov-16</td>\n",
       "      <td>3.39</td>\n",
       "      <td>United Kingdom</td>\n",
       "      <td>17850.0</td>\n",
       "    </tr>\n",
       "  </tbody>\n",
       "</table>\n",
       "</div>"
      ],
      "text/plain": [
       "  invoice_no stock_code                          description  quantity  \\\n",
       "0     536365     85123A   WHITE HANGING HEART T-LIGHT HOLDER         6   \n",
       "1     536365      71053                  WHITE METAL LANTERN         6   \n",
       "2     536365     84406B       CREAM CUPID HEARTS COAT HANGER         8   \n",
       "3     536365     84029G  KNITTED UNION FLAG HOT WATER BOTTLE         6   \n",
       "4     536365     84029E       RED WOOLLY HOTTIE WHITE HEART.         6   \n",
       "\n",
       "  invoice_date  unit_price         country  customer_id  \n",
       "0    29-Nov-16        2.55  United Kingdom      17850.0  \n",
       "1    29-Nov-16        3.39  United Kingdom      17850.0  \n",
       "2    29-Nov-16        2.75  United Kingdom      17850.0  \n",
       "3    29-Nov-16        3.39  United Kingdom      17850.0  \n",
       "4    29-Nov-16        3.39  United Kingdom      17850.0  "
      ]
     },
     "execution_count": 9,
     "metadata": {},
     "output_type": "execute_result"
    }
   ],
   "source": [
    "# create referance \n",
    "\n",
    "df_backup = pd.DataFrame(df_missing['invoice_no'].drop_duplicates())\n",
    "df_backup['customer_id'] = np.arange(19000 , 19000+len(df_backup), 1)\n",
    "df_backup.head()\n",
    "\n",
    "# merge original with reference dataframe\n",
    "df1 = pd.merge(df1, df_backup , on='invoice_no' , how='left')\n",
    "\n",
    "#coalesce\n",
    "df1['customer_id'] = df1['customer_id_x'].combine_first(df1['customer_id_y'])\n",
    "\n",
    "# drop extra columns\n",
    "\n",
    "df1 = df1.drop(columns=['customer_id_x' , 'customer_id_y' ] , axis = 1)\n",
    "\n",
    "df1.head()"
   ]
  },
  {
   "cell_type": "markdown",
   "id": "95a16fb4",
   "metadata": {
    "heading_collapsed": true,
    "hidden": true
   },
   "source": [
    "## 1.6 Changes dtypes\n"
   ]
  },
  {
   "cell_type": "code",
   "execution_count": 10,
   "id": "78c2128a",
   "metadata": {
    "ExecuteTime": {
     "end_time": "2021-12-03T15:50:31.788233Z",
     "start_time": "2021-12-03T15:50:31.711238Z"
    },
    "hidden": true
   },
   "outputs": [],
   "source": [
    "# invoice date\n",
    "\n",
    "df1['invoice_date'] = pd.to_datetime(df1['invoice_date'] , format='%d-%b-%y')\n",
    "\n",
    "# customer_id\n",
    "\n",
    "df1['customer_id'] = df1['customer_id'].astype('int64')\n"
   ]
  },
  {
   "cell_type": "markdown",
   "id": "f9115e6f",
   "metadata": {
    "heading_collapsed": true,
    "hidden": true
   },
   "source": [
    "## 1.7 Descriptive Statistics"
   ]
  },
  {
   "cell_type": "code",
   "execution_count": 11,
   "id": "53c369af",
   "metadata": {
    "ExecuteTime": {
     "end_time": "2021-12-03T15:50:31.820233Z",
     "start_time": "2021-12-03T15:50:31.789234Z"
    },
    "hidden": true
   },
   "outputs": [],
   "source": [
    "num_attributes = df1.select_dtypes(include=['int64' , 'float64'])\n",
    "cat_attributes = df1.select_dtypes(exclude=['int64' , 'float64','datetime64[ns]'])\n"
   ]
  },
  {
   "cell_type": "markdown",
   "id": "1fbd8b4e",
   "metadata": {
    "heading_collapsed": true,
    "hidden": true
   },
   "source": [
    "### 1.7.1 Numerical Attributs"
   ]
  },
  {
   "cell_type": "code",
   "execution_count": 12,
   "id": "e8d6356f",
   "metadata": {
    "ExecuteTime": {
     "end_time": "2021-12-03T15:50:31.962234Z",
     "start_time": "2021-12-03T15:50:31.821234Z"
    },
    "hidden": true
   },
   "outputs": [
    {
     "data": {
      "text/html": [
       "<div>\n",
       "<style scoped>\n",
       "    .dataframe tbody tr th:only-of-type {\n",
       "        vertical-align: middle;\n",
       "    }\n",
       "\n",
       "    .dataframe tbody tr th {\n",
       "        vertical-align: top;\n",
       "    }\n",
       "\n",
       "    .dataframe thead th {\n",
       "        text-align: right;\n",
       "    }\n",
       "</style>\n",
       "<table border=\"1\" class=\"dataframe\">\n",
       "  <thead>\n",
       "    <tr style=\"text-align: right;\">\n",
       "      <th></th>\n",
       "      <th>Attributes</th>\n",
       "      <th>min</th>\n",
       "      <th>max</th>\n",
       "      <th>range</th>\n",
       "      <th>mean</th>\n",
       "      <th>median</th>\n",
       "      <th>std</th>\n",
       "      <th>skew</th>\n",
       "      <th>kurtoses</th>\n",
       "    </tr>\n",
       "  </thead>\n",
       "  <tbody>\n",
       "    <tr>\n",
       "      <th>0</th>\n",
       "      <td>quantity</td>\n",
       "      <td>-80995.00</td>\n",
       "      <td>80995.0</td>\n",
       "      <td>161990.00</td>\n",
       "      <td>9.552250</td>\n",
       "      <td>3.00</td>\n",
       "      <td>218.080957</td>\n",
       "      <td>-0.264076</td>\n",
       "      <td>119769.160031</td>\n",
       "    </tr>\n",
       "    <tr>\n",
       "      <th>1</th>\n",
       "      <td>unit_price</td>\n",
       "      <td>-11062.06</td>\n",
       "      <td>38970.0</td>\n",
       "      <td>50032.06</td>\n",
       "      <td>4.611114</td>\n",
       "      <td>2.08</td>\n",
       "      <td>96.759764</td>\n",
       "      <td>186.506972</td>\n",
       "      <td>59005.719097</td>\n",
       "    </tr>\n",
       "    <tr>\n",
       "      <th>2</th>\n",
       "      <td>customer_id</td>\n",
       "      <td>12346.00</td>\n",
       "      <td>22709.0</td>\n",
       "      <td>10363.00</td>\n",
       "      <td>16688.840453</td>\n",
       "      <td>16249.00</td>\n",
       "      <td>2911.408666</td>\n",
       "      <td>0.487449</td>\n",
       "      <td>-0.804287</td>\n",
       "    </tr>\n",
       "  </tbody>\n",
       "</table>\n",
       "</div>"
      ],
      "text/plain": [
       "    Attributes       min      max      range          mean    median  \\\n",
       "0     quantity -80995.00  80995.0  161990.00      9.552250      3.00   \n",
       "1   unit_price -11062.06  38970.0   50032.06      4.611114      2.08   \n",
       "2  customer_id  12346.00  22709.0   10363.00  16688.840453  16249.00   \n",
       "\n",
       "           std        skew       kurtoses  \n",
       "0   218.080957   -0.264076  119769.160031  \n",
       "1    96.759764  186.506972   59005.719097  \n",
       "2  2911.408666    0.487449      -0.804287  "
      ]
     },
     "execution_count": 12,
     "metadata": {},
     "output_type": "execute_result"
    }
   ],
   "source": [
    "# central tendency - mean, median\n",
    "mean = pd.DataFrame(num_attributes.apply(np.mean)).T\n",
    "median = pd.DataFrame(num_attributes.apply(np.median)).T\n",
    "\n",
    "# dispersion - std , min , max , range , skew , kurtosis\n",
    "std = pd.DataFrame(num_attributes.apply(np.std)).T\n",
    "mi = pd.DataFrame(num_attributes.apply(np.min)).T\n",
    "ma = pd.DataFrame(num_attributes.apply(np.max)).T\n",
    "ran = pd.DataFrame(num_attributes.apply(lambda x: x.max() - x.min())).T\n",
    "skew = pd.DataFrame(num_attributes.apply(lambda x: x.skew())).T\n",
    "kurtosis = pd.DataFrame(num_attributes.apply(lambda x: x.kurtosis())).T\n",
    "\n",
    "# concatenate\n",
    "\n",
    "m = pd.concat([mi , ma ,ran, mean , median  , std,  skew ,  kurtosis]).T.reset_index()\n",
    "m.columns = ['Attributes' , 'min' , 'max', 'range', 'mean', 'median', 'std', 'skew', 'kurtoses']\n",
    "m"
   ]
  },
  {
   "cell_type": "markdown",
   "id": "12fc2e09",
   "metadata": {
    "hidden": true
   },
   "source": [
    "### 1.7.2 Categorical Attributs"
   ]
  },
  {
   "cell_type": "markdown",
   "id": "dd9bc352",
   "metadata": {
    "heading_collapsed": true,
    "hidden": true
   },
   "source": [
    "#### Invoice No"
   ]
  },
  {
   "cell_type": "code",
   "execution_count": 13,
   "id": "4d424932",
   "metadata": {
    "ExecuteTime": {
     "end_time": "2021-12-03T15:50:32.484234Z",
     "start_time": "2021-12-03T15:50:31.964233Z"
    },
    "hidden": true
   },
   "outputs": [
    {
     "name": "stdout",
     "output_type": "stream",
     "text": [
      "Total number of invoices: 9291\n",
      "Total number of negative quantity: 9291\n"
     ]
    }
   ],
   "source": [
    "# identificação:\n",
    "df_letter_invoices = df1.loc[df1['invoice_no'].apply(lambda x: bool(re.search('[^0-9]+', x))) , :]\n",
    "df_letter_invoices.head()\n",
    "\n",
    "print('Total number of invoices: {}'.format(len(df_letter_invoices)))\n",
    "print('Total number of negative quantity: {}'.format(len(df_letter_invoices['quantity'] < 0)))"
   ]
  },
  {
   "cell_type": "markdown",
   "id": "eab78bc0",
   "metadata": {
    "heading_collapsed": true,
    "hidden": true
   },
   "source": [
    "#### Stock Code"
   ]
  },
  {
   "cell_type": "code",
   "execution_count": 14,
   "id": "61902dad",
   "metadata": {
    "ExecuteTime": {
     "end_time": "2021-12-03T15:50:32.989233Z",
     "start_time": "2021-12-03T15:50:32.485234Z"
    },
    "hidden": true
   },
   "outputs": [
    {
     "data": {
      "text/plain": [
       "array(['POST', 'D', 'DOT', 'M', 'S', 'AMAZONFEE', 'm', 'DCGSSBOY',\n",
       "       'DCGSSGIRL', 'PADS', 'B', 'CRUK'], dtype=object)"
      ]
     },
     "execution_count": 14,
     "metadata": {},
     "output_type": "execute_result"
    }
   ],
   "source": [
    "# check stock code only characters\n",
    "df1.loc[cat_attributes['stock_code'].apply(lambda x: bool(re.search('^[a-zA-Z]+$', x))),'stock_code'].unique()\n",
    "\n",
    "# Ação:\n",
    "## 1. Remove stock_code in ['POST', 'D', 'DOT', 'M', 'S', 'AMAZONFEE', 'm', 'DCGSSBOY','DCGSSGIRL', 'PADS', 'B', 'CRUK']\n"
   ]
  },
  {
   "cell_type": "markdown",
   "id": "4e615a89",
   "metadata": {
    "heading_collapsed": true,
    "hidden": true
   },
   "source": [
    "#### Description"
   ]
  },
  {
   "cell_type": "code",
   "execution_count": 15,
   "id": "15311d8b",
   "metadata": {
    "ExecuteTime": {
     "end_time": "2021-12-03T15:50:33.004236Z",
     "start_time": "2021-12-03T15:50:32.990235Z"
    },
    "hidden": true
   },
   "outputs": [
    {
     "data": {
      "text/html": [
       "<div>\n",
       "<style scoped>\n",
       "    .dataframe tbody tr th:only-of-type {\n",
       "        vertical-align: middle;\n",
       "    }\n",
       "\n",
       "    .dataframe tbody tr th {\n",
       "        vertical-align: top;\n",
       "    }\n",
       "\n",
       "    .dataframe thead th {\n",
       "        text-align: right;\n",
       "    }\n",
       "</style>\n",
       "<table border=\"1\" class=\"dataframe\">\n",
       "  <thead>\n",
       "    <tr style=\"text-align: right;\">\n",
       "      <th></th>\n",
       "      <th>invoice_no</th>\n",
       "      <th>stock_code</th>\n",
       "      <th>description</th>\n",
       "      <th>quantity</th>\n",
       "      <th>invoice_date</th>\n",
       "      <th>unit_price</th>\n",
       "      <th>country</th>\n",
       "      <th>customer_id</th>\n",
       "    </tr>\n",
       "  </thead>\n",
       "  <tbody>\n",
       "    <tr>\n",
       "      <th>0</th>\n",
       "      <td>536365</td>\n",
       "      <td>85123A</td>\n",
       "      <td>WHITE HANGING HEART T-LIGHT HOLDER</td>\n",
       "      <td>6</td>\n",
       "      <td>2016-11-29</td>\n",
       "      <td>2.55</td>\n",
       "      <td>United Kingdom</td>\n",
       "      <td>17850</td>\n",
       "    </tr>\n",
       "    <tr>\n",
       "      <th>1</th>\n",
       "      <td>536365</td>\n",
       "      <td>71053</td>\n",
       "      <td>WHITE METAL LANTERN</td>\n",
       "      <td>6</td>\n",
       "      <td>2016-11-29</td>\n",
       "      <td>3.39</td>\n",
       "      <td>United Kingdom</td>\n",
       "      <td>17850</td>\n",
       "    </tr>\n",
       "    <tr>\n",
       "      <th>2</th>\n",
       "      <td>536365</td>\n",
       "      <td>84406B</td>\n",
       "      <td>CREAM CUPID HEARTS COAT HANGER</td>\n",
       "      <td>8</td>\n",
       "      <td>2016-11-29</td>\n",
       "      <td>2.75</td>\n",
       "      <td>United Kingdom</td>\n",
       "      <td>17850</td>\n",
       "    </tr>\n",
       "    <tr>\n",
       "      <th>3</th>\n",
       "      <td>536365</td>\n",
       "      <td>84029G</td>\n",
       "      <td>KNITTED UNION FLAG HOT WATER BOTTLE</td>\n",
       "      <td>6</td>\n",
       "      <td>2016-11-29</td>\n",
       "      <td>3.39</td>\n",
       "      <td>United Kingdom</td>\n",
       "      <td>17850</td>\n",
       "    </tr>\n",
       "    <tr>\n",
       "      <th>4</th>\n",
       "      <td>536365</td>\n",
       "      <td>84029E</td>\n",
       "      <td>RED WOOLLY HOTTIE WHITE HEART.</td>\n",
       "      <td>6</td>\n",
       "      <td>2016-11-29</td>\n",
       "      <td>3.39</td>\n",
       "      <td>United Kingdom</td>\n",
       "      <td>17850</td>\n",
       "    </tr>\n",
       "  </tbody>\n",
       "</table>\n",
       "</div>"
      ],
      "text/plain": [
       "  invoice_no stock_code                          description  quantity  \\\n",
       "0     536365     85123A   WHITE HANGING HEART T-LIGHT HOLDER         6   \n",
       "1     536365      71053                  WHITE METAL LANTERN         6   \n",
       "2     536365     84406B       CREAM CUPID HEARTS COAT HANGER         8   \n",
       "3     536365     84029G  KNITTED UNION FLAG HOT WATER BOTTLE         6   \n",
       "4     536365     84029E       RED WOOLLY HOTTIE WHITE HEART.         6   \n",
       "\n",
       "  invoice_date  unit_price         country  customer_id  \n",
       "0   2016-11-29        2.55  United Kingdom        17850  \n",
       "1   2016-11-29        3.39  United Kingdom        17850  \n",
       "2   2016-11-29        2.75  United Kingdom        17850  \n",
       "3   2016-11-29        3.39  United Kingdom        17850  \n",
       "4   2016-11-29        3.39  United Kingdom        17850  "
      ]
     },
     "execution_count": 15,
     "metadata": {},
     "output_type": "execute_result"
    }
   ],
   "source": [
    "df1.head()\n",
    "\n",
    "# Ação: Delete Description"
   ]
  },
  {
   "cell_type": "markdown",
   "id": "7436922e",
   "metadata": {
    "heading_collapsed": true,
    "hidden": true
   },
   "source": [
    "#### Country"
   ]
  },
  {
   "cell_type": "code",
   "execution_count": 16,
   "id": "7316a8a3",
   "metadata": {
    "ExecuteTime": {
     "end_time": "2021-12-03T15:50:33.051236Z",
     "start_time": "2021-12-03T15:50:33.005236Z"
    },
    "hidden": true,
    "scrolled": true
   },
   "outputs": [
    {
     "data": {
      "text/plain": [
       "38"
      ]
     },
     "execution_count": 16,
     "metadata": {},
     "output_type": "execute_result"
    }
   ],
   "source": [
    "len(df1['country'].unique())"
   ]
  },
  {
   "cell_type": "code",
   "execution_count": 17,
   "id": "ab69ce39",
   "metadata": {
    "ExecuteTime": {
     "end_time": "2021-12-03T15:50:33.097234Z",
     "start_time": "2021-12-03T15:50:33.053233Z"
    },
    "hidden": true
   },
   "outputs": [
    {
     "data": {
      "text/plain": [
       "United Kingdom          0.914320\n",
       "Germany                 0.017521\n",
       "France                  0.015790\n",
       "EIRE                    0.015124\n",
       "Spain                   0.004674\n",
       "Netherlands             0.004375\n",
       "Belgium                 0.003818\n",
       "Switzerland             0.003694\n",
       "Portugal                0.002803\n",
       "Australia               0.002323\n",
       "Norway                  0.002004\n",
       "Italy                   0.001482\n",
       "Channel Islands         0.001399\n",
       "Finland                 0.001283\n",
       "Cyprus                  0.001148\n",
       "Sweden                  0.000853\n",
       "Unspecified             0.000823\n",
       "Austria                 0.000740\n",
       "Denmark                 0.000718\n",
       "Japan                   0.000661\n",
       "Poland                  0.000629\n",
       "Israel                  0.000548\n",
       "USA                     0.000537\n",
       "Hong Kong               0.000531\n",
       "Singapore               0.000423\n",
       "Iceland                 0.000336\n",
       "Canada                  0.000279\n",
       "Greece                  0.000269\n",
       "Malta                   0.000234\n",
       "United Arab Emirates    0.000125\n",
       "European Community      0.000113\n",
       "RSA                     0.000107\n",
       "Lebanon                 0.000083\n",
       "Lithuania               0.000065\n",
       "Brazil                  0.000059\n",
       "Czech Republic          0.000055\n",
       "Bahrain                 0.000035\n",
       "Saudi Arabia            0.000018\n",
       "Name: country, dtype: float64"
      ]
     },
     "execution_count": 17,
     "metadata": {},
     "output_type": "execute_result"
    }
   ],
   "source": [
    "df1['country'].value_counts(normalize=True)"
   ]
  },
  {
   "cell_type": "code",
   "execution_count": 18,
   "id": "4962e02d",
   "metadata": {
    "ExecuteTime": {
     "end_time": "2021-12-03T15:50:33.191236Z",
     "start_time": "2021-12-03T15:50:33.098234Z"
    },
    "hidden": true
   },
   "outputs": [
    {
     "data": {
      "text/html": [
       "<div>\n",
       "<style scoped>\n",
       "    .dataframe tbody tr th:only-of-type {\n",
       "        vertical-align: middle;\n",
       "    }\n",
       "\n",
       "    .dataframe tbody tr th {\n",
       "        vertical-align: top;\n",
       "    }\n",
       "\n",
       "    .dataframe thead th {\n",
       "        text-align: right;\n",
       "    }\n",
       "</style>\n",
       "<table border=\"1\" class=\"dataframe\">\n",
       "  <thead>\n",
       "    <tr style=\"text-align: right;\">\n",
       "      <th></th>\n",
       "      <th>country</th>\n",
       "      <th>customer_id</th>\n",
       "    </tr>\n",
       "  </thead>\n",
       "  <tbody>\n",
       "    <tr>\n",
       "      <th>36</th>\n",
       "      <td>United Kingdom</td>\n",
       "      <td>7587</td>\n",
       "    </tr>\n",
       "    <tr>\n",
       "      <th>14</th>\n",
       "      <td>Germany</td>\n",
       "      <td>95</td>\n",
       "    </tr>\n",
       "    <tr>\n",
       "      <th>13</th>\n",
       "      <td>France</td>\n",
       "      <td>90</td>\n",
       "    </tr>\n",
       "    <tr>\n",
       "      <th>10</th>\n",
       "      <td>EIRE</td>\n",
       "      <td>44</td>\n",
       "    </tr>\n",
       "    <tr>\n",
       "      <th>31</th>\n",
       "      <td>Spain</td>\n",
       "      <td>31</td>\n",
       "    </tr>\n",
       "    <tr>\n",
       "      <th>3</th>\n",
       "      <td>Belgium</td>\n",
       "      <td>25</td>\n",
       "    </tr>\n",
       "    <tr>\n",
       "      <th>33</th>\n",
       "      <td>Switzerland</td>\n",
       "      <td>24</td>\n",
       "    </tr>\n",
       "    <tr>\n",
       "      <th>27</th>\n",
       "      <td>Portugal</td>\n",
       "      <td>20</td>\n",
       "    </tr>\n",
       "    <tr>\n",
       "      <th>19</th>\n",
       "      <td>Italy</td>\n",
       "      <td>15</td>\n",
       "    </tr>\n",
       "    <tr>\n",
       "      <th>16</th>\n",
       "      <td>Hong Kong</td>\n",
       "      <td>15</td>\n",
       "    </tr>\n",
       "    <tr>\n",
       "      <th>12</th>\n",
       "      <td>Finland</td>\n",
       "      <td>12</td>\n",
       "    </tr>\n",
       "    <tr>\n",
       "      <th>1</th>\n",
       "      <td>Austria</td>\n",
       "      <td>11</td>\n",
       "    </tr>\n",
       "    <tr>\n",
       "      <th>25</th>\n",
       "      <td>Norway</td>\n",
       "      <td>10</td>\n",
       "    </tr>\n",
       "    <tr>\n",
       "      <th>24</th>\n",
       "      <td>Netherlands</td>\n",
       "      <td>9</td>\n",
       "    </tr>\n",
       "    <tr>\n",
       "      <th>0</th>\n",
       "      <td>Australia</td>\n",
       "      <td>9</td>\n",
       "    </tr>\n",
       "    <tr>\n",
       "      <th>37</th>\n",
       "      <td>Unspecified</td>\n",
       "      <td>9</td>\n",
       "    </tr>\n",
       "    <tr>\n",
       "      <th>9</th>\n",
       "      <td>Denmark</td>\n",
       "      <td>9</td>\n",
       "    </tr>\n",
       "    <tr>\n",
       "      <th>6</th>\n",
       "      <td>Channel Islands</td>\n",
       "      <td>9</td>\n",
       "    </tr>\n",
       "    <tr>\n",
       "      <th>7</th>\n",
       "      <td>Cyprus</td>\n",
       "      <td>8</td>\n",
       "    </tr>\n",
       "    <tr>\n",
       "      <th>32</th>\n",
       "      <td>Sweden</td>\n",
       "      <td>8</td>\n",
       "    </tr>\n",
       "    <tr>\n",
       "      <th>20</th>\n",
       "      <td>Japan</td>\n",
       "      <td>8</td>\n",
       "    </tr>\n",
       "    <tr>\n",
       "      <th>18</th>\n",
       "      <td>Israel</td>\n",
       "      <td>7</td>\n",
       "    </tr>\n",
       "    <tr>\n",
       "      <th>26</th>\n",
       "      <td>Poland</td>\n",
       "      <td>6</td>\n",
       "    </tr>\n",
       "    <tr>\n",
       "      <th>5</th>\n",
       "      <td>Canada</td>\n",
       "      <td>4</td>\n",
       "    </tr>\n",
       "    <tr>\n",
       "      <th>34</th>\n",
       "      <td>USA</td>\n",
       "      <td>4</td>\n",
       "    </tr>\n",
       "    <tr>\n",
       "      <th>2</th>\n",
       "      <td>Bahrain</td>\n",
       "      <td>4</td>\n",
       "    </tr>\n",
       "    <tr>\n",
       "      <th>15</th>\n",
       "      <td>Greece</td>\n",
       "      <td>4</td>\n",
       "    </tr>\n",
       "    <tr>\n",
       "      <th>23</th>\n",
       "      <td>Malta</td>\n",
       "      <td>2</td>\n",
       "    </tr>\n",
       "    <tr>\n",
       "      <th>35</th>\n",
       "      <td>United Arab Emirates</td>\n",
       "      <td>2</td>\n",
       "    </tr>\n",
       "    <tr>\n",
       "      <th>8</th>\n",
       "      <td>Czech Republic</td>\n",
       "      <td>1</td>\n",
       "    </tr>\n",
       "    <tr>\n",
       "      <th>22</th>\n",
       "      <td>Lithuania</td>\n",
       "      <td>1</td>\n",
       "    </tr>\n",
       "    <tr>\n",
       "      <th>11</th>\n",
       "      <td>European Community</td>\n",
       "      <td>1</td>\n",
       "    </tr>\n",
       "    <tr>\n",
       "      <th>21</th>\n",
       "      <td>Lebanon</td>\n",
       "      <td>1</td>\n",
       "    </tr>\n",
       "    <tr>\n",
       "      <th>28</th>\n",
       "      <td>RSA</td>\n",
       "      <td>1</td>\n",
       "    </tr>\n",
       "    <tr>\n",
       "      <th>29</th>\n",
       "      <td>Saudi Arabia</td>\n",
       "      <td>1</td>\n",
       "    </tr>\n",
       "    <tr>\n",
       "      <th>30</th>\n",
       "      <td>Singapore</td>\n",
       "      <td>1</td>\n",
       "    </tr>\n",
       "    <tr>\n",
       "      <th>17</th>\n",
       "      <td>Iceland</td>\n",
       "      <td>1</td>\n",
       "    </tr>\n",
       "    <tr>\n",
       "      <th>4</th>\n",
       "      <td>Brazil</td>\n",
       "      <td>1</td>\n",
       "    </tr>\n",
       "  </tbody>\n",
       "</table>\n",
       "</div>"
      ],
      "text/plain": [
       "                 country  customer_id\n",
       "36        United Kingdom         7587\n",
       "14               Germany           95\n",
       "13                France           90\n",
       "10                  EIRE           44\n",
       "31                 Spain           31\n",
       "3                Belgium           25\n",
       "33           Switzerland           24\n",
       "27              Portugal           20\n",
       "19                 Italy           15\n",
       "16             Hong Kong           15\n",
       "12               Finland           12\n",
       "1                Austria           11\n",
       "25                Norway           10\n",
       "24           Netherlands            9\n",
       "0              Australia            9\n",
       "37           Unspecified            9\n",
       "9                Denmark            9\n",
       "6        Channel Islands            9\n",
       "7                 Cyprus            8\n",
       "32                Sweden            8\n",
       "20                 Japan            8\n",
       "18                Israel            7\n",
       "26                Poland            6\n",
       "5                 Canada            4\n",
       "34                   USA            4\n",
       "2                Bahrain            4\n",
       "15                Greece            4\n",
       "23                 Malta            2\n",
       "35  United Arab Emirates            2\n",
       "8         Czech Republic            1\n",
       "22             Lithuania            1\n",
       "11    European Community            1\n",
       "21               Lebanon            1\n",
       "28                   RSA            1\n",
       "29          Saudi Arabia            1\n",
       "30             Singapore            1\n",
       "17               Iceland            1\n",
       "4                 Brazil            1"
      ]
     },
     "execution_count": 18,
     "metadata": {},
     "output_type": "execute_result"
    }
   ],
   "source": [
    "df1[['customer_id' , 'country']].drop_duplicates().groupby('country').count().reset_index().sort_values('customer_id', ascending= False)"
   ]
  },
  {
   "cell_type": "markdown",
   "id": "77e23da2",
   "metadata": {
    "ExecuteTime": {
     "end_time": "2021-10-27T19:37:24.383790Z",
     "start_time": "2021-10-27T19:37:24.370791Z"
    },
    "heading_collapsed": true
   },
   "source": [
    "# <font color ='red'> 2.0 Filtragem de variaveis </font>"
   ]
  },
  {
   "cell_type": "code",
   "execution_count": 19,
   "id": "425abb24",
   "metadata": {
    "ExecuteTime": {
     "end_time": "2021-12-03T15:50:33.223236Z",
     "start_time": "2021-12-03T15:50:33.192234Z"
    },
    "hidden": true
   },
   "outputs": [],
   "source": [
    "df2 = df1.copy()"
   ]
  },
  {
   "cell_type": "code",
   "execution_count": 20,
   "id": "6ee778d7",
   "metadata": {
    "ExecuteTime": {
     "end_time": "2021-12-03T15:50:33.479234Z",
     "start_time": "2021-12-03T15:50:33.224237Z"
    },
    "hidden": true
   },
   "outputs": [],
   "source": [
    "# ==== Numerical Attributes ====\n",
    "\n",
    "# unit price > 0.0\n",
    "df2 = df2.loc[df2['unit_price'] > 0.04 , :]\n",
    "\n",
    "\n",
    "# ==== Categorical Attributes ====\n",
    "\n",
    "\n",
    "df2 = df2[~df2['stock_code'].isin(['POST', 'D', 'DOT', 'M', 'S', 'AMAZONFEE', 'm', 'DCGSSBOY','DCGSSGIRL', 'PADS', 'B', 'CRUK'])]\n",
    "\n",
    "# description\n",
    "df2 = df2.drop('description', axis =1)\n",
    "\n",
    "# map\n",
    "df2 = df2[~df2['country'].isin (['European Community' , 'Unspecified'])]\n",
    "\n",
    "# bad users\n",
    "df2 = df2[~df2['customer_id'].isin( [16446]) ]\n",
    "\n",
    "\n",
    "## quantity \n",
    "df2_returns = df2.loc[df2['quantity'] < 0, :]\n",
    "df2_purchase = df2.loc[df2['quantity'] >= 0, :]\n"
   ]
  },
  {
   "cell_type": "markdown",
   "id": "fdcf5e3f",
   "metadata": {
    "ExecuteTime": {
     "end_time": "2021-10-27T19:35:06.270967Z",
     "start_time": "2021-10-27T19:35:06.263969Z"
    },
    "heading_collapsed": true
   },
   "source": [
    "# <font color ='red'> 3.0 Feature Engeneering </font>"
   ]
  },
  {
   "cell_type": "code",
   "execution_count": 21,
   "id": "54093948",
   "metadata": {
    "ExecuteTime": {
     "end_time": "2021-12-03T15:50:33.495236Z",
     "start_time": "2021-12-03T15:50:33.480234Z"
    },
    "hidden": true
   },
   "outputs": [],
   "source": [
    "df3 = df2.copy()"
   ]
  },
  {
   "cell_type": "markdown",
   "id": "615e033b",
   "metadata": {
    "heading_collapsed": true,
    "hidden": true
   },
   "source": [
    "## 3.1 Feature Creation"
   ]
  },
  {
   "cell_type": "code",
   "execution_count": 22,
   "id": "76ab6e27",
   "metadata": {
    "ExecuteTime": {
     "end_time": "2021-12-03T15:50:33.527233Z",
     "start_time": "2021-12-03T15:50:33.496235Z"
    },
    "hidden": true
   },
   "outputs": [],
   "source": [
    "# data reference\n",
    "\n",
    "df_ref = df3.drop(['invoice_no','stock_code','quantity', 'invoice_date','unit_price','country'], axis = 1 ).drop_duplicates(ignore_index = True)\n"
   ]
  },
  {
   "cell_type": "markdown",
   "id": "928177d2",
   "metadata": {
    "hidden": true
   },
   "source": [
    "### 3.1.1. Gross Revenue"
   ]
  },
  {
   "cell_type": "code",
   "execution_count": 23,
   "id": "9f59c51c",
   "metadata": {
    "ExecuteTime": {
     "end_time": "2021-12-03T15:50:33.589234Z",
     "start_time": "2021-12-03T15:50:33.528233Z"
    },
    "hidden": true
   },
   "outputs": [
    {
     "data": {
      "text/plain": [
       "customer_id       0\n",
       "gross_revenue    91\n",
       "dtype: int64"
      ]
     },
     "execution_count": 23,
     "metadata": {},
     "output_type": "execute_result"
    }
   ],
   "source": [
    "# Gross Revenue ( Faturamento = quantity * price)\n",
    "df2_purchase.loc[: , 'gross_revenue'] = df2_purchase.loc[: , 'quantity'] * df2_purchase.loc[: , 'unit_price']\n",
    "\n",
    "df_monetary = df2_purchase.loc[: , ['customer_id' , 'gross_revenue']].groupby('customer_id').sum().reset_index()\n",
    "df_ref = pd.merge(df_ref, df_monetary,on='customer_id',how='left')\n",
    "\n",
    "df_ref.isna().sum()"
   ]
  },
  {
   "cell_type": "markdown",
   "id": "666c7266",
   "metadata": {
    "hidden": true
   },
   "source": [
    "### 3.1.2. Recency - Day from last purchase"
   ]
  },
  {
   "cell_type": "code",
   "execution_count": 24,
   "id": "53a0e533",
   "metadata": {
    "ExecuteTime": {
     "end_time": "2021-12-03T15:50:33.637233Z",
     "start_time": "2021-12-03T15:50:33.590236Z"
    },
    "hidden": true
   },
   "outputs": [
    {
     "data": {
      "text/plain": [
       "customer_id       0\n",
       "gross_revenue    91\n",
       "recency_days     91\n",
       "dtype: int64"
      ]
     },
     "execution_count": 24,
     "metadata": {},
     "output_type": "execute_result"
    }
   ],
   "source": [
    "# Recency - Last day purchase\n",
    "df_recency = df2_purchase.loc[: ,[ 'customer_id', 'invoice_date']].groupby('customer_id').max().reset_index()\n",
    "df_recency['recency_days'] = (df2['invoice_date'].max() - df_recency['invoice_date']).dt.days\n",
    "df_recency = df_recency[['customer_id','recency_days']].copy()\n",
    "df_ref = pd.merge(df_ref , df_recency , on='customer_id', how='left')\n",
    "df_ref.isna().sum()"
   ]
  },
  {
   "cell_type": "markdown",
   "id": "c98e3f45",
   "metadata": {
    "hidden": true
   },
   "source": [
    "### 3.1.3. Quantity of purchased"
   ]
  },
  {
   "cell_type": "code",
   "execution_count": 25,
   "id": "a01fffca",
   "metadata": {
    "ExecuteTime": {
     "end_time": "2021-12-03T15:50:33.717232Z",
     "start_time": "2021-12-03T15:50:33.638234Z"
    },
    "hidden": true,
    "scrolled": true
   },
   "outputs": [
    {
     "data": {
      "text/plain": [
       "customer_id       0\n",
       "gross_revenue    91\n",
       "recency_days     91\n",
       "qtde_invoices    91\n",
       "dtype: int64"
      ]
     },
     "execution_count": 25,
     "metadata": {},
     "output_type": "execute_result"
    }
   ],
   "source": [
    "# Numero de produtos\n",
    "df_freq = (df2_purchase.loc[: ,['customer_id','invoice_no']].drop_duplicates()\n",
    "                                                            .groupby('customer_id')\n",
    "                                                            .count()\n",
    "                                                            .reset_index()\n",
    "                                                            .rename(columns={'invoice_no' : 'qtde_invoices'}))\n",
    "\n",
    "df_ref = pd.merge(df_ref , df_freq , on='customer_id', how='left')\n",
    "df_ref.isna().sum()"
   ]
  },
  {
   "cell_type": "markdown",
   "id": "b5c9cac0",
   "metadata": {
    "hidden": true
   },
   "source": [
    "### 3.1.4. Quantity total of items purchased\n"
   ]
  },
  {
   "cell_type": "code",
   "execution_count": 26,
   "id": "868f2aff",
   "metadata": {
    "ExecuteTime": {
     "end_time": "2021-12-03T15:50:33.765233Z",
     "start_time": "2021-12-03T15:50:33.718232Z"
    },
    "hidden": true,
    "scrolled": false
   },
   "outputs": [
    {
     "data": {
      "text/plain": [
       "customer_id       0\n",
       "gross_revenue    91\n",
       "recency_days     91\n",
       "qtde_invoices    91\n",
       "qtde_items       91\n",
       "dtype: int64"
      ]
     },
     "execution_count": 26,
     "metadata": {},
     "output_type": "execute_result"
    }
   ],
   "source": [
    "df_freq = df2_purchase.loc[: ,['customer_id','quantity']].groupby('customer_id').sum().reset_index().rename(columns = {'quantity' : 'qtde_items'})\n",
    "df_ref = pd.merge(df_ref , df_freq , on='customer_id', how='left')\n",
    "df_ref.isna().sum()"
   ]
  },
  {
   "cell_type": "markdown",
   "id": "eb942651",
   "metadata": {
    "hidden": true
   },
   "source": [
    "### 3.1.5. Quantity of products purchased\n"
   ]
  },
  {
   "cell_type": "code",
   "execution_count": 27,
   "id": "82563d67",
   "metadata": {
    "ExecuteTime": {
     "end_time": "2021-12-03T15:50:33.827233Z",
     "start_time": "2021-12-03T15:50:33.768234Z"
    },
    "hidden": true,
    "scrolled": false
   },
   "outputs": [
    {
     "data": {
      "text/plain": [
       "customer_id       0\n",
       "gross_revenue    91\n",
       "recency_days     91\n",
       "qtde_invoices    91\n",
       "qtde_items       91\n",
       "qtde_products    91\n",
       "dtype: int64"
      ]
     },
     "execution_count": 27,
     "metadata": {},
     "output_type": "execute_result"
    }
   ],
   "source": [
    "df_freq = df2_purchase.loc[: ,['customer_id','stock_code']].groupby('customer_id').count().reset_index().rename(columns = {'stock_code' : 'qtde_products'})\n",
    "df_ref = pd.merge(df_ref , df_freq , on='customer_id', how='left')\n",
    "df_ref.isna().sum()"
   ]
  },
  {
   "cell_type": "markdown",
   "id": "cf3b90c6",
   "metadata": {
    "hidden": true
   },
   "source": [
    "### 3.1.6. Avg Ticket Value"
   ]
  },
  {
   "cell_type": "code",
   "execution_count": 28,
   "id": "5ced0c7b",
   "metadata": {
    "ExecuteTime": {
     "end_time": "2021-12-03T15:50:33.873233Z",
     "start_time": "2021-12-03T15:50:33.831232Z"
    },
    "hidden": true,
    "scrolled": true
   },
   "outputs": [
    {
     "data": {
      "text/plain": [
       "customer_id       0\n",
       "gross_revenue    91\n",
       "recency_days     91\n",
       "qtde_invoices    91\n",
       "qtde_items       91\n",
       "qtde_products    91\n",
       "avg_ticket       91\n",
       "dtype: int64"
      ]
     },
     "execution_count": 28,
     "metadata": {},
     "output_type": "execute_result"
    }
   ],
   "source": [
    "# Avg ticket\n",
    "df_avg_ticket = df2_purchase.loc[: ,['customer_id' , 'gross_revenue']].groupby('customer_id').mean().reset_index().rename(columns={'gross_revenue':'avg_ticket'})\n",
    "#df_avg_ticket['avg_ticket'] = np.round(df_avg_ticket['avg_ticket'] , 2)\n",
    "df_ref = pd.merge(df_ref, df_avg_ticket,on='customer_id',how='left')\n",
    "df_ref.isna().sum()"
   ]
  },
  {
   "cell_type": "markdown",
   "id": "073b744d",
   "metadata": {
    "hidden": true
   },
   "source": [
    "### 3.1.7. Avg Recency Days"
   ]
  },
  {
   "cell_type": "code",
   "execution_count": 29,
   "id": "c1aaa91d",
   "metadata": {
    "ExecuteTime": {
     "end_time": "2021-12-03T15:50:34.503233Z",
     "start_time": "2021-12-03T15:50:33.874233Z"
    },
    "hidden": true
   },
   "outputs": [
    {
     "data": {
      "text/plain": [
       "customer_id            0\n",
       "gross_revenue         91\n",
       "recency_days          91\n",
       "qtde_invoices         91\n",
       "qtde_items            91\n",
       "qtde_products         91\n",
       "avg_ticket            91\n",
       "avg_recency_days    2816\n",
       "dtype: int64"
      ]
     },
     "execution_count": 29,
     "metadata": {},
     "output_type": "execute_result"
    }
   ],
   "source": [
    "# Avarage recency days\n",
    "\n",
    "df_aux = df3[['customer_id', 'invoice_date']].drop_duplicates().sort_values(['customer_id', 'invoice_date'], ascending=['False' , 'False'])\n",
    "df_aux['next_customer_id'] = df_aux['customer_id'].shift() # next customer\n",
    "df_aux['previous_date'] = df_aux['invoice_date'].shift() # next invoice date\n",
    "\n",
    "\n",
    "df_aux['avg_recency_days'] = df_aux.apply(lambda x: (x['invoice_date'] - x['previous_date']).days if x['customer_id'] == x['next_customer_id'] else np.nan, axis =1)\n",
    "\n",
    "df_aux = df_aux.drop(['invoice_date' , 'next_customer_id' , 'previous_date'], axis = 1).dropna()\n",
    "\n",
    "# average rencecy\n",
    "df_avg_recency_days = df_aux.groupby('customer_id').mean().reset_index()\n",
    "\n",
    "# merge\n",
    "df_ref = pd.merge(df_ref , df_avg_recency_days, on='customer_id', how='left')\n",
    "\n",
    "df_ref.isna().sum()"
   ]
  },
  {
   "cell_type": "markdown",
   "id": "7046ed55",
   "metadata": {
    "hidden": true
   },
   "source": [
    "### 3.1.8. Frequency Purchase"
   ]
  },
  {
   "cell_type": "code",
   "execution_count": 30,
   "id": "abbefc9c",
   "metadata": {
    "ExecuteTime": {
     "end_time": "2021-12-03T15:50:34.533233Z",
     "start_time": "2021-12-03T15:50:34.504241Z"
    },
    "hidden": true
   },
   "outputs": [],
   "source": [
    "df3_purchase = df2_purchase.copy()"
   ]
  },
  {
   "cell_type": "code",
   "execution_count": 31,
   "id": "cd56dac1",
   "metadata": {
    "ExecuteTime": {
     "end_time": "2021-12-03T15:50:35.426231Z",
     "start_time": "2021-12-03T15:50:34.535234Z"
    },
    "hidden": true,
    "scrolled": false
   },
   "outputs": [
    {
     "data": {
      "text/plain": [
       "customer_id            0\n",
       "gross_revenue         91\n",
       "recency_days          91\n",
       "qtde_invoices         91\n",
       "qtde_items            91\n",
       "qtde_products         91\n",
       "avg_ticket            91\n",
       "avg_recency_days    2816\n",
       "frequency             91\n",
       "dtype: int64"
      ]
     },
     "execution_count": 31,
     "metadata": {},
     "output_type": "execute_result"
    }
   ],
   "source": [
    "df_aux = df3_purchase[['invoice_no','customer_id', 'invoice_date']].drop_duplicates().groupby('customer_id').agg(max_  = ('invoice_date', 'max'), \n",
    "                                                                                               min_  = ('invoice_date', 'min'), \n",
    "                                                                                               days_ = ('invoice_date', lambda x: (( x.max() - x.min() ).days)+ 1),\n",
    "                                                                                               buy_  = ('invoice_date', 'count')).reset_index()\n",
    "\n",
    "# Frequency \n",
    "df_aux['frequency'] = df_aux[['buy_', 'days_']].apply( lambda x: x['buy_'] / x['days_'] if x['days_'] != 0 else 0, axis = 1)\n",
    "\n",
    "# Merge\n",
    "df_ref = pd.merge(df_ref , df_aux[['customer_id', 'frequency']], on='customer_id', how = 'left')\n",
    "\n",
    "df_ref.isna().sum()"
   ]
  },
  {
   "cell_type": "markdown",
   "id": "80bafc63",
   "metadata": {
    "hidden": true
   },
   "source": [
    "### 3.1.9. Numbers of Returns"
   ]
  },
  {
   "cell_type": "code",
   "execution_count": 32,
   "id": "706e317c",
   "metadata": {
    "ExecuteTime": {
     "end_time": "2021-12-03T15:50:35.457233Z",
     "start_time": "2021-12-03T15:50:35.427231Z"
    },
    "hidden": true
   },
   "outputs": [
    {
     "data": {
      "text/plain": [
       "customer_id            0\n",
       "gross_revenue         91\n",
       "recency_days          91\n",
       "qtde_invoices         91\n",
       "qtde_items            91\n",
       "qtde_products         91\n",
       "avg_ticket            91\n",
       "avg_recency_days    2816\n",
       "frequency             91\n",
       "qtde_returns           0\n",
       "dtype: int64"
      ]
     },
     "execution_count": 32,
     "metadata": {},
     "output_type": "execute_result"
    }
   ],
   "source": [
    "df_returns = df2_returns[['customer_id' , 'quantity']].groupby('customer_id').sum().reset_index().rename( columns={'quantity' : 'qtde_returns'})\n",
    "df_returns['qtde_returns'] = df_returns['qtde_returns'] * -1\n",
    "df_ref = pd.merge(df_ref , df_returns, on ='customer_id' ,  how='left')\n",
    "\n",
    "df_ref.loc[df_ref['qtde_returns'].isna() , 'qtde_returns'] = 0\n",
    "df_ref.isna().sum()"
   ]
  },
  {
   "cell_type": "markdown",
   "id": "8bd81f5b",
   "metadata": {
    "hidden": true
   },
   "source": [
    "### 3.2.0.  Basket Size - Quantidade de items por cesta ( Quantity)"
   ]
  },
  {
   "cell_type": "code",
   "execution_count": 33,
   "id": "b2c863f4",
   "metadata": {
    "ExecuteTime": {
     "end_time": "2021-12-03T15:50:35.583233Z",
     "start_time": "2021-12-03T15:50:35.458266Z"
    },
    "hidden": true
   },
   "outputs": [
    {
     "data": {
      "text/plain": [
       "customer_id            0\n",
       "gross_revenue         91\n",
       "recency_days          91\n",
       "qtde_invoices         91\n",
       "qtde_items            91\n",
       "qtde_products         91\n",
       "avg_ticket            91\n",
       "avg_recency_days    2816\n",
       "frequency             91\n",
       "qtde_returns           0\n",
       "avg_basket_size       91\n",
       "dtype: int64"
      ]
     },
     "execution_count": 33,
     "metadata": {},
     "output_type": "execute_result"
    }
   ],
   "source": [
    "df_aux = df3_purchase.loc[: , ['customer_id' , 'invoice_no', 'quantity']].groupby('customer_id').agg(n_purchase =('invoice_no' , 'nunique'),\n",
    "                                                                                                     n_products=('quantity', 'sum')).reset_index()\n",
    "# Calculation\n",
    "df_aux['avg_basket_size'] = df_aux['n_products'] / df_aux['n_purchase']\n",
    "\n",
    "# merge\n",
    "df_ref = pd.merge(df_ref , df_aux[['customer_id' , 'avg_basket_size' ]] , on='customer_id', how='left')\n",
    "\n",
    "df_ref.isna().sum()"
   ]
  },
  {
   "cell_type": "markdown",
   "id": "7dcf7969",
   "metadata": {
    "hidden": true
   },
   "source": [
    "### 3.2.1. Unique Basket Size - Quantidade de produtos distintos por compra\n"
   ]
  },
  {
   "cell_type": "code",
   "execution_count": 34,
   "id": "6c0affd2",
   "metadata": {
    "ExecuteTime": {
     "end_time": "2021-12-03T15:50:35.915230Z",
     "start_time": "2021-12-03T15:50:35.585233Z"
    },
    "hidden": true
   },
   "outputs": [
    {
     "data": {
      "text/plain": [
       "customer_id                  0\n",
       "gross_revenue               91\n",
       "recency_days                91\n",
       "qtde_invoices               91\n",
       "qtde_items                  91\n",
       "qtde_products               91\n",
       "avg_ticket                  91\n",
       "avg_recency_days          2816\n",
       "frequency                   91\n",
       "qtde_returns                 0\n",
       "avg_basket_size             91\n",
       "avg_unique_basket_size      91\n",
       "dtype: int64"
      ]
     },
     "execution_count": 34,
     "metadata": {},
     "output_type": "execute_result"
    }
   ],
   "source": [
    "df_aux = df3_purchase.loc[: , ['customer_id' , 'invoice_no', 'stock_code']].groupby('customer_id').agg(n_purchase =('invoice_no' , 'nunique'),\n",
    "                                                                                                       n_products=('stock_code', 'nunique')).reset_index()\n",
    "\n",
    "\n",
    "# Calculation\n",
    "df_aux['avg_unique_basket_size'] = df_aux['n_products'] / df_aux['n_purchase']\n",
    "\n",
    "# merge\n",
    "df_ref = pd.merge(df_ref , df_aux[['customer_id' , 'avg_unique_basket_size' ]] , on='customer_id', how='left')\n",
    "\n",
    "df_ref.isna().sum()"
   ]
  },
  {
   "cell_type": "markdown",
   "id": "546b8575",
   "metadata": {
    "heading_collapsed": true
   },
   "source": [
    "# <font color ='red'> 4.0 EDA (Exploratory Data Analysis) </font>"
   ]
  },
  {
   "cell_type": "code",
   "execution_count": 35,
   "id": "bf89a0c7",
   "metadata": {
    "ExecuteTime": {
     "end_time": "2021-12-03T15:50:35.933230Z",
     "start_time": "2021-12-03T15:50:35.917230Z"
    },
    "hidden": true,
    "scrolled": true
   },
   "outputs": [],
   "source": [
    "df4 = df_ref.dropna().copy()"
   ]
  },
  {
   "cell_type": "markdown",
   "id": "34f2dedc",
   "metadata": {
    "hidden": true
   },
   "source": [
    "## 4.3 Estudo do espaço"
   ]
  },
  {
   "cell_type": "code",
   "execution_count": 36,
   "id": "6225e8b0",
   "metadata": {
    "ExecuteTime": {
     "end_time": "2021-12-03T15:50:35.947231Z",
     "start_time": "2021-12-03T15:50:35.936253Z"
    },
    "hidden": true
   },
   "outputs": [],
   "source": [
    "# Selected Dataset\n",
    "cols_selected = ['customer_id', 'gross_revenue','recency_days', 'qtde_products', 'frequency', 'qtde_returns' ]\n",
    "df43 = df4[cols_selected].copy()\n"
   ]
  },
  {
   "cell_type": "code",
   "execution_count": 37,
   "id": "ef85ff6a",
   "metadata": {
    "ExecuteTime": {
     "end_time": "2021-12-03T15:50:35.978231Z",
     "start_time": "2021-12-03T15:50:35.948242Z"
    },
    "hidden": true
   },
   "outputs": [],
   "source": [
    "mm = pp.MinMaxScaler()\n",
    "\n",
    "df43['gross_revenue']          = mm.fit_transform(df43[['gross_revenue']])\n",
    "df43['recency_days']           = mm.fit_transform(df43[['recency_days']])\n",
    "df43['qtde_products']          = mm.fit_transform(df43[['qtde_products']])\n",
    "df43['frequency']              = mm.fit_transform(df43[['frequency']])\n",
    "df43['qtde_returns']           = mm.fit_transform(df43[['qtde_returns']])\n",
    "\n",
    "\n",
    "X = df43.copy()\n"
   ]
  },
  {
   "cell_type": "code",
   "execution_count": 38,
   "id": "c1e62ef7",
   "metadata": {
    "ExecuteTime": {
     "end_time": "2021-12-03T15:50:35.993231Z",
     "start_time": "2021-12-03T15:50:35.979232Z"
    },
    "hidden": true
   },
   "outputs": [
    {
     "data": {
      "text/plain": [
       "(2968, 6)"
      ]
     },
     "execution_count": 38,
     "metadata": {},
     "output_type": "execute_result"
    }
   ],
   "source": [
    "X.shape"
   ]
  },
  {
   "cell_type": "markdown",
   "id": "78a53263",
   "metadata": {
    "hidden": true
   },
   "source": [
    "### 4.3.4 Tree-Based Embedding"
   ]
  },
  {
   "cell_type": "markdown",
   "id": "e1a9963b",
   "metadata": {
    "hidden": true
   },
   "source": [
    "não precisar fazer o minmaxscaler() para trabalhar com uma arvore"
   ]
  },
  {
   "cell_type": "code",
   "execution_count": 39,
   "id": "bde1f16c",
   "metadata": {
    "ExecuteTime": {
     "end_time": "2021-12-03T15:50:36.765231Z",
     "start_time": "2021-12-03T15:50:35.994232Z"
    },
    "hidden": true,
    "scrolled": true
   },
   "outputs": [],
   "source": [
    "# training dataset \n",
    "X = df43.drop(columns=['customer_id' , 'gross_revenue'], axis = 1)\n",
    "Y = df43['gross_revenue']\n",
    "\n",
    "# model definition\n",
    "rf_model = en.RandomForestRegressor(n_estimators = 100 , random_state = 42 )\n",
    "\n",
    "# model training\n",
    "rf_model.fit(X,Y)\n",
    "\n",
    "# dataframe Leaf\n",
    "df_leaf = pd.DataFrame(rf_model.apply(X))"
   ]
  },
  {
   "cell_type": "code",
   "execution_count": 40,
   "id": "07dac253",
   "metadata": {
    "ExecuteTime": {
     "end_time": "2021-12-03T15:50:50.528230Z",
     "start_time": "2021-12-03T15:50:36.767241Z"
    },
    "hidden": true
   },
   "outputs": [],
   "source": [
    "# reduzer dimensionality\n",
    "reducer = umap.UMAP(random_state = 42)\n",
    "embedding = reducer.fit_transform(df_leaf)\n",
    "\n",
    "\n",
    "# embedding\n",
    "df_tree = pd.DataFrame()\n",
    "df_tree['embedding_x'] = embedding[:,0]\n",
    "df_tree['embedding_y'] = embedding[:,1]\n",
    "\n"
   ]
  },
  {
   "cell_type": "code",
   "execution_count": 41,
   "id": "9422150f",
   "metadata": {
    "ExecuteTime": {
     "end_time": "2021-12-03T15:50:50.551231Z",
     "start_time": "2021-12-03T15:50:50.529231Z"
    },
    "hidden": true
   },
   "outputs": [],
   "source": [
    "df5 = df_tree.copy()"
   ]
  },
  {
   "cell_type": "code",
   "execution_count": 42,
   "id": "7e50ca37",
   "metadata": {
    "ExecuteTime": {
     "end_time": "2021-12-03T15:50:50.562231Z",
     "start_time": "2021-12-03T15:50:50.553231Z"
    },
    "hidden": true
   },
   "outputs": [],
   "source": [
    "df6 = df_tree.copy()"
   ]
  },
  {
   "cell_type": "markdown",
   "id": "7abe5726",
   "metadata": {
    "heading_collapsed": true
   },
   "source": [
    "# <font color ='red'> 5.0 Hyperparameter Fine-Tunning </font>"
   ]
  },
  {
   "cell_type": "code",
   "execution_count": 43,
   "id": "7eede1a0",
   "metadata": {
    "ExecuteTime": {
     "end_time": "2021-12-03T15:50:50.576232Z",
     "start_time": "2021-12-03T15:50:50.564233Z"
    },
    "hidden": true
   },
   "outputs": [],
   "source": [
    "x = df_tree.copy()"
   ]
  },
  {
   "cell_type": "markdown",
   "id": "c036e322",
   "metadata": {},
   "source": [
    "# <font color ='red'> 6.0 Model Training </font>"
   ]
  },
  {
   "cell_type": "code",
   "execution_count": 44,
   "id": "8db949bc",
   "metadata": {
    "ExecuteTime": {
     "end_time": "2021-12-03T15:50:50.598231Z",
     "start_time": "2021-12-03T15:50:50.578234Z"
    }
   },
   "outputs": [],
   "source": [
    "df8 = x.copy()"
   ]
  },
  {
   "cell_type": "markdown",
   "id": "c6ed5aae",
   "metadata": {},
   "source": [
    "## 6.1 GMM"
   ]
  },
  {
   "cell_type": "code",
   "execution_count": 45,
   "id": "39b57958",
   "metadata": {
    "ExecuteTime": {
     "end_time": "2021-12-03T15:50:50.672232Z",
     "start_time": "2021-12-03T15:50:50.600231Z"
    }
   },
   "outputs": [],
   "source": [
    "k = 9\n",
    "\n",
    "# model definition\n",
    "gmm_model = mx.GaussianMixture(n_components = k , random_state = 42)\n",
    "\n",
    "# model training\n",
    "gmm_model.fit(df8)\n",
    "\n",
    "# model predict\n",
    "labels = gmm_model.predict(df8)\n"
   ]
  },
  {
   "cell_type": "markdown",
   "id": "3d53591c",
   "metadata": {},
   "source": [
    "## 6.2 Cluster Validation"
   ]
  },
  {
   "cell_type": "code",
   "execution_count": 46,
   "id": "aa7c4fdd",
   "metadata": {
    "ExecuteTime": {
     "end_time": "2021-12-03T15:50:50.829233Z",
     "start_time": "2021-12-03T15:50:50.673232Z"
    }
   },
   "outputs": [
    {
     "name": "stdout",
     "output_type": "stream",
     "text": [
      "SS value: 0.6219987273216248\n"
     ]
    }
   ],
   "source": [
    "print('SS value: {}'.format(met.silhouette_score(df8, labels, metric='euclidean')))"
   ]
  },
  {
   "cell_type": "markdown",
   "id": "16d7dc87",
   "metadata": {},
   "source": [
    "# <font color ='red'> 7.0 Cluster Analysis </font>"
   ]
  },
  {
   "cell_type": "code",
   "execution_count": 85,
   "id": "4f251cdb",
   "metadata": {
    "ExecuteTime": {
     "end_time": "2021-12-04T04:55:08.179367Z",
     "start_time": "2021-12-04T04:55:08.165373Z"
    },
    "hide_input": false
   },
   "outputs": [],
   "source": [
    "df92 = df4[cols_selected].copy()\n",
    "df92['cluster'] = labels\n",
    "\n",
    "# change dtypes\n",
    "df92['recency_days'] = df92['recency_days'].astype('int64')\n",
    "df92['qtde_products'] = df92['qtde_products'].astype('int64')\n",
    "df92['qtde_returns'] = df92['qtde_returns'].astype('int64')\n",
    "\n",
    "df92['last_training_timestamp'] = datetime.now().strftime('%Y-%m-%d %H:%M:%S')"
   ]
  },
  {
   "cell_type": "code",
   "execution_count": 86,
   "id": "49d327a7",
   "metadata": {
    "ExecuteTime": {
     "end_time": "2021-12-04T04:55:25.326430Z",
     "start_time": "2021-12-04T04:55:25.310453Z"
    }
   },
   "outputs": [
    {
     "data": {
      "text/html": [
       "<div>\n",
       "<style scoped>\n",
       "    .dataframe tbody tr th:only-of-type {\n",
       "        vertical-align: middle;\n",
       "    }\n",
       "\n",
       "    .dataframe tbody tr th {\n",
       "        vertical-align: top;\n",
       "    }\n",
       "\n",
       "    .dataframe thead th {\n",
       "        text-align: right;\n",
       "    }\n",
       "</style>\n",
       "<table border=\"1\" class=\"dataframe\">\n",
       "  <thead>\n",
       "    <tr style=\"text-align: right;\">\n",
       "      <th></th>\n",
       "      <th>customer_id</th>\n",
       "      <th>gross_revenue</th>\n",
       "      <th>recency_days</th>\n",
       "      <th>qtde_products</th>\n",
       "      <th>frequency</th>\n",
       "      <th>qtde_returns</th>\n",
       "      <th>cluster</th>\n",
       "      <th>last_training_timestamp</th>\n",
       "    </tr>\n",
       "  </thead>\n",
       "  <tbody>\n",
       "    <tr>\n",
       "      <th>0</th>\n",
       "      <td>17850</td>\n",
       "      <td>5391.21</td>\n",
       "      <td>372</td>\n",
       "      <td>297</td>\n",
       "      <td>17.000000</td>\n",
       "      <td>40</td>\n",
       "      <td>4</td>\n",
       "      <td>2021-12-04 01:55:08</td>\n",
       "    </tr>\n",
       "    <tr>\n",
       "      <th>1</th>\n",
       "      <td>13047</td>\n",
       "      <td>3232.59</td>\n",
       "      <td>56</td>\n",
       "      <td>171</td>\n",
       "      <td>0.028302</td>\n",
       "      <td>35</td>\n",
       "      <td>5</td>\n",
       "      <td>2021-12-04 01:55:08</td>\n",
       "    </tr>\n",
       "    <tr>\n",
       "      <th>2</th>\n",
       "      <td>12583</td>\n",
       "      <td>6705.38</td>\n",
       "      <td>2</td>\n",
       "      <td>232</td>\n",
       "      <td>0.040323</td>\n",
       "      <td>50</td>\n",
       "      <td>4</td>\n",
       "      <td>2021-12-04 01:55:08</td>\n",
       "    </tr>\n",
       "    <tr>\n",
       "      <th>3</th>\n",
       "      <td>13748</td>\n",
       "      <td>948.25</td>\n",
       "      <td>95</td>\n",
       "      <td>28</td>\n",
       "      <td>0.017921</td>\n",
       "      <td>0</td>\n",
       "      <td>1</td>\n",
       "      <td>2021-12-04 01:55:08</td>\n",
       "    </tr>\n",
       "    <tr>\n",
       "      <th>4</th>\n",
       "      <td>15100</td>\n",
       "      <td>876.00</td>\n",
       "      <td>333</td>\n",
       "      <td>3</td>\n",
       "      <td>0.073171</td>\n",
       "      <td>22</td>\n",
       "      <td>7</td>\n",
       "      <td>2021-12-04 01:55:08</td>\n",
       "    </tr>\n",
       "  </tbody>\n",
       "</table>\n",
       "</div>"
      ],
      "text/plain": [
       "   customer_id  gross_revenue  recency_days  qtde_products  frequency  \\\n",
       "0        17850        5391.21           372            297  17.000000   \n",
       "1        13047        3232.59            56            171   0.028302   \n",
       "2        12583        6705.38             2            232   0.040323   \n",
       "3        13748         948.25            95             28   0.017921   \n",
       "4        15100         876.00           333              3   0.073171   \n",
       "\n",
       "   qtde_returns  cluster last_training_timestamp  \n",
       "0            40        4     2021-12-04 01:55:08  \n",
       "1            35        5     2021-12-04 01:55:08  \n",
       "2            50        4     2021-12-04 01:55:08  \n",
       "3             0        1     2021-12-04 01:55:08  \n",
       "4            22        7     2021-12-04 01:55:08  "
      ]
     },
     "execution_count": 86,
     "metadata": {},
     "output_type": "execute_result"
    }
   ],
   "source": [
    "df92.head()"
   ]
  },
  {
   "cell_type": "markdown",
   "id": "b70eba2e",
   "metadata": {},
   "source": [
    "## 7.2 Cluster Profile\n"
   ]
  },
  {
   "cell_type": "code",
   "execution_count": 49,
   "id": "2fecea82",
   "metadata": {
    "ExecuteTime": {
     "end_time": "2021-12-03T15:50:50.911231Z",
     "start_time": "2021-12-03T15:50:50.862234Z"
    },
    "hide_input": false,
    "scrolled": true
   },
   "outputs": [
    {
     "data": {
      "text/html": [
       "<div>\n",
       "<style scoped>\n",
       "    .dataframe tbody tr th:only-of-type {\n",
       "        vertical-align: middle;\n",
       "    }\n",
       "\n",
       "    .dataframe tbody tr th {\n",
       "        vertical-align: top;\n",
       "    }\n",
       "\n",
       "    .dataframe thead th {\n",
       "        text-align: right;\n",
       "    }\n",
       "</style>\n",
       "<table border=\"1\" class=\"dataframe\">\n",
       "  <thead>\n",
       "    <tr style=\"text-align: right;\">\n",
       "      <th></th>\n",
       "      <th>cluster</th>\n",
       "      <th>customer_id</th>\n",
       "      <th>perc_customers</th>\n",
       "      <th>gross_revenue</th>\n",
       "      <th>recency_days</th>\n",
       "      <th>qtde_products</th>\n",
       "      <th>frequency</th>\n",
       "      <th>qtde_returns</th>\n",
       "    </tr>\n",
       "  </thead>\n",
       "  <tbody>\n",
       "    <tr>\n",
       "      <th>0</th>\n",
       "      <td>0</td>\n",
       "      <td>360</td>\n",
       "      <td>12.129380</td>\n",
       "      <td>2395.119500</td>\n",
       "      <td>45.427778</td>\n",
       "      <td>127.066667</td>\n",
       "      <td>0.044792</td>\n",
       "      <td>26.866667</td>\n",
       "    </tr>\n",
       "    <tr>\n",
       "      <th>1</th>\n",
       "      <td>1</td>\n",
       "      <td>454</td>\n",
       "      <td>15.296496</td>\n",
       "      <td>905.233062</td>\n",
       "      <td>83.013216</td>\n",
       "      <td>32.784141</td>\n",
       "      <td>0.112710</td>\n",
       "      <td>12.323789</td>\n",
       "    </tr>\n",
       "    <tr>\n",
       "      <th>2</th>\n",
       "      <td>2</td>\n",
       "      <td>226</td>\n",
       "      <td>7.614555</td>\n",
       "      <td>565.176947</td>\n",
       "      <td>139.991150</td>\n",
       "      <td>18.681416</td>\n",
       "      <td>0.193812</td>\n",
       "      <td>2.893805</td>\n",
       "    </tr>\n",
       "    <tr>\n",
       "      <th>3</th>\n",
       "      <td>3</td>\n",
       "      <td>415</td>\n",
       "      <td>13.982480</td>\n",
       "      <td>1221.472892</td>\n",
       "      <td>61.371084</td>\n",
       "      <td>53.219277</td>\n",
       "      <td>0.042040</td>\n",
       "      <td>9.122892</td>\n",
       "    </tr>\n",
       "    <tr>\n",
       "      <th>4</th>\n",
       "      <td>4</td>\n",
       "      <td>468</td>\n",
       "      <td>15.768194</td>\n",
       "      <td>8835.897073</td>\n",
       "      <td>21.438034</td>\n",
       "      <td>424.087607</td>\n",
       "      <td>0.094571</td>\n",
       "      <td>149.271368</td>\n",
       "    </tr>\n",
       "    <tr>\n",
       "      <th>5</th>\n",
       "      <td>5</td>\n",
       "      <td>145</td>\n",
       "      <td>4.885445</td>\n",
       "      <td>3164.115448</td>\n",
       "      <td>34.427586</td>\n",
       "      <td>173.841379</td>\n",
       "      <td>0.060415</td>\n",
       "      <td>23.482759</td>\n",
       "    </tr>\n",
       "    <tr>\n",
       "      <th>6</th>\n",
       "      <td>6</td>\n",
       "      <td>404</td>\n",
       "      <td>13.611860</td>\n",
       "      <td>1689.073490</td>\n",
       "      <td>54.809406</td>\n",
       "      <td>89.175743</td>\n",
       "      <td>0.049992</td>\n",
       "      <td>11.542079</td>\n",
       "    </tr>\n",
       "    <tr>\n",
       "      <th>7</th>\n",
       "      <td>7</td>\n",
       "      <td>366</td>\n",
       "      <td>12.331536</td>\n",
       "      <td>546.596749</td>\n",
       "      <td>99.434426</td>\n",
       "      <td>11.368852</td>\n",
       "      <td>0.351427</td>\n",
       "      <td>8.789617</td>\n",
       "    </tr>\n",
       "    <tr>\n",
       "      <th>8</th>\n",
       "      <td>8</td>\n",
       "      <td>130</td>\n",
       "      <td>4.380054</td>\n",
       "      <td>4689.868615</td>\n",
       "      <td>47.407692</td>\n",
       "      <td>103.884615</td>\n",
       "      <td>0.057342</td>\n",
       "      <td>20.753846</td>\n",
       "    </tr>\n",
       "  </tbody>\n",
       "</table>\n",
       "</div>"
      ],
      "text/plain": [
       "   cluster  customer_id  perc_customers  gross_revenue  recency_days  \\\n",
       "0        0          360       12.129380    2395.119500     45.427778   \n",
       "1        1          454       15.296496     905.233062     83.013216   \n",
       "2        2          226        7.614555     565.176947    139.991150   \n",
       "3        3          415       13.982480    1221.472892     61.371084   \n",
       "4        4          468       15.768194    8835.897073     21.438034   \n",
       "5        5          145        4.885445    3164.115448     34.427586   \n",
       "6        6          404       13.611860    1689.073490     54.809406   \n",
       "7        7          366       12.331536     546.596749     99.434426   \n",
       "8        8          130        4.380054    4689.868615     47.407692   \n",
       "\n",
       "   qtde_products  frequency  qtde_returns  \n",
       "0     127.066667   0.044792     26.866667  \n",
       "1      32.784141   0.112710     12.323789  \n",
       "2      18.681416   0.193812      2.893805  \n",
       "3      53.219277   0.042040      9.122892  \n",
       "4     424.087607   0.094571    149.271368  \n",
       "5     173.841379   0.060415     23.482759  \n",
       "6      89.175743   0.049992     11.542079  \n",
       "7      11.368852   0.351427      8.789617  \n",
       "8     103.884615   0.057342     20.753846  "
      ]
     },
     "execution_count": 49,
     "metadata": {},
     "output_type": "execute_result"
    }
   ],
   "source": [
    "# Number of customer\n",
    "df_cluster = df92[['customer_id','cluster']].groupby('cluster').count().reset_index()\n",
    "df_cluster['perc_customers'] = 100*(df_cluster['customer_id'] / df_cluster['customer_id'].sum())\n",
    "\n",
    "# Avg Gross revenue\n",
    "df_avg_gross_revenue = df92[['gross_revenue','cluster']].groupby('cluster').mean().reset_index()\n",
    "df_cluster = pd.merge(df_cluster , df_avg_gross_revenue , how='inner' , on='cluster')\n",
    "\n",
    "# Avg recency days\n",
    "df_avg_recency_days = df92[['recency_days','cluster']].groupby('cluster').mean().reset_index()\n",
    "df_cluster = pd.merge(df_cluster , df_avg_recency_days , how='inner' , on='cluster')\n",
    "\n",
    "# Avg invoice_no\n",
    "df_qtde_products = df92[['qtde_products','cluster']].groupby('cluster').mean().reset_index()\n",
    "df_cluster = pd.merge(df_cluster , df_qtde_products , how='inner' , on='cluster')\n",
    "\n",
    "# Frequency\n",
    "df_frequency = df92[['frequency','cluster']].groupby('cluster').mean().reset_index()\n",
    "df_cluster = pd.merge(df_cluster , df_frequency , how='inner' , on='cluster')\n",
    "\n",
    "# Returns\n",
    "df_qtde_returns = df92[['qtde_returns','cluster']].groupby('cluster').mean().reset_index()\n",
    "df_cluster = pd.merge(df_cluster , df_qtde_returns , how='inner' , on='cluster')\n",
    "\n",
    "\n",
    "df_cluster"
   ]
  },
  {
   "cell_type": "code",
   "execution_count": 50,
   "id": "feabdf89",
   "metadata": {
    "ExecuteTime": {
     "end_time": "2021-12-03T15:50:50.927231Z",
     "start_time": "2021-12-03T15:50:50.913231Z"
    }
   },
   "outputs": [],
   "source": [
    "# 4 cluster Insiders\n",
    "# 8 cluster more products\n",
    "# 5 cluster spend money\n",
    "# 0 cluster even more products\n",
    "# 6 cluster less days\n",
    "# 3 cluster less 1k\n",
    "# 1 cluster Stop Returners\n",
    "# 2 cluster more buy\n",
    "# 7 cluster even more bu6"
   ]
  },
  {
   "cell_type": "markdown",
   "id": "9de02b54",
   "metadata": {},
   "source": [
    "### Cluster 01: ( Candidato a Insiders)\n",
    "\n",
    "    - Número de customers: 468 (16% do customers)\n",
    "    - Faturamento médio: 8836\n",
    "    - Recência média: 21 dias \n",
    "    - Média de produtos comprados: 424 produtos\n",
    "    - Frequência de produtos comprados: 0.09 produtos/dia\n",
    "    - Receita em média: $ 8835.90,00 dólares\n",
    "    \n",
    "### Cluster 02: \n",
    "\n",
    "    - Número de customers: 31 (0.71% do customers)\n",
    "    - Recência em média: 14 dias \n",
    "    - Compras em média: 53 compras\n",
    "    - Receita em média: $ 40.543,52 dólares\n",
    "\n",
    "### Cluster 03: \n",
    "\n",
    "    - Número de customers: 4.335 (99.15% do customers)\n",
    "    - Recência em média: 92 dias \n",
    "    - Compras em média: 5 compras\n",
    "    - Receita em média: $ 1.372,57 dólares"
   ]
  },
  {
   "cell_type": "markdown",
   "id": "44b0219f",
   "metadata": {},
   "source": [
    "# <font color ='red'> 8.0 Deploy to production </font>"
   ]
  },
  {
   "cell_type": "code",
   "execution_count": 59,
   "id": "7132112f",
   "metadata": {
    "ExecuteTime": {
     "end_time": "2021-12-03T18:30:23.740371Z",
     "start_time": "2021-12-03T18:30:23.732371Z"
    },
    "scrolled": true
   },
   "outputs": [
    {
     "data": {
      "text/plain": [
       "customer_id        int64\n",
       "gross_revenue    float64\n",
       "recency_days       int64\n",
       "qtde_products      int64\n",
       "frequency        float64\n",
       "qtde_returns       int64\n",
       "cluster            int64\n",
       "dtype: object"
      ]
     },
     "execution_count": 59,
     "metadata": {},
     "output_type": "execute_result"
    }
   ],
   "source": [
    "df92.dtypes"
   ]
  },
  {
   "cell_type": "markdown",
   "id": "5bfee546",
   "metadata": {},
   "source": [
    "## 8.1. Insert into SQLITE"
   ]
  },
  {
   "cell_type": "code",
   "execution_count": 79,
   "id": "b757fdc4",
   "metadata": {
    "ExecuteTime": {
     "end_time": "2021-12-03T21:50:09.444420Z",
     "start_time": "2021-12-03T21:50:09.427422Z"
    }
   },
   "outputs": [],
   "source": [
    "# create Table\n",
    "# query_create_table_insiders = \"\"\"\n",
    "#     CREATE TABLE Insiders (\n",
    "#         customer_id        INTEGER,\n",
    "#         gross_revenue      REAL,\n",
    "#         recency_days       INTEGER,\n",
    "#         qtde_products      INTEGER,\n",
    "#         frequency          REAL,\n",
    "#         qtde_returns       INTEGER,\n",
    "#         cluster            INTEGER\n",
    "#      )\n",
    "\n",
    "# \"\"\"\n",
    "\n",
    "# conn = sqlite3.connect('insiders_db.sqlite')\n",
    "# conn.execute(query_create_table_insiders)\n",
    "# conn.commit()\n",
    "# conn.close()\n",
    "\n",
    "# insert data\n",
    "conn = create_engine('sqlite:///insiders_db.sqlite')\n",
    "# df92.to_sql('insiders' , con = conn, if_exists='append', index=False)\n",
    "\n",
    "# select data "
   ]
  },
  {
   "cell_type": "code",
   "execution_count": 80,
   "id": "da6571f5",
   "metadata": {
    "ExecuteTime": {
     "end_time": "2021-12-03T21:50:12.099624Z",
     "start_time": "2021-12-03T21:50:12.065596Z"
    }
   },
   "outputs": [],
   "source": [
    "# consulting database\n",
    "query = \"\"\"\n",
    "    SELECT * FROM Insiders\n",
    "\"\"\"\n",
    "\n",
    "\n",
    "df = pd.read_sql_query(query , conn)"
   ]
  },
  {
   "cell_type": "code",
   "execution_count": 81,
   "id": "160755b3",
   "metadata": {
    "ExecuteTime": {
     "end_time": "2021-12-03T21:50:13.231745Z",
     "start_time": "2021-12-03T21:50:13.219749Z"
    }
   },
   "outputs": [
    {
     "data": {
      "text/html": [
       "<div>\n",
       "<style scoped>\n",
       "    .dataframe tbody tr th:only-of-type {\n",
       "        vertical-align: middle;\n",
       "    }\n",
       "\n",
       "    .dataframe tbody tr th {\n",
       "        vertical-align: top;\n",
       "    }\n",
       "\n",
       "    .dataframe thead th {\n",
       "        text-align: right;\n",
       "    }\n",
       "</style>\n",
       "<table border=\"1\" class=\"dataframe\">\n",
       "  <thead>\n",
       "    <tr style=\"text-align: right;\">\n",
       "      <th></th>\n",
       "      <th>customer_id</th>\n",
       "      <th>gross_revenue</th>\n",
       "      <th>recency_days</th>\n",
       "      <th>qtde_products</th>\n",
       "      <th>frequency</th>\n",
       "      <th>qtde_returns</th>\n",
       "      <th>cluster</th>\n",
       "    </tr>\n",
       "  </thead>\n",
       "  <tbody>\n",
       "    <tr>\n",
       "      <th>0</th>\n",
       "      <td>17850</td>\n",
       "      <td>5391.21</td>\n",
       "      <td>372</td>\n",
       "      <td>297</td>\n",
       "      <td>17.000000</td>\n",
       "      <td>40</td>\n",
       "      <td>4</td>\n",
       "    </tr>\n",
       "    <tr>\n",
       "      <th>1</th>\n",
       "      <td>13047</td>\n",
       "      <td>3232.59</td>\n",
       "      <td>56</td>\n",
       "      <td>171</td>\n",
       "      <td>0.028302</td>\n",
       "      <td>35</td>\n",
       "      <td>5</td>\n",
       "    </tr>\n",
       "    <tr>\n",
       "      <th>2</th>\n",
       "      <td>12583</td>\n",
       "      <td>6705.38</td>\n",
       "      <td>2</td>\n",
       "      <td>232</td>\n",
       "      <td>0.040323</td>\n",
       "      <td>50</td>\n",
       "      <td>4</td>\n",
       "    </tr>\n",
       "    <tr>\n",
       "      <th>3</th>\n",
       "      <td>13748</td>\n",
       "      <td>948.25</td>\n",
       "      <td>95</td>\n",
       "      <td>28</td>\n",
       "      <td>0.017921</td>\n",
       "      <td>0</td>\n",
       "      <td>1</td>\n",
       "    </tr>\n",
       "    <tr>\n",
       "      <th>4</th>\n",
       "      <td>15100</td>\n",
       "      <td>876.00</td>\n",
       "      <td>333</td>\n",
       "      <td>3</td>\n",
       "      <td>0.073171</td>\n",
       "      <td>22</td>\n",
       "      <td>7</td>\n",
       "    </tr>\n",
       "  </tbody>\n",
       "</table>\n",
       "</div>"
      ],
      "text/plain": [
       "   customer_id  gross_revenue  recency_days  qtde_products  frequency  \\\n",
       "0        17850        5391.21           372            297  17.000000   \n",
       "1        13047        3232.59            56            171   0.028302   \n",
       "2        12583        6705.38             2            232   0.040323   \n",
       "3        13748         948.25            95             28   0.017921   \n",
       "4        15100         876.00           333              3   0.073171   \n",
       "\n",
       "   qtde_returns  cluster  \n",
       "0            40        4  \n",
       "1            35        5  \n",
       "2            50        4  \n",
       "3             0        1  \n",
       "4            22        7  "
      ]
     },
     "execution_count": 81,
     "metadata": {},
     "output_type": "execute_result"
    }
   ],
   "source": [
    "df.head()"
   ]
  },
  {
   "cell_type": "code",
   "execution_count": 83,
   "id": "9559cbfc",
   "metadata": {
    "ExecuteTime": {
     "end_time": "2021-12-03T21:50:38.956595Z",
     "start_time": "2021-12-03T21:50:38.944596Z"
    }
   },
   "outputs": [
    {
     "data": {
      "text/plain": [
       "(2968, 7)"
      ]
     },
     "execution_count": 83,
     "metadata": {},
     "output_type": "execute_result"
    }
   ],
   "source": [
    "df.shape"
   ]
  },
  {
   "cell_type": "code",
   "execution_count": null,
   "id": "6fbe5b6e",
   "metadata": {},
   "outputs": [],
   "source": []
  },
  {
   "cell_type": "code",
   "execution_count": null,
   "id": "ccc38f38",
   "metadata": {},
   "outputs": [],
   "source": []
  }
 ],
 "metadata": {
  "gist": {
   "data": {
    "description": "repositorio/pa005_insiders_clustering/insiders_clustering/notebooks/c3.0-fsp-metrics.ipynb",
    "public": false
   },
   "id": ""
  },
  "kernelspec": {
   "display_name": "Python 3 (ipykernel)",
   "language": "python",
   "name": "python3"
  },
  "language_info": {
   "codemirror_mode": {
    "name": "ipython",
    "version": 3
   },
   "file_extension": ".py",
   "mimetype": "text/x-python",
   "name": "python",
   "nbconvert_exporter": "python",
   "pygments_lexer": "ipython3",
   "version": "3.9.7"
  },
  "toc": {
   "base_numbering": 1,
   "nav_menu": {
    "height": "430px",
    "width": "202px"
   },
   "number_sections": false,
   "sideBar": true,
   "skip_h1_title": false,
   "title_cell": "Table of Contents",
   "title_sidebar": "Contents",
   "toc_cell": false,
   "toc_position": {
    "height": "calc(100% - 180px)",
    "left": "10px",
    "top": "150px",
    "width": "384px"
   },
   "toc_section_display": true,
   "toc_window_display": false
  },
  "varInspector": {
   "cols": {
    "lenName": 16,
    "lenType": 16,
    "lenVar": 40
   },
   "kernels_config": {
    "python": {
     "delete_cmd_postfix": "",
     "delete_cmd_prefix": "del ",
     "library": "var_list.py",
     "varRefreshCmd": "print(var_dic_list())"
    },
    "r": {
     "delete_cmd_postfix": ") ",
     "delete_cmd_prefix": "rm(",
     "library": "var_list.r",
     "varRefreshCmd": "cat(var_dic_list()) "
    }
   },
   "position": {
    "height": "831px",
    "left": "1033px",
    "right": "20px",
    "top": "15px",
    "width": "798px"
   },
   "types_to_exclude": [
    "module",
    "function",
    "builtin_function_or_method",
    "instance",
    "_Feature"
   ],
   "window_display": false
  }
 },
 "nbformat": 4,
 "nbformat_minor": 5
}
