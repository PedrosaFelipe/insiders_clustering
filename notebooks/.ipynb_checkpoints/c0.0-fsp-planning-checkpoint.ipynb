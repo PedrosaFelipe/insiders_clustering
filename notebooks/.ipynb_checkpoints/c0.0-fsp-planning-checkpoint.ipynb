{
 "cells": [
  {
   "cell_type": "markdown",
   "id": "2a754125",
   "metadata": {},
   "source": [
    "# PA005: High Value Customer Identification ( Insiders )"
   ]
  },
  {
   "cell_type": "markdown",
   "id": "898163e8",
   "metadata": {},
   "source": [
    "## 0.0. Planejamento da solução (IOT)"
   ]
  },
  {
   "cell_type": "markdown",
   "id": "15d46bab",
   "metadata": {
    "heading_collapsed": true
   },
   "source": [
    "### Input "
   ]
  },
  {
   "cell_type": "markdown",
   "id": "9e95cdff",
   "metadata": {
    "hidden": true
   },
   "source": [
    "1. Problema de Negócio \n",
    "    - Selecionar os clientes mais valiosos para integrar um programa de Fidelização.\n",
    "    \n",
    "    \n",
    "2. Conjunto de dados\n",
    "    - Vendas de um e-commerce online, durante um periodo de um ano."
   ]
  },
  {
   "cell_type": "markdown",
   "id": "cb96185e",
   "metadata": {
    "heading_collapsed": true
   },
   "source": [
    "### Output"
   ]
  },
  {
   "cell_type": "markdown",
   "id": "0c5dad73",
   "metadata": {
    "hidden": true
   },
   "source": [
    "1. A indicação das pessoas que farão parte do programa de Insiders\n",
    "    - Lista:\n",
    "             cliente_id | is_insiders |\n",
    "               10233    |    yes/1    |\n",
    "               32456    |     no/0    | \n",
    "                \n",
    "                \n",
    "2. Relatório com as respostas das perguntas de negócio:\n",
    "    - Quem são as pessoas elegíveis para participar do programa de Insiders ?\n",
    "    - Quantos clientes farão parte do grupo?\n",
    "    - Quais as principais características desses clientes ?\n",
    "    - Qual a porcentagem de contribuição do faturamento, vinda do Insiders ?\n",
    "    - Qual a expectativa de faturamento desse grupo para os próximos meses ?\n",
    "    - Quais as condições para uma pessoa ser elegível ao Insiders ?\n",
    "    - Quais as condições para uma pessoa ser removida do Insiders ?\n",
    "    - Qual a garantia que o programa Insiders é melhor que o restante da base ?\n",
    "    - Quais ações o time de marketing pode realizar para aumentar o faturamento?\n",
    "\n",
    "    "
   ]
  },
  {
   "cell_type": "markdown",
   "id": "ace909ad",
   "metadata": {
    "heading_collapsed": true
   },
   "source": [
    "### Tasks"
   ]
  },
  {
   "cell_type": "markdown",
   "id": "fe668dd3",
   "metadata": {
    "hidden": true
   },
   "source": [
    "1. Quem são as pessoas elegíveis para participar do programa de Insiders ?\n",
    "    - O que é ser elegíve? O qe são clientes de maior \"valor\" ?\n",
    "    - Faturamento:\n",
    "         - Alto Ticket médio\n",
    "         - Alto LTV\n",
    "         - Baixa Recência\n",
    "         - Alta basket size\n",
    "         - Baixa probabilidade de churn\n",
    "         - Alta previsão de LTV\n",
    "         - Alta propensão de compra\n",
    "         \n",
    "         \n",
    "  - Custo:\n",
    "      - Baixa taxa de devolução\n",
    "      \n",
    "      \n",
    "- Experiência de compra:\n",
    "     - Média alta das avaiações\n",
    "    \n",
    "\n",
    "2. Quantos clientes farão parte do grupo?\n",
    "     - Número total de clientes\n",
    "     - % do grupo Insiders\n",
    "     \n",
    "     \n",
    "3. Quais as principais características desses clientes ?\n",
    "    - Escverer caracteristicas do cliente:\n",
    "         - Idade\n",
    "         - Localização\n",
    "         \n",
    "    - Escrever caracteristicas do consumo \n",
    "         - Atributos da clusterização\n",
    "    \n",
    "    \n",
    "4. Qual a porcentagem de contribuição do faturamento, vinda do Insiders ?\n",
    "\n",
    "   - Calcular o faturamento total da empresa durante o ano.\n",
    "   - Calcular o faturamento (%) apenas do cluster Insiders.\n",
    "   \n",
    "   \n",
    "5. Qual a expectativa de faturamento desse grupo para os próximos meses ?\n",
    "\n",
    "    - Cálculo do LTV do grupo Insiders - > Séries Temporais ( ARMA, ARIMA, HoltWinter, etc )\n",
    "    - Análise de Cohort\n",
    "\n",
    "\n",
    "6. Quais as condições para uma pessoa ser elegível ao Insiders ?\n",
    "\n",
    "      - Definir a periodicidade(1 mês , 3 meses)\n",
    "      - O \"desempenho\" do cliente está próximo da média do cluster Insiders\n",
    "      - A pessoa precisa ser similar ou parecida com uma outra pessoa do grupo\n",
    "    \n",
    "    \n",
    "7. Quais as condições para uma pessoa ser removida do Insiders ?\n",
    "\n",
    "    - Definir a periodicidade(1 mês , 3 meses)\n",
    "    - O \"desempenho\" do cliente não está mais próximo da média do cluster Insiders.\n",
    "    \n",
    "    \n",
    "8. Qual a garantia que o programa Insiders é melhor que o restante da base ?\n",
    "\n",
    "    - Teste de Hipóteses\n",
    "    - Teste A/B\n",
    "    - Teste A/B Bayesiano\n",
    "\n",
    "    \n",
    "9. Quais ações o time de marketing pode realizar para aumentar o faturamento?\n",
    "\n",
    "   - Descontos\n",
    "   - Preferências de compra\n",
    "   - Produtos exclusivos\n",
    "   - Visita a empresa\n",
    "   - Sem frete"
   ]
  },
  {
   "cell_type": "markdown",
   "id": "c2b7fc42",
   "metadata": {
    "hidden": true
   },
   "source": []
  },
  {
   "cell_type": "code",
   "execution_count": null,
   "id": "8ea67566",
   "metadata": {
    "hidden": true
   },
   "outputs": [],
   "source": []
  },
  {
   "cell_type": "code",
   "execution_count": null,
   "id": "4733dd22",
   "metadata": {
    "hidden": true
   },
   "outputs": [],
   "source": []
  },
  {
   "cell_type": "code",
   "execution_count": null,
   "id": "81938711",
   "metadata": {
    "hidden": true
   },
   "outputs": [],
   "source": []
  },
  {
   "cell_type": "code",
   "execution_count": null,
   "id": "f41f13a2",
   "metadata": {
    "hidden": true
   },
   "outputs": [],
   "source": []
  },
  {
   "cell_type": "code",
   "execution_count": null,
   "id": "5bfa3580",
   "metadata": {
    "hidden": true
   },
   "outputs": [],
   "source": []
  },
  {
   "cell_type": "code",
   "execution_count": null,
   "id": "14a2d749",
   "metadata": {
    "hidden": true
   },
   "outputs": [],
   "source": []
  },
  {
   "cell_type": "code",
   "execution_count": null,
   "id": "2d51bfe3",
   "metadata": {
    "hidden": true
   },
   "outputs": [],
   "source": []
  }
 ],
 "metadata": {
  "kernelspec": {
   "display_name": "Python 3 (ipykernel)",
   "language": "python",
   "name": "python3"
  },
  "language_info": {
   "codemirror_mode": {
    "name": "ipython",
    "version": 3
   },
   "file_extension": ".py",
   "mimetype": "text/x-python",
   "name": "python",
   "nbconvert_exporter": "python",
   "pygments_lexer": "ipython3",
   "version": "3.9.7"
  },
  "toc": {
   "base_numbering": 1,
   "nav_menu": {},
   "number_sections": false,
   "sideBar": true,
   "skip_h1_title": false,
   "title_cell": "Table of Contents",
   "title_sidebar": "Contents",
   "toc_cell": false,
   "toc_position": {
    "height": "calc(100% - 180px)",
    "left": "10px",
    "top": "150px",
    "width": "384px"
   },
   "toc_section_display": true,
   "toc_window_display": true
  },
  "varInspector": {
   "cols": {
    "lenName": 16,
    "lenType": 16,
    "lenVar": 40
   },
   "kernels_config": {
    "python": {
     "delete_cmd_postfix": "",
     "delete_cmd_prefix": "del ",
     "library": "var_list.py",
     "varRefreshCmd": "print(var_dic_list())"
    },
    "r": {
     "delete_cmd_postfix": ") ",
     "delete_cmd_prefix": "rm(",
     "library": "var_list.r",
     "varRefreshCmd": "cat(var_dic_list()) "
    }
   },
   "types_to_exclude": [
    "module",
    "function",
    "builtin_function_or_method",
    "instance",
    "_Feature"
   ],
   "window_display": false
  }
 },
 "nbformat": 4,
 "nbformat_minor": 5
}
