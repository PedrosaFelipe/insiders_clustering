{
 "cells": [
  {
   "cell_type": "markdown",
   "id": "2a754125",
   "metadata": {
    "heading_collapsed": true
   },
   "source": [
    "# PA005: High Value Customer Identification ( Insiders )"
   ]
  },
  {
   "cell_type": "markdown",
   "id": "bfe4c1af",
   "metadata": {
    "hidden": true
   },
   "source": [
    "## <font color ='red'> Ciclo 00 - Planejamento - Método IOT </font>"
   ]
  },
  {
   "cell_type": "markdown",
   "id": "babc8cf0",
   "metadata": {
    "hidden": true
   },
   "source": [
    "## <font color ='red'> Ciclo 01 - Métricas de Validação de clusters  </font>"
   ]
  },
  {
   "cell_type": "markdown",
   "id": "07d81465",
   "metadata": {
    "hidden": true
   },
   "source": []
  },
  {
   "cell_type": "markdown",
   "id": "20aed3d4",
   "metadata": {
    "hidden": true
   },
   "source": [
    "## <font color ='red'> Ciclo 02 - Análise de Sillhoutte </font>"
   ]
  },
  {
   "cell_type": "code",
   "execution_count": null,
   "id": "dbcf0483",
   "metadata": {
    "hidden": true
   },
   "outputs": [],
   "source": []
  },
  {
   "cell_type": "markdown",
   "id": "09cfd9df",
   "metadata": {
    "hidden": true
   },
   "source": [
    "## <font color ='red'> Ciclo 03 - Statistical Descriptive </font>"
   ]
  },
  {
   "cell_type": "markdown",
   "id": "898163e8",
   "metadata": {
    "heading_collapsed": true
   },
   "source": [
    "# 0.0. Planejamento da solução (IOT)"
   ]
  },
  {
   "cell_type": "markdown",
   "id": "15d46bab",
   "metadata": {
    "heading_collapsed": true,
    "hidden": true
   },
   "source": [
    "## Input "
   ]
  },
  {
   "cell_type": "markdown",
   "id": "9e95cdff",
   "metadata": {
    "heading_collapsed": true,
    "hidden": true
   },
   "source": [
    "### Problema de Negócio \n"
   ]
  },
  {
   "cell_type": "markdown",
   "id": "8d445d15",
   "metadata": {
    "ExecuteTime": {
     "end_time": "2021-11-03T16:31:05.873043Z",
     "start_time": "2021-11-03T16:31:05.855989Z"
    },
    "hidden": true
   },
   "source": [
    "1. Selecionar os clientes mais valiosos para integrar um programa de Fidelização chamado __\"INSIDERS\"__.\n",
    "    \n",
    "2. Conjunto de dados com as vendas de um e-commerce online, durante um periodo de um ano.( Nov 2015 to Dec 2017)"
   ]
  },
  {
   "cell_type": "markdown",
   "id": "cb96185e",
   "metadata": {
    "heading_collapsed": true,
    "hidden": true
   },
   "source": [
    "## Output"
   ]
  },
  {
   "cell_type": "markdown",
   "id": "0c5dad73",
   "metadata": {
    "hidden": true
   },
   "source": [
    "1. A indicação das pessoas que farão parte do programa de Insiders\n",
    "    - Lista:\n",
    "             cliente_id | is_insiders |\n",
    "               10233    |    yes/1    |\n",
    "               32456    |     no/0    | \n",
    "                \n",
    "                \n",
    "2. Relatório com as respostas das perguntas de negócio:\n",
    "    - Quem são as pessoas elegíveis para participar do programa de Insiders ?\n",
    "    - Quantos clientes farão parte do grupo?\n",
    "    - Quais as principais características desses clientes ?\n",
    "    - Qual a porcentagem de contribuição do faturamento, vinda do Insiders ?\n",
    "    - Qual a expectativa de faturamento desse grupo para os próximos meses ?\n",
    "    - Quais as condições para uma pessoa ser elegível ao Insiders ?\n",
    "    - Quais as condições para uma pessoa ser removida do Insiders ?\n",
    "    - Qual a garantia que o programa Insiders é melhor que o restante da base ?\n",
    "    - Quais ações o time de marketing pode realizar para aumentar o faturamento?\n",
    "\n",
    "    "
   ]
  },
  {
   "cell_type": "markdown",
   "id": "ace909ad",
   "metadata": {
    "heading_collapsed": true,
    "hidden": true
   },
   "source": [
    "## Tasks"
   ]
  },
  {
   "cell_type": "markdown",
   "id": "fe668dd3",
   "metadata": {
    "hidden": true
   },
   "source": [
    "1. Quem são as pessoas elegíveis para participar do programa de Insiders ?\n",
    "    - O que é ser elegíve? O qe são clientes de maior \"valor\" ?\n",
    "    - Faturamento:\n",
    "         - Alto Ticket médio\n",
    "         - Alto LTV\n",
    "         - Baixa Recência\n",
    "         - Alta basket size\n",
    "         - Baixa probabilidade de churn\n",
    "         - Alta previsão de LTV\n",
    "         - Alta propensão de compra\n",
    "         \n",
    "         \n",
    "  - Custo:\n",
    "      - Baixa taxa de devolução\n",
    "      \n",
    "      \n",
    "- Experiência de compra:\n",
    "     - Média alta das avaiações\n",
    "    \n",
    "\n",
    "2. Quantos clientes farão parte do grupo?\n",
    "     - Número total de clientes\n",
    "     - % do grupo Insiders\n",
    "     \n",
    "     \n",
    "3. Quais as principais características desses clientes ?\n",
    "    - Escverer caracteristicas do cliente:\n",
    "         - Idade\n",
    "         - Localização\n",
    "         \n",
    "    - Escrever caracteristicas do consumo \n",
    "         - Atributos da clusterização\n",
    "    \n",
    "    \n",
    "4. Qual a porcentagem de contribuição do faturamento, vinda do Insiders ?\n",
    "\n",
    "   - Calcular o faturamento total da empresa durante o ano.\n",
    "   - Calcular o faturamento (%) apenas do cluster Insiders.\n",
    "   \n",
    "   \n",
    "5. Qual a expectativa de faturamento desse grupo para os próximos meses ?\n",
    "\n",
    "    - Cálculo do LTV do grupo Insiders - > Séries Temporais ( ARMA, ARIMA, HoltWinter, etc )\n",
    "    - Análise de Cohort\n",
    "\n",
    "\n",
    "6. Quais as condições para uma pessoa ser elegível ao Insiders ?\n",
    "\n",
    "      - Definir a periodicidade(1 mês , 3 meses)\n",
    "      - O \"desempenho\" do cliente está próximo da média do cluster Insiders\n",
    "      - A pessoa precisa ser similar ou parecida com uma outra pessoa do grupo\n",
    "    \n",
    "    \n",
    "7. Quais as condições para uma pessoa ser removida do Insiders ?\n",
    "\n",
    "    - Definir a periodicidade(1 mês , 3 meses)\n",
    "    - O \"desempenho\" do cliente não está mais próximo da média do cluster Insiders.\n",
    "    \n",
    "    \n",
    "8. Qual a garantia que o programa Insiders é melhor que o restante da base ?\n",
    "\n",
    "    - Teste de Hipóteses\n",
    "    - Teste A/B\n",
    "    - Teste A/B Bayesiano\n",
    "\n",
    "    \n",
    "9. Quais ações o time de marketing pode realizar para aumentar o faturamento?\n",
    "\n",
    "   - Descontos\n",
    "   - Preferências de compra\n",
    "   - Produtos exclusivos\n",
    "   - Visita a empresa\n",
    "   - Sem frete"
   ]
  },
  {
   "cell_type": "markdown",
   "id": "af399e2c",
   "metadata": {},
   "source": [
    "# 0.0 Imports"
   ]
  },
  {
   "cell_type": "code",
   "execution_count": 62,
   "id": "93c28c39",
   "metadata": {
    "ExecuteTime": {
     "end_time": "2021-11-12T18:31:28.472035Z",
     "start_time": "2021-11-12T18:31:28.455065Z"
    }
   },
   "outputs": [],
   "source": [
    "import re\n",
    "import pandas                      as pd\n",
    "import numpy                       as np\n",
    "import seaborn                     as sns\n",
    "import umap.umap_                  as umap\n",
    "\n",
    "from IPython.core.display          import HTML\n",
    "from matplotlib                    import pyplot            as plt\n",
    "\n",
    "from sklearn                       import cluster as c\n",
    "from sklearn                       import metrics as m\n",
    "#from sklearn.metrics               import silhouette_score\n",
    "from sklearn.cluster               import KMeans\n",
    "from yellowbrick.cluster           import KElbowVisualizer , SilhouetteVisualizer\n",
    "from plotly                        import express as px\n",
    "from sklearn             import preprocessing       as pp\n",
    "\n",
    "\n",
    "import warnings\n",
    "\n",
    "warnings.filterwarnings(\"ignore\")"
   ]
  },
  {
   "cell_type": "markdown",
   "id": "572b26cd",
   "metadata": {},
   "source": [
    "##  0.1 Helper Functions"
   ]
  },
  {
   "cell_type": "code",
   "execution_count": 2,
   "id": "45cca47d",
   "metadata": {
    "ExecuteTime": {
     "end_time": "2021-11-12T18:30:03.946546Z",
     "start_time": "2021-11-12T18:30:03.932546Z"
    },
    "code_folding": []
   },
   "outputs": [],
   "source": [
    "def my_settings():\n",
    "    %matplotlib inline\n",
    "    \n",
    "    # plotly settings\n",
    "    plt.style.use( 'ggplot' )\n",
    "    plt.rcParams['figure.figsize'] = [25, 12]\n",
    "    plt.rcParams['font.size'] = 8\n",
    " \n",
    "    # notebook settings\n",
    "    display(HTML('<style>.container{width:100% !important;}</style>'))\n",
    "    np.set_printoptions(suppress=True)\n",
    "    pd.set_option('display.float_format', '{:.2f}'.format)\n",
    "    \n",
    "    # seaborn settings\n",
    "    sns.set(rc={'figure.figsize':(25,12)})\n",
    "    sns.set_theme(style = 'darkgrid', font_scale = 1)"
   ]
  },
  {
   "cell_type": "code",
   "execution_count": 3,
   "id": "268c6c46",
   "metadata": {
    "ExecuteTime": {
     "end_time": "2021-11-12T18:30:03.961548Z",
     "start_time": "2021-11-12T18:30:03.947547Z"
    }
   },
   "outputs": [
    {
     "data": {
      "text/html": [
       "<style>.container{width:100% !important;}</style>"
      ],
      "text/plain": [
       "<IPython.core.display.HTML object>"
      ]
     },
     "metadata": {},
     "output_type": "display_data"
    }
   ],
   "source": [
    "my_settings()"
   ]
  },
  {
   "cell_type": "markdown",
   "id": "9f9face5",
   "metadata": {},
   "source": [
    "##  0.2 Load Dataset\n"
   ]
  },
  {
   "cell_type": "code",
   "execution_count": 4,
   "id": "41dac48a",
   "metadata": {
    "ExecuteTime": {
     "end_time": "2021-11-12T18:30:04.596313Z",
     "start_time": "2021-11-12T18:30:03.963546Z"
    },
    "scrolled": true
   },
   "outputs": [],
   "source": [
    "# load data\n",
    "df_raw = pd.read_csv(r'../data/raw/Ecommerce.csv', encoding='cp1252')\n",
    "\n",
    "# # drop extra column\n",
    "df_raw = df_raw.drop(columns=['Unnamed: 8'] , axis=1)"
   ]
  },
  {
   "cell_type": "code",
   "execution_count": 5,
   "id": "02e11b92",
   "metadata": {
    "ExecuteTime": {
     "end_time": "2021-11-12T18:30:04.627104Z",
     "start_time": "2021-11-12T18:30:04.598104Z"
    }
   },
   "outputs": [
    {
     "data": {
      "text/html": [
       "<div>\n",
       "<style scoped>\n",
       "    .dataframe tbody tr th:only-of-type {\n",
       "        vertical-align: middle;\n",
       "    }\n",
       "\n",
       "    .dataframe tbody tr th {\n",
       "        vertical-align: top;\n",
       "    }\n",
       "\n",
       "    .dataframe thead th {\n",
       "        text-align: right;\n",
       "    }\n",
       "</style>\n",
       "<table border=\"1\" class=\"dataframe\">\n",
       "  <thead>\n",
       "    <tr style=\"text-align: right;\">\n",
       "      <th></th>\n",
       "      <th>InvoiceNo</th>\n",
       "      <th>StockCode</th>\n",
       "      <th>Description</th>\n",
       "      <th>Quantity</th>\n",
       "      <th>InvoiceDate</th>\n",
       "      <th>UnitPrice</th>\n",
       "      <th>CustomerID</th>\n",
       "      <th>Country</th>\n",
       "    </tr>\n",
       "  </thead>\n",
       "  <tbody>\n",
       "    <tr>\n",
       "      <th>0</th>\n",
       "      <td>536365</td>\n",
       "      <td>85123A</td>\n",
       "      <td>WHITE HANGING HEART T-LIGHT HOLDER</td>\n",
       "      <td>6</td>\n",
       "      <td>29-Nov-16</td>\n",
       "      <td>2.55</td>\n",
       "      <td>17850.00</td>\n",
       "      <td>United Kingdom</td>\n",
       "    </tr>\n",
       "    <tr>\n",
       "      <th>1</th>\n",
       "      <td>536365</td>\n",
       "      <td>71053</td>\n",
       "      <td>WHITE METAL LANTERN</td>\n",
       "      <td>6</td>\n",
       "      <td>29-Nov-16</td>\n",
       "      <td>3.39</td>\n",
       "      <td>17850.00</td>\n",
       "      <td>United Kingdom</td>\n",
       "    </tr>\n",
       "    <tr>\n",
       "      <th>2</th>\n",
       "      <td>536365</td>\n",
       "      <td>84406B</td>\n",
       "      <td>CREAM CUPID HEARTS COAT HANGER</td>\n",
       "      <td>8</td>\n",
       "      <td>29-Nov-16</td>\n",
       "      <td>2.75</td>\n",
       "      <td>17850.00</td>\n",
       "      <td>United Kingdom</td>\n",
       "    </tr>\n",
       "    <tr>\n",
       "      <th>3</th>\n",
       "      <td>536365</td>\n",
       "      <td>84029G</td>\n",
       "      <td>KNITTED UNION FLAG HOT WATER BOTTLE</td>\n",
       "      <td>6</td>\n",
       "      <td>29-Nov-16</td>\n",
       "      <td>3.39</td>\n",
       "      <td>17850.00</td>\n",
       "      <td>United Kingdom</td>\n",
       "    </tr>\n",
       "    <tr>\n",
       "      <th>4</th>\n",
       "      <td>536365</td>\n",
       "      <td>84029E</td>\n",
       "      <td>RED WOOLLY HOTTIE WHITE HEART.</td>\n",
       "      <td>6</td>\n",
       "      <td>29-Nov-16</td>\n",
       "      <td>3.39</td>\n",
       "      <td>17850.00</td>\n",
       "      <td>United Kingdom</td>\n",
       "    </tr>\n",
       "  </tbody>\n",
       "</table>\n",
       "</div>"
      ],
      "text/plain": [
       "  InvoiceNo StockCode                          Description  Quantity  \\\n",
       "0    536365    85123A   WHITE HANGING HEART T-LIGHT HOLDER         6   \n",
       "1    536365     71053                  WHITE METAL LANTERN         6   \n",
       "2    536365    84406B       CREAM CUPID HEARTS COAT HANGER         8   \n",
       "3    536365    84029G  KNITTED UNION FLAG HOT WATER BOTTLE         6   \n",
       "4    536365    84029E       RED WOOLLY HOTTIE WHITE HEART.         6   \n",
       "\n",
       "  InvoiceDate  UnitPrice  CustomerID         Country  \n",
       "0   29-Nov-16       2.55    17850.00  United Kingdom  \n",
       "1   29-Nov-16       3.39    17850.00  United Kingdom  \n",
       "2   29-Nov-16       2.75    17850.00  United Kingdom  \n",
       "3   29-Nov-16       3.39    17850.00  United Kingdom  \n",
       "4   29-Nov-16       3.39    17850.00  United Kingdom  "
      ]
     },
     "execution_count": 5,
     "metadata": {},
     "output_type": "execute_result"
    }
   ],
   "source": [
    "df_raw.head()"
   ]
  },
  {
   "cell_type": "markdown",
   "id": "937f320c",
   "metadata": {
    "ExecuteTime": {
     "end_time": "2021-10-27T19:34:03.756273Z",
     "start_time": "2021-10-27T19:34:03.746397Z"
    }
   },
   "source": [
    "# <font color ='red'> 1.0 Descrição dos dados </font>"
   ]
  },
  {
   "cell_type": "code",
   "execution_count": 6,
   "id": "531feb57",
   "metadata": {
    "ExecuteTime": {
     "end_time": "2021-11-12T18:30:04.658104Z",
     "start_time": "2021-11-12T18:30:04.629103Z"
    }
   },
   "outputs": [],
   "source": [
    "df1 = df_raw.copy()"
   ]
  },
  {
   "cell_type": "markdown",
   "id": "83749ecd",
   "metadata": {},
   "source": [
    "## 1.1 Rename Columns"
   ]
  },
  {
   "cell_type": "code",
   "execution_count": 7,
   "id": "9ad9e8e9",
   "metadata": {
    "ExecuteTime": {
     "end_time": "2021-11-12T18:30:04.674103Z",
     "start_time": "2021-11-12T18:30:04.659117Z"
    }
   },
   "outputs": [
    {
     "data": {
      "text/plain": [
       "Index(['InvoiceNo', 'StockCode', 'Description', 'Quantity', 'InvoiceDate',\n",
       "       'UnitPrice', 'CustomerID', 'Country'],\n",
       "      dtype='object')"
      ]
     },
     "execution_count": 7,
     "metadata": {},
     "output_type": "execute_result"
    }
   ],
   "source": [
    "df1.columns"
   ]
  },
  {
   "cell_type": "code",
   "execution_count": 8,
   "id": "15dba0a4",
   "metadata": {
    "ExecuteTime": {
     "end_time": "2021-11-12T18:30:04.689132Z",
     "start_time": "2021-11-12T18:30:04.675103Z"
    }
   },
   "outputs": [],
   "source": [
    "cols_new = ['invoice_no', 'stock_code', 'description', 'quantity', 'invoice_date','unit_price', 'customer_id', 'country']\n",
    "\n",
    "df1.columns = cols_new"
   ]
  },
  {
   "cell_type": "markdown",
   "id": "3faa0cc0",
   "metadata": {},
   "source": [
    "## 1.2 Data dimensios"
   ]
  },
  {
   "cell_type": "code",
   "execution_count": 9,
   "id": "2c70213e",
   "metadata": {
    "ExecuteTime": {
     "end_time": "2021-11-12T18:30:04.704104Z",
     "start_time": "2021-11-12T18:30:04.690424Z"
    }
   },
   "outputs": [
    {
     "name": "stdout",
     "output_type": "stream",
     "text": [
      "Number of rows: 541909\n",
      "Number of columns: 8\n"
     ]
    }
   ],
   "source": [
    "print('Number of rows: {}'.format(df1.shape[0]))\n",
    "print('Number of columns: {}'.format(df1.shape[1]))"
   ]
  },
  {
   "cell_type": "markdown",
   "id": "9549d185",
   "metadata": {},
   "source": [
    "## 1.3 Data types"
   ]
  },
  {
   "cell_type": "code",
   "execution_count": 10,
   "id": "a19553d2",
   "metadata": {
    "ExecuteTime": {
     "end_time": "2021-11-12T18:30:04.720104Z",
     "start_time": "2021-11-12T18:30:04.705104Z"
    }
   },
   "outputs": [
    {
     "data": {
      "text/plain": [
       "invoice_no       object\n",
       "stock_code       object\n",
       "description      object\n",
       "quantity          int64\n",
       "invoice_date     object\n",
       "unit_price      float64\n",
       "customer_id     float64\n",
       "country          object\n",
       "dtype: object"
      ]
     },
     "execution_count": 10,
     "metadata": {},
     "output_type": "execute_result"
    }
   ],
   "source": [
    "df1.dtypes"
   ]
  },
  {
   "cell_type": "code",
   "execution_count": 11,
   "id": "881ed953",
   "metadata": {
    "ExecuteTime": {
     "end_time": "2021-11-12T18:30:04.735105Z",
     "start_time": "2021-11-12T18:30:04.721110Z"
    },
    "scrolled": true
   },
   "outputs": [
    {
     "data": {
      "text/html": [
       "<div>\n",
       "<style scoped>\n",
       "    .dataframe tbody tr th:only-of-type {\n",
       "        vertical-align: middle;\n",
       "    }\n",
       "\n",
       "    .dataframe tbody tr th {\n",
       "        vertical-align: top;\n",
       "    }\n",
       "\n",
       "    .dataframe thead th {\n",
       "        text-align: right;\n",
       "    }\n",
       "</style>\n",
       "<table border=\"1\" class=\"dataframe\">\n",
       "  <thead>\n",
       "    <tr style=\"text-align: right;\">\n",
       "      <th></th>\n",
       "      <th>invoice_no</th>\n",
       "      <th>stock_code</th>\n",
       "      <th>description</th>\n",
       "      <th>quantity</th>\n",
       "      <th>invoice_date</th>\n",
       "      <th>unit_price</th>\n",
       "      <th>customer_id</th>\n",
       "      <th>country</th>\n",
       "    </tr>\n",
       "  </thead>\n",
       "  <tbody>\n",
       "    <tr>\n",
       "      <th>0</th>\n",
       "      <td>536365</td>\n",
       "      <td>85123A</td>\n",
       "      <td>WHITE HANGING HEART T-LIGHT HOLDER</td>\n",
       "      <td>6</td>\n",
       "      <td>29-Nov-16</td>\n",
       "      <td>2.55</td>\n",
       "      <td>17850.00</td>\n",
       "      <td>United Kingdom</td>\n",
       "    </tr>\n",
       "    <tr>\n",
       "      <th>1</th>\n",
       "      <td>536365</td>\n",
       "      <td>71053</td>\n",
       "      <td>WHITE METAL LANTERN</td>\n",
       "      <td>6</td>\n",
       "      <td>29-Nov-16</td>\n",
       "      <td>3.39</td>\n",
       "      <td>17850.00</td>\n",
       "      <td>United Kingdom</td>\n",
       "    </tr>\n",
       "    <tr>\n",
       "      <th>2</th>\n",
       "      <td>536365</td>\n",
       "      <td>84406B</td>\n",
       "      <td>CREAM CUPID HEARTS COAT HANGER</td>\n",
       "      <td>8</td>\n",
       "      <td>29-Nov-16</td>\n",
       "      <td>2.75</td>\n",
       "      <td>17850.00</td>\n",
       "      <td>United Kingdom</td>\n",
       "    </tr>\n",
       "    <tr>\n",
       "      <th>3</th>\n",
       "      <td>536365</td>\n",
       "      <td>84029G</td>\n",
       "      <td>KNITTED UNION FLAG HOT WATER BOTTLE</td>\n",
       "      <td>6</td>\n",
       "      <td>29-Nov-16</td>\n",
       "      <td>3.39</td>\n",
       "      <td>17850.00</td>\n",
       "      <td>United Kingdom</td>\n",
       "    </tr>\n",
       "    <tr>\n",
       "      <th>4</th>\n",
       "      <td>536365</td>\n",
       "      <td>84029E</td>\n",
       "      <td>RED WOOLLY HOTTIE WHITE HEART.</td>\n",
       "      <td>6</td>\n",
       "      <td>29-Nov-16</td>\n",
       "      <td>3.39</td>\n",
       "      <td>17850.00</td>\n",
       "      <td>United Kingdom</td>\n",
       "    </tr>\n",
       "  </tbody>\n",
       "</table>\n",
       "</div>"
      ],
      "text/plain": [
       "  invoice_no stock_code                          description  quantity  \\\n",
       "0     536365     85123A   WHITE HANGING HEART T-LIGHT HOLDER         6   \n",
       "1     536365      71053                  WHITE METAL LANTERN         6   \n",
       "2     536365     84406B       CREAM CUPID HEARTS COAT HANGER         8   \n",
       "3     536365     84029G  KNITTED UNION FLAG HOT WATER BOTTLE         6   \n",
       "4     536365     84029E       RED WOOLLY HOTTIE WHITE HEART.         6   \n",
       "\n",
       "  invoice_date  unit_price  customer_id         country  \n",
       "0    29-Nov-16        2.55     17850.00  United Kingdom  \n",
       "1    29-Nov-16        3.39     17850.00  United Kingdom  \n",
       "2    29-Nov-16        2.75     17850.00  United Kingdom  \n",
       "3    29-Nov-16        3.39     17850.00  United Kingdom  \n",
       "4    29-Nov-16        3.39     17850.00  United Kingdom  "
      ]
     },
     "execution_count": 11,
     "metadata": {},
     "output_type": "execute_result"
    }
   ],
   "source": [
    "df1.head()"
   ]
  },
  {
   "cell_type": "markdown",
   "id": "c211b60b",
   "metadata": {},
   "source": [
    "## 1.4 Check NA"
   ]
  },
  {
   "cell_type": "code",
   "execution_count": 12,
   "id": "0b5a1a55",
   "metadata": {
    "ExecuteTime": {
     "end_time": "2021-11-12T18:30:04.829104Z",
     "start_time": "2021-11-12T18:30:04.737107Z"
    }
   },
   "outputs": [
    {
     "data": {
      "text/plain": [
       "invoice_no           0\n",
       "stock_code           0\n",
       "description       1454\n",
       "quantity             0\n",
       "invoice_date         0\n",
       "unit_price           0\n",
       "customer_id     135080\n",
       "country              0\n",
       "dtype: int64"
      ]
     },
     "execution_count": 12,
     "metadata": {},
     "output_type": "execute_result"
    }
   ],
   "source": [
    "df1.isna().sum()"
   ]
  },
  {
   "cell_type": "markdown",
   "id": "7e314cc3",
   "metadata": {},
   "source": [
    "## 1.5 Replace NA\n"
   ]
  },
  {
   "cell_type": "code",
   "execution_count": 13,
   "id": "b5004191",
   "metadata": {
    "ExecuteTime": {
     "end_time": "2021-11-12T18:30:04.893105Z",
     "start_time": "2021-11-12T18:30:04.831103Z"
    }
   },
   "outputs": [
    {
     "name": "stdout",
     "output_type": "stream",
     "text": [
      "Remove data:  0.25\n"
     ]
    }
   ],
   "source": [
    "df1 = df1.dropna(subset=['description','customer_id'])\n",
    "print('Remove data:  {:.2f}'.format(1 - (df1.shape[0] / df_raw.shape[0])))"
   ]
  },
  {
   "cell_type": "markdown",
   "id": "95a16fb4",
   "metadata": {},
   "source": [
    "## 1.6 Changes dtypes\n"
   ]
  },
  {
   "cell_type": "code",
   "execution_count": 14,
   "id": "78c2128a",
   "metadata": {
    "ExecuteTime": {
     "end_time": "2021-11-12T18:30:04.956826Z",
     "start_time": "2021-11-12T18:30:04.896107Z"
    }
   },
   "outputs": [
    {
     "data": {
      "text/html": [
       "<div>\n",
       "<style scoped>\n",
       "    .dataframe tbody tr th:only-of-type {\n",
       "        vertical-align: middle;\n",
       "    }\n",
       "\n",
       "    .dataframe tbody tr th {\n",
       "        vertical-align: top;\n",
       "    }\n",
       "\n",
       "    .dataframe thead th {\n",
       "        text-align: right;\n",
       "    }\n",
       "</style>\n",
       "<table border=\"1\" class=\"dataframe\">\n",
       "  <thead>\n",
       "    <tr style=\"text-align: right;\">\n",
       "      <th></th>\n",
       "      <th>invoice_no</th>\n",
       "      <th>stock_code</th>\n",
       "      <th>description</th>\n",
       "      <th>quantity</th>\n",
       "      <th>invoice_date</th>\n",
       "      <th>unit_price</th>\n",
       "      <th>customer_id</th>\n",
       "      <th>country</th>\n",
       "    </tr>\n",
       "  </thead>\n",
       "  <tbody>\n",
       "    <tr>\n",
       "      <th>0</th>\n",
       "      <td>536365</td>\n",
       "      <td>85123A</td>\n",
       "      <td>WHITE HANGING HEART T-LIGHT HOLDER</td>\n",
       "      <td>6</td>\n",
       "      <td>2016-11-29</td>\n",
       "      <td>2.55</td>\n",
       "      <td>17850</td>\n",
       "      <td>United Kingdom</td>\n",
       "    </tr>\n",
       "    <tr>\n",
       "      <th>1</th>\n",
       "      <td>536365</td>\n",
       "      <td>71053</td>\n",
       "      <td>WHITE METAL LANTERN</td>\n",
       "      <td>6</td>\n",
       "      <td>2016-11-29</td>\n",
       "      <td>3.39</td>\n",
       "      <td>17850</td>\n",
       "      <td>United Kingdom</td>\n",
       "    </tr>\n",
       "    <tr>\n",
       "      <th>2</th>\n",
       "      <td>536365</td>\n",
       "      <td>84406B</td>\n",
       "      <td>CREAM CUPID HEARTS COAT HANGER</td>\n",
       "      <td>8</td>\n",
       "      <td>2016-11-29</td>\n",
       "      <td>2.75</td>\n",
       "      <td>17850</td>\n",
       "      <td>United Kingdom</td>\n",
       "    </tr>\n",
       "    <tr>\n",
       "      <th>3</th>\n",
       "      <td>536365</td>\n",
       "      <td>84029G</td>\n",
       "      <td>KNITTED UNION FLAG HOT WATER BOTTLE</td>\n",
       "      <td>6</td>\n",
       "      <td>2016-11-29</td>\n",
       "      <td>3.39</td>\n",
       "      <td>17850</td>\n",
       "      <td>United Kingdom</td>\n",
       "    </tr>\n",
       "    <tr>\n",
       "      <th>4</th>\n",
       "      <td>536365</td>\n",
       "      <td>84029E</td>\n",
       "      <td>RED WOOLLY HOTTIE WHITE HEART.</td>\n",
       "      <td>6</td>\n",
       "      <td>2016-11-29</td>\n",
       "      <td>3.39</td>\n",
       "      <td>17850</td>\n",
       "      <td>United Kingdom</td>\n",
       "    </tr>\n",
       "  </tbody>\n",
       "</table>\n",
       "</div>"
      ],
      "text/plain": [
       "  invoice_no stock_code                          description  quantity  \\\n",
       "0     536365     85123A   WHITE HANGING HEART T-LIGHT HOLDER         6   \n",
       "1     536365      71053                  WHITE METAL LANTERN         6   \n",
       "2     536365     84406B       CREAM CUPID HEARTS COAT HANGER         8   \n",
       "3     536365     84029G  KNITTED UNION FLAG HOT WATER BOTTLE         6   \n",
       "4     536365     84029E       RED WOOLLY HOTTIE WHITE HEART.         6   \n",
       "\n",
       "  invoice_date  unit_price  customer_id         country  \n",
       "0   2016-11-29        2.55        17850  United Kingdom  \n",
       "1   2016-11-29        3.39        17850  United Kingdom  \n",
       "2   2016-11-29        2.75        17850  United Kingdom  \n",
       "3   2016-11-29        3.39        17850  United Kingdom  \n",
       "4   2016-11-29        3.39        17850  United Kingdom  "
      ]
     },
     "execution_count": 14,
     "metadata": {},
     "output_type": "execute_result"
    }
   ],
   "source": [
    "# invoice date\n",
    "\n",
    "df1['invoice_date'] = pd.to_datetime(df1['invoice_date'] , format='%d-%b-%y')\n",
    "\n",
    "# customer_id\n",
    "\n",
    "df1['customer_id'] = df1['customer_id'].astype('int64')\n",
    "\n",
    "df1.head()"
   ]
  },
  {
   "cell_type": "code",
   "execution_count": 15,
   "id": "e454dc23",
   "metadata": {
    "ExecuteTime": {
     "end_time": "2021-11-12T18:30:04.972015Z",
     "start_time": "2021-11-12T18:30:04.957828Z"
    },
    "scrolled": true
   },
   "outputs": [
    {
     "data": {
      "text/plain": [
       "invoice_no              object\n",
       "stock_code              object\n",
       "description             object\n",
       "quantity                 int64\n",
       "invoice_date    datetime64[ns]\n",
       "unit_price             float64\n",
       "customer_id              int64\n",
       "country                 object\n",
       "dtype: object"
      ]
     },
     "execution_count": 15,
     "metadata": {},
     "output_type": "execute_result"
    }
   ],
   "source": [
    "df1.dtypes"
   ]
  },
  {
   "cell_type": "markdown",
   "id": "f9115e6f",
   "metadata": {},
   "source": [
    "## 1.7 Descriptive Statistics"
   ]
  },
  {
   "cell_type": "code",
   "execution_count": 16,
   "id": "53c369af",
   "metadata": {
    "ExecuteTime": {
     "end_time": "2021-11-12T18:30:05.003084Z",
     "start_time": "2021-11-12T18:30:04.973016Z"
    }
   },
   "outputs": [],
   "source": [
    "num_attributes = df1.select_dtypes(include=['int64' , 'float64'])\n",
    "cat_attributes = df1.select_dtypes(exclude=['int64' , 'float64','datetime64[ns]'])\n"
   ]
  },
  {
   "cell_type": "markdown",
   "id": "1fbd8b4e",
   "metadata": {
    "heading_collapsed": true
   },
   "source": [
    "### 1.7.1 Numerical Attributs"
   ]
  },
  {
   "cell_type": "code",
   "execution_count": 17,
   "id": "e8d6356f",
   "metadata": {
    "ExecuteTime": {
     "end_time": "2021-11-12T18:30:05.080326Z",
     "start_time": "2021-11-12T18:30:05.004054Z"
    },
    "hidden": true
   },
   "outputs": [
    {
     "data": {
      "text/html": [
       "<div>\n",
       "<style scoped>\n",
       "    .dataframe tbody tr th:only-of-type {\n",
       "        vertical-align: middle;\n",
       "    }\n",
       "\n",
       "    .dataframe tbody tr th {\n",
       "        vertical-align: top;\n",
       "    }\n",
       "\n",
       "    .dataframe thead th {\n",
       "        text-align: right;\n",
       "    }\n",
       "</style>\n",
       "<table border=\"1\" class=\"dataframe\">\n",
       "  <thead>\n",
       "    <tr style=\"text-align: right;\">\n",
       "      <th></th>\n",
       "      <th>Attributes</th>\n",
       "      <th>min</th>\n",
       "      <th>max</th>\n",
       "      <th>range</th>\n",
       "      <th>mean</th>\n",
       "      <th>median</th>\n",
       "      <th>std</th>\n",
       "      <th>skew</th>\n",
       "      <th>kurtoses</th>\n",
       "    </tr>\n",
       "  </thead>\n",
       "  <tbody>\n",
       "    <tr>\n",
       "      <th>0</th>\n",
       "      <td>quantity</td>\n",
       "      <td>-80995.00</td>\n",
       "      <td>80995.00</td>\n",
       "      <td>161990.00</td>\n",
       "      <td>12.06</td>\n",
       "      <td>5.00</td>\n",
       "      <td>248.69</td>\n",
       "      <td>0.18</td>\n",
       "      <td>94317.56</td>\n",
       "    </tr>\n",
       "    <tr>\n",
       "      <th>1</th>\n",
       "      <td>unit_price</td>\n",
       "      <td>0.00</td>\n",
       "      <td>38970.00</td>\n",
       "      <td>38970.00</td>\n",
       "      <td>3.46</td>\n",
       "      <td>1.95</td>\n",
       "      <td>69.32</td>\n",
       "      <td>452.22</td>\n",
       "      <td>246924.54</td>\n",
       "    </tr>\n",
       "    <tr>\n",
       "      <th>2</th>\n",
       "      <td>customer_id</td>\n",
       "      <td>12346.00</td>\n",
       "      <td>18287.00</td>\n",
       "      <td>5941.00</td>\n",
       "      <td>15287.69</td>\n",
       "      <td>15152.00</td>\n",
       "      <td>1713.60</td>\n",
       "      <td>0.03</td>\n",
       "      <td>-1.18</td>\n",
       "    </tr>\n",
       "  </tbody>\n",
       "</table>\n",
       "</div>"
      ],
      "text/plain": [
       "    Attributes       min      max     range     mean   median     std   skew  \\\n",
       "0     quantity -80995.00 80995.00 161990.00    12.06     5.00  248.69   0.18   \n",
       "1   unit_price      0.00 38970.00  38970.00     3.46     1.95   69.32 452.22   \n",
       "2  customer_id  12346.00 18287.00   5941.00 15287.69 15152.00 1713.60   0.03   \n",
       "\n",
       "   kurtoses  \n",
       "0  94317.56  \n",
       "1 246924.54  \n",
       "2     -1.18  "
      ]
     },
     "execution_count": 17,
     "metadata": {},
     "output_type": "execute_result"
    }
   ],
   "source": [
    "# central tendency - mean, median\n",
    "mean = pd.DataFrame(num_attributes.apply(np.mean)).T\n",
    "median = pd.DataFrame(num_attributes.apply(np.median)).T\n",
    "\n",
    "# dispersion - std , min , max , range , skew , kurtosis\n",
    "std = pd.DataFrame(num_attributes.apply(np.std)).T\n",
    "mi = pd.DataFrame(num_attributes.apply(np.min)).T\n",
    "ma = pd.DataFrame(num_attributes.apply(np.max)).T\n",
    "ran = pd.DataFrame(num_attributes.apply(lambda x: x.max() - x.min())).T\n",
    "skew = pd.DataFrame(num_attributes.apply(lambda x: x.skew())).T\n",
    "kurtosis = pd.DataFrame(num_attributes.apply(lambda x: x.kurtosis())).T\n",
    "\n",
    "# concatenate\n",
    "\n",
    "m = pd.concat([mi , ma ,ran, mean , median  , std,  skew ,  kurtosis]).T.reset_index()\n",
    "m.columns = ['Attributes' , 'min' , 'max', 'range', 'mean', 'median', 'std', 'skew', 'kurtoses']\n",
    "m"
   ]
  },
  {
   "cell_type": "markdown",
   "id": "092485df",
   "metadata": {
    "heading_collapsed": true
   },
   "source": [
    "### <font color=red>1.7.1.1 Numerical Attributs - Investigating</font>"
   ]
  },
  {
   "cell_type": "markdown",
   "id": "840c3eda",
   "metadata": {
    "hidden": true
   },
   "source": [
    "1. Quantidade negativa( pode ser devolução ??)\n",
    "\n",
    "\n",
    "\n",
    "\n",
    "2. Preço unitário igual a 0. (Pode ser promoção ?? )"
   ]
  },
  {
   "cell_type": "markdown",
   "id": "12fc2e09",
   "metadata": {},
   "source": [
    "### 1.7.2 Categorical Attributs"
   ]
  },
  {
   "cell_type": "code",
   "execution_count": 18,
   "id": "80f93424",
   "metadata": {
    "ExecuteTime": {
     "end_time": "2021-11-12T18:30:05.096028Z",
     "start_time": "2021-11-12T18:30:05.082030Z"
    },
    "scrolled": false
   },
   "outputs": [
    {
     "data": {
      "text/html": [
       "<div>\n",
       "<style scoped>\n",
       "    .dataframe tbody tr th:only-of-type {\n",
       "        vertical-align: middle;\n",
       "    }\n",
       "\n",
       "    .dataframe tbody tr th {\n",
       "        vertical-align: top;\n",
       "    }\n",
       "\n",
       "    .dataframe thead th {\n",
       "        text-align: right;\n",
       "    }\n",
       "</style>\n",
       "<table border=\"1\" class=\"dataframe\">\n",
       "  <thead>\n",
       "    <tr style=\"text-align: right;\">\n",
       "      <th></th>\n",
       "      <th>invoice_no</th>\n",
       "      <th>stock_code</th>\n",
       "      <th>description</th>\n",
       "      <th>country</th>\n",
       "    </tr>\n",
       "  </thead>\n",
       "  <tbody>\n",
       "    <tr>\n",
       "      <th>0</th>\n",
       "      <td>536365</td>\n",
       "      <td>85123A</td>\n",
       "      <td>WHITE HANGING HEART T-LIGHT HOLDER</td>\n",
       "      <td>United Kingdom</td>\n",
       "    </tr>\n",
       "    <tr>\n",
       "      <th>1</th>\n",
       "      <td>536365</td>\n",
       "      <td>71053</td>\n",
       "      <td>WHITE METAL LANTERN</td>\n",
       "      <td>United Kingdom</td>\n",
       "    </tr>\n",
       "    <tr>\n",
       "      <th>2</th>\n",
       "      <td>536365</td>\n",
       "      <td>84406B</td>\n",
       "      <td>CREAM CUPID HEARTS COAT HANGER</td>\n",
       "      <td>United Kingdom</td>\n",
       "    </tr>\n",
       "    <tr>\n",
       "      <th>3</th>\n",
       "      <td>536365</td>\n",
       "      <td>84029G</td>\n",
       "      <td>KNITTED UNION FLAG HOT WATER BOTTLE</td>\n",
       "      <td>United Kingdom</td>\n",
       "    </tr>\n",
       "    <tr>\n",
       "      <th>4</th>\n",
       "      <td>536365</td>\n",
       "      <td>84029E</td>\n",
       "      <td>RED WOOLLY HOTTIE WHITE HEART.</td>\n",
       "      <td>United Kingdom</td>\n",
       "    </tr>\n",
       "  </tbody>\n",
       "</table>\n",
       "</div>"
      ],
      "text/plain": [
       "  invoice_no stock_code                          description         country\n",
       "0     536365     85123A   WHITE HANGING HEART T-LIGHT HOLDER  United Kingdom\n",
       "1     536365      71053                  WHITE METAL LANTERN  United Kingdom\n",
       "2     536365     84406B       CREAM CUPID HEARTS COAT HANGER  United Kingdom\n",
       "3     536365     84029G  KNITTED UNION FLAG HOT WATER BOTTLE  United Kingdom\n",
       "4     536365     84029E       RED WOOLLY HOTTIE WHITE HEART.  United Kingdom"
      ]
     },
     "execution_count": 18,
     "metadata": {},
     "output_type": "execute_result"
    }
   ],
   "source": [
    "cat_attributes.head()"
   ]
  },
  {
   "cell_type": "markdown",
   "id": "dd9bc352",
   "metadata": {
    "heading_collapsed": true
   },
   "source": [
    "#### Invoice No"
   ]
  },
  {
   "cell_type": "code",
   "execution_count": 19,
   "id": "0c53affc",
   "metadata": {
    "ExecuteTime": {
     "end_time": "2021-11-12T18:30:05.111030Z",
     "start_time": "2021-11-12T18:30:05.097028Z"
    },
    "hidden": true
   },
   "outputs": [
    {
     "data": {
      "text/html": [
       "<div>\n",
       "<style scoped>\n",
       "    .dataframe tbody tr th:only-of-type {\n",
       "        vertical-align: middle;\n",
       "    }\n",
       "\n",
       "    .dataframe tbody tr th {\n",
       "        vertical-align: top;\n",
       "    }\n",
       "\n",
       "    .dataframe thead th {\n",
       "        text-align: right;\n",
       "    }\n",
       "</style>\n",
       "<table border=\"1\" class=\"dataframe\">\n",
       "  <thead>\n",
       "    <tr style=\"text-align: right;\">\n",
       "      <th></th>\n",
       "      <th>invoice_no</th>\n",
       "      <th>stock_code</th>\n",
       "      <th>description</th>\n",
       "      <th>quantity</th>\n",
       "      <th>invoice_date</th>\n",
       "      <th>unit_price</th>\n",
       "      <th>customer_id</th>\n",
       "      <th>country</th>\n",
       "    </tr>\n",
       "  </thead>\n",
       "  <tbody>\n",
       "    <tr>\n",
       "      <th>0</th>\n",
       "      <td>536365</td>\n",
       "      <td>85123A</td>\n",
       "      <td>WHITE HANGING HEART T-LIGHT HOLDER</td>\n",
       "      <td>6</td>\n",
       "      <td>2016-11-29</td>\n",
       "      <td>2.55</td>\n",
       "      <td>17850</td>\n",
       "      <td>United Kingdom</td>\n",
       "    </tr>\n",
       "    <tr>\n",
       "      <th>1</th>\n",
       "      <td>536365</td>\n",
       "      <td>71053</td>\n",
       "      <td>WHITE METAL LANTERN</td>\n",
       "      <td>6</td>\n",
       "      <td>2016-11-29</td>\n",
       "      <td>3.39</td>\n",
       "      <td>17850</td>\n",
       "      <td>United Kingdom</td>\n",
       "    </tr>\n",
       "    <tr>\n",
       "      <th>2</th>\n",
       "      <td>536365</td>\n",
       "      <td>84406B</td>\n",
       "      <td>CREAM CUPID HEARTS COAT HANGER</td>\n",
       "      <td>8</td>\n",
       "      <td>2016-11-29</td>\n",
       "      <td>2.75</td>\n",
       "      <td>17850</td>\n",
       "      <td>United Kingdom</td>\n",
       "    </tr>\n",
       "    <tr>\n",
       "      <th>3</th>\n",
       "      <td>536365</td>\n",
       "      <td>84029G</td>\n",
       "      <td>KNITTED UNION FLAG HOT WATER BOTTLE</td>\n",
       "      <td>6</td>\n",
       "      <td>2016-11-29</td>\n",
       "      <td>3.39</td>\n",
       "      <td>17850</td>\n",
       "      <td>United Kingdom</td>\n",
       "    </tr>\n",
       "    <tr>\n",
       "      <th>4</th>\n",
       "      <td>536365</td>\n",
       "      <td>84029E</td>\n",
       "      <td>RED WOOLLY HOTTIE WHITE HEART.</td>\n",
       "      <td>6</td>\n",
       "      <td>2016-11-29</td>\n",
       "      <td>3.39</td>\n",
       "      <td>17850</td>\n",
       "      <td>United Kingdom</td>\n",
       "    </tr>\n",
       "  </tbody>\n",
       "</table>\n",
       "</div>"
      ],
      "text/plain": [
       "  invoice_no stock_code                          description  quantity  \\\n",
       "0     536365     85123A   WHITE HANGING HEART T-LIGHT HOLDER         6   \n",
       "1     536365      71053                  WHITE METAL LANTERN         6   \n",
       "2     536365     84406B       CREAM CUPID HEARTS COAT HANGER         8   \n",
       "3     536365     84029G  KNITTED UNION FLAG HOT WATER BOTTLE         6   \n",
       "4     536365     84029E       RED WOOLLY HOTTIE WHITE HEART.         6   \n",
       "\n",
       "  invoice_date  unit_price  customer_id         country  \n",
       "0   2016-11-29        2.55        17850  United Kingdom  \n",
       "1   2016-11-29        3.39        17850  United Kingdom  \n",
       "2   2016-11-29        2.75        17850  United Kingdom  \n",
       "3   2016-11-29        3.39        17850  United Kingdom  \n",
       "4   2016-11-29        3.39        17850  United Kingdom  "
      ]
     },
     "execution_count": 19,
     "metadata": {},
     "output_type": "execute_result"
    }
   ],
   "source": [
    "df1.head()"
   ]
  },
  {
   "cell_type": "code",
   "execution_count": 20,
   "id": "4d424932",
   "metadata": {
    "ExecuteTime": {
     "end_time": "2021-11-12T18:30:05.501713Z",
     "start_time": "2021-11-12T18:30:05.112030Z"
    },
    "hidden": true
   },
   "outputs": [
    {
     "name": "stdout",
     "output_type": "stream",
     "text": [
      "Total number of invoices: 8905\n",
      "Total number of negative quantity: 8905\n"
     ]
    }
   ],
   "source": [
    "# problema: Temos invoice com letras e numeros\n",
    "# df1['invoice_no'].astype(int)\n",
    "\n",
    "\n",
    "# identificação:\n",
    "df_letter_invoices = df1.loc[df1['invoice_no'].apply(lambda x: bool(re.search('[^0-9]+', x))) , :]\n",
    "df_letter_invoices.head()\n",
    "\n",
    "print('Total number of invoices: {}'.format(len(df_letter_invoices)))\n",
    "print('Total number of negative quantity: {}'.format(len(df_letter_invoices['quantity'] < 0)))"
   ]
  },
  {
   "cell_type": "code",
   "execution_count": 21,
   "id": "2ddb2741",
   "metadata": {
    "ExecuteTime": {
     "end_time": "2021-11-12T18:30:05.516716Z",
     "start_time": "2021-11-12T18:30:05.502713Z"
    },
    "hidden": true
   },
   "outputs": [
    {
     "data": {
      "text/plain": [
       "8905"
      ]
     },
     "execution_count": 21,
     "metadata": {},
     "output_type": "execute_result"
    }
   ],
   "source": [
    "len(df_letter_invoices)"
   ]
  },
  {
   "cell_type": "code",
   "execution_count": 22,
   "id": "2e09c6a3",
   "metadata": {
    "ExecuteTime": {
     "end_time": "2021-11-12T18:30:05.532712Z",
     "start_time": "2021-11-12T18:30:05.517721Z"
    },
    "hidden": true
   },
   "outputs": [
    {
     "data": {
      "text/plain": [
       "8905"
      ]
     },
     "execution_count": 22,
     "metadata": {},
     "output_type": "execute_result"
    }
   ],
   "source": [
    "len(df_letter_invoices['quantity'] < 0)"
   ]
  },
  {
   "cell_type": "markdown",
   "id": "eab78bc0",
   "metadata": {
    "heading_collapsed": true
   },
   "source": [
    "#### Stock Code"
   ]
  },
  {
   "cell_type": "code",
   "execution_count": 23,
   "id": "61902dad",
   "metadata": {
    "ExecuteTime": {
     "end_time": "2021-11-12T18:30:05.902761Z",
     "start_time": "2021-11-12T18:30:05.533711Z"
    },
    "hidden": true
   },
   "outputs": [
    {
     "data": {
      "text/plain": [
       "array(['POST', 'D', 'M', 'PADS', 'DOT', 'CRUK'], dtype=object)"
      ]
     },
     "execution_count": 23,
     "metadata": {},
     "output_type": "execute_result"
    }
   ],
   "source": [
    "# check stock code only characters\n",
    "df1.loc[cat_attributes['stock_code'].apply(lambda x: bool(re.search('^[a-zA-Z]+$', x))),'stock_code'].unique()\n",
    "\n",
    "# df1['stock_code'].loc[df1['stock_code'].apply(lambda x: bool(re.search('^[a-zA-Z]+' , x)))].unique()\n",
    "\n",
    "# Ação:\n",
    "## 1. Remove stock_code in ['POST', 'D', 'M', 'PADS', 'DOT', 'CRUK']\n"
   ]
  },
  {
   "cell_type": "code",
   "execution_count": 24,
   "id": "a66e2611",
   "metadata": {
    "ExecuteTime": {
     "end_time": "2021-11-12T18:30:06.292955Z",
     "start_time": "2021-11-12T18:30:05.903754Z"
    },
    "hidden": true
   },
   "outputs": [
    {
     "data": {
      "text/plain": [
       "array(['POST', 'D', 'M', 'PADS', 'DOT', 'CRUK'], dtype=object)"
      ]
     },
     "execution_count": 24,
     "metadata": {},
     "output_type": "execute_result"
    }
   ],
   "source": [
    "# # sotcke code\n",
    "# at_least_one_string = len(cat_attributes.loc[cat_attributes['stock_code'].apply(lambda x: bool(re.search('[^0-9]+', x))),'stock_code'].drop_duplicates())\n",
    "# print(at_least_one_string)\n",
    "\n",
    "cat_attributes.loc[cat_attributes['stock_code'].apply(lambda x: bool(re.search('^[a-zA-Z]+$', x))),'stock_code'].unique()\n",
    "\n",
    "# df1.loc[cat_attributes['stock_code'].apply(lambda x: bool(re.search('^[a-zA-Z]$', x))),:].head(20)"
   ]
  },
  {
   "cell_type": "markdown",
   "id": "4e615a89",
   "metadata": {
    "heading_collapsed": true
   },
   "source": [
    "#### Description"
   ]
  },
  {
   "cell_type": "code",
   "execution_count": 25,
   "id": "15311d8b",
   "metadata": {
    "ExecuteTime": {
     "end_time": "2021-11-12T18:30:06.308883Z",
     "start_time": "2021-11-12T18:30:06.293882Z"
    },
    "hidden": true
   },
   "outputs": [
    {
     "data": {
      "text/html": [
       "<div>\n",
       "<style scoped>\n",
       "    .dataframe tbody tr th:only-of-type {\n",
       "        vertical-align: middle;\n",
       "    }\n",
       "\n",
       "    .dataframe tbody tr th {\n",
       "        vertical-align: top;\n",
       "    }\n",
       "\n",
       "    .dataframe thead th {\n",
       "        text-align: right;\n",
       "    }\n",
       "</style>\n",
       "<table border=\"1\" class=\"dataframe\">\n",
       "  <thead>\n",
       "    <tr style=\"text-align: right;\">\n",
       "      <th></th>\n",
       "      <th>invoice_no</th>\n",
       "      <th>stock_code</th>\n",
       "      <th>description</th>\n",
       "      <th>quantity</th>\n",
       "      <th>invoice_date</th>\n",
       "      <th>unit_price</th>\n",
       "      <th>customer_id</th>\n",
       "      <th>country</th>\n",
       "    </tr>\n",
       "  </thead>\n",
       "  <tbody>\n",
       "    <tr>\n",
       "      <th>0</th>\n",
       "      <td>536365</td>\n",
       "      <td>85123A</td>\n",
       "      <td>WHITE HANGING HEART T-LIGHT HOLDER</td>\n",
       "      <td>6</td>\n",
       "      <td>2016-11-29</td>\n",
       "      <td>2.55</td>\n",
       "      <td>17850</td>\n",
       "      <td>United Kingdom</td>\n",
       "    </tr>\n",
       "    <tr>\n",
       "      <th>1</th>\n",
       "      <td>536365</td>\n",
       "      <td>71053</td>\n",
       "      <td>WHITE METAL LANTERN</td>\n",
       "      <td>6</td>\n",
       "      <td>2016-11-29</td>\n",
       "      <td>3.39</td>\n",
       "      <td>17850</td>\n",
       "      <td>United Kingdom</td>\n",
       "    </tr>\n",
       "    <tr>\n",
       "      <th>2</th>\n",
       "      <td>536365</td>\n",
       "      <td>84406B</td>\n",
       "      <td>CREAM CUPID HEARTS COAT HANGER</td>\n",
       "      <td>8</td>\n",
       "      <td>2016-11-29</td>\n",
       "      <td>2.75</td>\n",
       "      <td>17850</td>\n",
       "      <td>United Kingdom</td>\n",
       "    </tr>\n",
       "    <tr>\n",
       "      <th>3</th>\n",
       "      <td>536365</td>\n",
       "      <td>84029G</td>\n",
       "      <td>KNITTED UNION FLAG HOT WATER BOTTLE</td>\n",
       "      <td>6</td>\n",
       "      <td>2016-11-29</td>\n",
       "      <td>3.39</td>\n",
       "      <td>17850</td>\n",
       "      <td>United Kingdom</td>\n",
       "    </tr>\n",
       "    <tr>\n",
       "      <th>4</th>\n",
       "      <td>536365</td>\n",
       "      <td>84029E</td>\n",
       "      <td>RED WOOLLY HOTTIE WHITE HEART.</td>\n",
       "      <td>6</td>\n",
       "      <td>2016-11-29</td>\n",
       "      <td>3.39</td>\n",
       "      <td>17850</td>\n",
       "      <td>United Kingdom</td>\n",
       "    </tr>\n",
       "  </tbody>\n",
       "</table>\n",
       "</div>"
      ],
      "text/plain": [
       "  invoice_no stock_code                          description  quantity  \\\n",
       "0     536365     85123A   WHITE HANGING HEART T-LIGHT HOLDER         6   \n",
       "1     536365      71053                  WHITE METAL LANTERN         6   \n",
       "2     536365     84406B       CREAM CUPID HEARTS COAT HANGER         8   \n",
       "3     536365     84029G  KNITTED UNION FLAG HOT WATER BOTTLE         6   \n",
       "4     536365     84029E       RED WOOLLY HOTTIE WHITE HEART.         6   \n",
       "\n",
       "  invoice_date  unit_price  customer_id         country  \n",
       "0   2016-11-29        2.55        17850  United Kingdom  \n",
       "1   2016-11-29        3.39        17850  United Kingdom  \n",
       "2   2016-11-29        2.75        17850  United Kingdom  \n",
       "3   2016-11-29        3.39        17850  United Kingdom  \n",
       "4   2016-11-29        3.39        17850  United Kingdom  "
      ]
     },
     "execution_count": 25,
     "metadata": {},
     "output_type": "execute_result"
    }
   ],
   "source": [
    "df1.head()\n",
    "\n",
    "# Ação: Delete Description"
   ]
  },
  {
   "cell_type": "markdown",
   "id": "7436922e",
   "metadata": {},
   "source": [
    "#### Country"
   ]
  },
  {
   "cell_type": "code",
   "execution_count": 26,
   "id": "7316a8a3",
   "metadata": {
    "ExecuteTime": {
     "end_time": "2021-11-12T18:30:06.340161Z",
     "start_time": "2021-11-12T18:30:06.309882Z"
    },
    "scrolled": true
   },
   "outputs": [
    {
     "data": {
      "text/plain": [
       "37"
      ]
     },
     "execution_count": 26,
     "metadata": {},
     "output_type": "execute_result"
    }
   ],
   "source": [
    "len(df1['country'].unique())"
   ]
  },
  {
   "cell_type": "code",
   "execution_count": 27,
   "id": "ab69ce39",
   "metadata": {
    "ExecuteTime": {
     "end_time": "2021-11-12T18:30:06.370934Z",
     "start_time": "2021-11-12T18:30:06.340883Z"
    }
   },
   "outputs": [
    {
     "data": {
      "text/plain": [
       "United Kingdom         0.89\n",
       "Germany                0.02\n",
       "France                 0.02\n",
       "EIRE                   0.02\n",
       "Spain                  0.01\n",
       "Netherlands            0.01\n",
       "Belgium                0.01\n",
       "Switzerland            0.00\n",
       "Portugal               0.00\n",
       "Australia              0.00\n",
       "Norway                 0.00\n",
       "Italy                  0.00\n",
       "Channel Islands        0.00\n",
       "Finland                0.00\n",
       "Cyprus                 0.00\n",
       "Sweden                 0.00\n",
       "Austria                0.00\n",
       "Denmark                0.00\n",
       "Japan                  0.00\n",
       "Poland                 0.00\n",
       "USA                    0.00\n",
       "Israel                 0.00\n",
       "Unspecified            0.00\n",
       "Singapore              0.00\n",
       "Iceland                0.00\n",
       "Canada                 0.00\n",
       "Greece                 0.00\n",
       "Malta                  0.00\n",
       "United Arab Emirates   0.00\n",
       "European Community     0.00\n",
       "RSA                    0.00\n",
       "Lebanon                0.00\n",
       "Lithuania              0.00\n",
       "Brazil                 0.00\n",
       "Czech Republic         0.00\n",
       "Bahrain                0.00\n",
       "Saudi Arabia           0.00\n",
       "Name: country, dtype: float64"
      ]
     },
     "execution_count": 27,
     "metadata": {},
     "output_type": "execute_result"
    }
   ],
   "source": [
    "df1['country'].value_counts(normalize=True)"
   ]
  },
  {
   "cell_type": "code",
   "execution_count": 28,
   "id": "4962e02d",
   "metadata": {
    "ExecuteTime": {
     "end_time": "2021-11-12T18:30:06.434914Z",
     "start_time": "2021-11-12T18:30:06.372906Z"
    }
   },
   "outputs": [
    {
     "data": {
      "text/html": [
       "<div>\n",
       "<style scoped>\n",
       "    .dataframe tbody tr th:only-of-type {\n",
       "        vertical-align: middle;\n",
       "    }\n",
       "\n",
       "    .dataframe tbody tr th {\n",
       "        vertical-align: top;\n",
       "    }\n",
       "\n",
       "    .dataframe thead th {\n",
       "        text-align: right;\n",
       "    }\n",
       "</style>\n",
       "<table border=\"1\" class=\"dataframe\">\n",
       "  <thead>\n",
       "    <tr style=\"text-align: right;\">\n",
       "      <th></th>\n",
       "      <th>country</th>\n",
       "      <th>customer_id</th>\n",
       "    </tr>\n",
       "  </thead>\n",
       "  <tbody>\n",
       "    <tr>\n",
       "      <th>35</th>\n",
       "      <td>United Kingdom</td>\n",
       "      <td>3950</td>\n",
       "    </tr>\n",
       "    <tr>\n",
       "      <th>14</th>\n",
       "      <td>Germany</td>\n",
       "      <td>95</td>\n",
       "    </tr>\n",
       "    <tr>\n",
       "      <th>13</th>\n",
       "      <td>France</td>\n",
       "      <td>87</td>\n",
       "    </tr>\n",
       "    <tr>\n",
       "      <th>30</th>\n",
       "      <td>Spain</td>\n",
       "      <td>31</td>\n",
       "    </tr>\n",
       "    <tr>\n",
       "      <th>3</th>\n",
       "      <td>Belgium</td>\n",
       "      <td>25</td>\n",
       "    </tr>\n",
       "    <tr>\n",
       "      <th>32</th>\n",
       "      <td>Switzerland</td>\n",
       "      <td>21</td>\n",
       "    </tr>\n",
       "    <tr>\n",
       "      <th>26</th>\n",
       "      <td>Portugal</td>\n",
       "      <td>19</td>\n",
       "    </tr>\n",
       "    <tr>\n",
       "      <th>18</th>\n",
       "      <td>Italy</td>\n",
       "      <td>15</td>\n",
       "    </tr>\n",
       "    <tr>\n",
       "      <th>12</th>\n",
       "      <td>Finland</td>\n",
       "      <td>12</td>\n",
       "    </tr>\n",
       "    <tr>\n",
       "      <th>1</th>\n",
       "      <td>Austria</td>\n",
       "      <td>11</td>\n",
       "    </tr>\n",
       "    <tr>\n",
       "      <th>24</th>\n",
       "      <td>Norway</td>\n",
       "      <td>10</td>\n",
       "    </tr>\n",
       "    <tr>\n",
       "      <th>23</th>\n",
       "      <td>Netherlands</td>\n",
       "      <td>9</td>\n",
       "    </tr>\n",
       "    <tr>\n",
       "      <th>0</th>\n",
       "      <td>Australia</td>\n",
       "      <td>9</td>\n",
       "    </tr>\n",
       "    <tr>\n",
       "      <th>9</th>\n",
       "      <td>Denmark</td>\n",
       "      <td>9</td>\n",
       "    </tr>\n",
       "    <tr>\n",
       "      <th>6</th>\n",
       "      <td>Channel Islands</td>\n",
       "      <td>9</td>\n",
       "    </tr>\n",
       "    <tr>\n",
       "      <th>7</th>\n",
       "      <td>Cyprus</td>\n",
       "      <td>8</td>\n",
       "    </tr>\n",
       "    <tr>\n",
       "      <th>31</th>\n",
       "      <td>Sweden</td>\n",
       "      <td>8</td>\n",
       "    </tr>\n",
       "    <tr>\n",
       "      <th>19</th>\n",
       "      <td>Japan</td>\n",
       "      <td>8</td>\n",
       "    </tr>\n",
       "    <tr>\n",
       "      <th>25</th>\n",
       "      <td>Poland</td>\n",
       "      <td>6</td>\n",
       "    </tr>\n",
       "    <tr>\n",
       "      <th>33</th>\n",
       "      <td>USA</td>\n",
       "      <td>4</td>\n",
       "    </tr>\n",
       "    <tr>\n",
       "      <th>5</th>\n",
       "      <td>Canada</td>\n",
       "      <td>4</td>\n",
       "    </tr>\n",
       "    <tr>\n",
       "      <th>36</th>\n",
       "      <td>Unspecified</td>\n",
       "      <td>4</td>\n",
       "    </tr>\n",
       "    <tr>\n",
       "      <th>17</th>\n",
       "      <td>Israel</td>\n",
       "      <td>4</td>\n",
       "    </tr>\n",
       "    <tr>\n",
       "      <th>15</th>\n",
       "      <td>Greece</td>\n",
       "      <td>4</td>\n",
       "    </tr>\n",
       "    <tr>\n",
       "      <th>10</th>\n",
       "      <td>EIRE</td>\n",
       "      <td>3</td>\n",
       "    </tr>\n",
       "    <tr>\n",
       "      <th>22</th>\n",
       "      <td>Malta</td>\n",
       "      <td>2</td>\n",
       "    </tr>\n",
       "    <tr>\n",
       "      <th>34</th>\n",
       "      <td>United Arab Emirates</td>\n",
       "      <td>2</td>\n",
       "    </tr>\n",
       "    <tr>\n",
       "      <th>2</th>\n",
       "      <td>Bahrain</td>\n",
       "      <td>2</td>\n",
       "    </tr>\n",
       "    <tr>\n",
       "      <th>8</th>\n",
       "      <td>Czech Republic</td>\n",
       "      <td>1</td>\n",
       "    </tr>\n",
       "    <tr>\n",
       "      <th>21</th>\n",
       "      <td>Lithuania</td>\n",
       "      <td>1</td>\n",
       "    </tr>\n",
       "    <tr>\n",
       "      <th>20</th>\n",
       "      <td>Lebanon</td>\n",
       "      <td>1</td>\n",
       "    </tr>\n",
       "    <tr>\n",
       "      <th>27</th>\n",
       "      <td>RSA</td>\n",
       "      <td>1</td>\n",
       "    </tr>\n",
       "    <tr>\n",
       "      <th>28</th>\n",
       "      <td>Saudi Arabia</td>\n",
       "      <td>1</td>\n",
       "    </tr>\n",
       "    <tr>\n",
       "      <th>29</th>\n",
       "      <td>Singapore</td>\n",
       "      <td>1</td>\n",
       "    </tr>\n",
       "    <tr>\n",
       "      <th>16</th>\n",
       "      <td>Iceland</td>\n",
       "      <td>1</td>\n",
       "    </tr>\n",
       "    <tr>\n",
       "      <th>4</th>\n",
       "      <td>Brazil</td>\n",
       "      <td>1</td>\n",
       "    </tr>\n",
       "    <tr>\n",
       "      <th>11</th>\n",
       "      <td>European Community</td>\n",
       "      <td>1</td>\n",
       "    </tr>\n",
       "  </tbody>\n",
       "</table>\n",
       "</div>"
      ],
      "text/plain": [
       "                 country  customer_id\n",
       "35        United Kingdom         3950\n",
       "14               Germany           95\n",
       "13                France           87\n",
       "30                 Spain           31\n",
       "3                Belgium           25\n",
       "32           Switzerland           21\n",
       "26              Portugal           19\n",
       "18                 Italy           15\n",
       "12               Finland           12\n",
       "1                Austria           11\n",
       "24                Norway           10\n",
       "23           Netherlands            9\n",
       "0              Australia            9\n",
       "9                Denmark            9\n",
       "6        Channel Islands            9\n",
       "7                 Cyprus            8\n",
       "31                Sweden            8\n",
       "19                 Japan            8\n",
       "25                Poland            6\n",
       "33                   USA            4\n",
       "5                 Canada            4\n",
       "36           Unspecified            4\n",
       "17                Israel            4\n",
       "15                Greece            4\n",
       "10                  EIRE            3\n",
       "22                 Malta            2\n",
       "34  United Arab Emirates            2\n",
       "2                Bahrain            2\n",
       "8         Czech Republic            1\n",
       "21             Lithuania            1\n",
       "20               Lebanon            1\n",
       "27                   RSA            1\n",
       "28          Saudi Arabia            1\n",
       "29             Singapore            1\n",
       "16               Iceland            1\n",
       "4                 Brazil            1\n",
       "11    European Community            1"
      ]
     },
     "execution_count": 28,
     "metadata": {},
     "output_type": "execute_result"
    }
   ],
   "source": [
    "df1[['customer_id' , 'country']].drop_duplicates().groupby('country').count().reset_index().sort_values('customer_id', ascending= False)"
   ]
  },
  {
   "cell_type": "markdown",
   "id": "77e23da2",
   "metadata": {
    "ExecuteTime": {
     "end_time": "2021-10-27T19:37:24.383790Z",
     "start_time": "2021-10-27T19:37:24.370791Z"
    }
   },
   "source": [
    "# <font color ='red'> 2.0 Filtragem de variaveis </font>"
   ]
  },
  {
   "cell_type": "code",
   "execution_count": 29,
   "id": "425abb24",
   "metadata": {
    "ExecuteTime": {
     "end_time": "2021-11-12T18:30:06.449915Z",
     "start_time": "2021-11-12T18:30:06.435886Z"
    }
   },
   "outputs": [],
   "source": [
    "df2 = df1.copy()"
   ]
  },
  {
   "cell_type": "code",
   "execution_count": 30,
   "id": "4b0b6b37",
   "metadata": {
    "ExecuteTime": {
     "end_time": "2021-11-12T18:30:06.465882Z",
     "start_time": "2021-11-12T18:30:06.450885Z"
    }
   },
   "outputs": [],
   "source": [
    "# df1.loc[df1['unit_price'] > 0.04 , ['customer_id','description','unit_price'] ].sort_values('unit_price', ascending = True).head(10)"
   ]
  },
  {
   "cell_type": "code",
   "execution_count": 31,
   "id": "6ee778d7",
   "metadata": {
    "ExecuteTime": {
     "end_time": "2021-11-12T18:30:06.620091Z",
     "start_time": "2021-11-12T18:30:06.466882Z"
    }
   },
   "outputs": [],
   "source": [
    "# ==== Numerical Attributes ====\n",
    "\n",
    "# unit price > 0.0\n",
    "df2 = df2.loc[df2['unit_price'] > 0.04 , :]\n",
    "\n",
    "\n",
    "# ==== Categorical Attributes ====\n",
    "\n",
    "\n",
    "df2 = df2[~df2['stock_code'].isin(['POST', 'D', 'M', 'PADS', 'DOT', 'CRUK'])]\n",
    "\n",
    "# description\n",
    "\n",
    "df2 = df2.drop('description', axis =1)\n",
    "\n",
    "# map\n",
    "\n",
    "df2 = df2[~df2['country'].isin (['European Community' , 'Unspecified'])]\n",
    "\n",
    "\n",
    "## quantity - Negative numbers means product returns\n",
    "\n",
    "#df2.loc[df2['invoce_no'] == 'C541433', :]\n",
    "#df2.loc[df2['customer_id'] == '12346', :].sort_values('description')\n",
    "df2_returns = df2.loc[df2['quantity'] < 0, :]\n",
    "df2_purchase = df2.loc[df2['quantity'] >= 0, :]\n"
   ]
  },
  {
   "cell_type": "code",
   "execution_count": 32,
   "id": "54ed311d",
   "metadata": {
    "ExecuteTime": {
     "end_time": "2021-11-12T18:30:06.634882Z",
     "start_time": "2021-11-12T18:30:06.620881Z"
    }
   },
   "outputs": [
    {
     "data": {
      "text/html": [
       "<div>\n",
       "<style scoped>\n",
       "    .dataframe tbody tr th:only-of-type {\n",
       "        vertical-align: middle;\n",
       "    }\n",
       "\n",
       "    .dataframe tbody tr th {\n",
       "        vertical-align: top;\n",
       "    }\n",
       "\n",
       "    .dataframe thead th {\n",
       "        text-align: right;\n",
       "    }\n",
       "</style>\n",
       "<table border=\"1\" class=\"dataframe\">\n",
       "  <thead>\n",
       "    <tr style=\"text-align: right;\">\n",
       "      <th></th>\n",
       "      <th>invoice_no</th>\n",
       "      <th>stock_code</th>\n",
       "      <th>quantity</th>\n",
       "      <th>invoice_date</th>\n",
       "      <th>unit_price</th>\n",
       "      <th>customer_id</th>\n",
       "      <th>country</th>\n",
       "    </tr>\n",
       "  </thead>\n",
       "  <tbody>\n",
       "    <tr>\n",
       "      <th>61619</th>\n",
       "      <td>541431</td>\n",
       "      <td>23166</td>\n",
       "      <td>74215</td>\n",
       "      <td>2017-01-16</td>\n",
       "      <td>1.04</td>\n",
       "      <td>12346</td>\n",
       "      <td>United Kingdom</td>\n",
       "    </tr>\n",
       "    <tr>\n",
       "      <th>61624</th>\n",
       "      <td>C541433</td>\n",
       "      <td>23166</td>\n",
       "      <td>-74215</td>\n",
       "      <td>2017-01-16</td>\n",
       "      <td>1.04</td>\n",
       "      <td>12346</td>\n",
       "      <td>United Kingdom</td>\n",
       "    </tr>\n",
       "  </tbody>\n",
       "</table>\n",
       "</div>"
      ],
      "text/plain": [
       "      invoice_no stock_code  quantity invoice_date  unit_price  customer_id  \\\n",
       "61619     541431      23166     74215   2017-01-16        1.04        12346   \n",
       "61624    C541433      23166    -74215   2017-01-16        1.04        12346   \n",
       "\n",
       "              country  \n",
       "61619  United Kingdom  \n",
       "61624  United Kingdom  "
      ]
     },
     "execution_count": 32,
     "metadata": {},
     "output_type": "execute_result"
    }
   ],
   "source": [
    "df2.loc[df2['customer_id'] == 12346 , :]"
   ]
  },
  {
   "cell_type": "code",
   "execution_count": 33,
   "id": "d3c2c9c9",
   "metadata": {
    "ExecuteTime": {
     "end_time": "2021-11-12T18:30:06.977932Z",
     "start_time": "2021-11-12T18:30:06.635895Z"
    },
    "scrolled": true
   },
   "outputs": [
    {
     "data": {
      "text/html": [
       "<div>\n",
       "<style scoped>\n",
       "    .dataframe tbody tr th:only-of-type {\n",
       "        vertical-align: middle;\n",
       "    }\n",
       "\n",
       "    .dataframe tbody tr th {\n",
       "        vertical-align: top;\n",
       "    }\n",
       "\n",
       "    .dataframe thead th {\n",
       "        text-align: right;\n",
       "    }\n",
       "</style>\n",
       "<table border=\"1\" class=\"dataframe\">\n",
       "  <thead>\n",
       "    <tr style=\"text-align: right;\">\n",
       "      <th></th>\n",
       "      <th>invoice_no</th>\n",
       "      <th>stock_code</th>\n",
       "      <th>quantity</th>\n",
       "      <th>invoice_date</th>\n",
       "      <th>unit_price</th>\n",
       "      <th>customer_id</th>\n",
       "      <th>country</th>\n",
       "    </tr>\n",
       "  </thead>\n",
       "  <tbody>\n",
       "    <tr>\n",
       "      <th>61624</th>\n",
       "      <td>C541433</td>\n",
       "      <td>23166</td>\n",
       "      <td>-74215</td>\n",
       "      <td>2017-01-16</td>\n",
       "      <td>1.04</td>\n",
       "      <td>12346</td>\n",
       "      <td>United Kingdom</td>\n",
       "    </tr>\n",
       "  </tbody>\n",
       "</table>\n",
       "</div>"
      ],
      "text/plain": [
       "      invoice_no stock_code  quantity invoice_date  unit_price  customer_id  \\\n",
       "61624    C541433      23166    -74215   2017-01-16        1.04        12346   \n",
       "\n",
       "              country  \n",
       "61624  United Kingdom  "
      ]
     },
     "execution_count": 33,
     "metadata": {},
     "output_type": "execute_result"
    }
   ],
   "source": [
    "df2.loc[df2['invoice_no'].apply( lambda x: bool(re.search('.41433',x))),:].head()"
   ]
  },
  {
   "cell_type": "code",
   "execution_count": 35,
   "id": "fdaa4a4d",
   "metadata": {
    "ExecuteTime": {
     "end_time": "2021-11-12T18:30:54.250285Z",
     "start_time": "2021-11-12T18:30:54.243261Z"
    }
   },
   "outputs": [],
   "source": [
    "# quantity\n",
    "# df2.loc[df2['quantity'] < 0 , :].sort_values(['customer_id' , 'description']).head(40)\n"
   ]
  },
  {
   "cell_type": "markdown",
   "id": "fdcf5e3f",
   "metadata": {
    "ExecuteTime": {
     "end_time": "2021-10-27T19:35:06.270967Z",
     "start_time": "2021-10-27T19:35:06.263969Z"
    }
   },
   "source": [
    "# <font color ='red'> 3.0 Feature Engeneering </font>"
   ]
  },
  {
   "cell_type": "code",
   "execution_count": 36,
   "id": "54093948",
   "metadata": {
    "ExecuteTime": {
     "end_time": "2021-11-12T18:30:58.356779Z",
     "start_time": "2021-11-12T18:30:58.338350Z"
    }
   },
   "outputs": [],
   "source": [
    "df3 = df2.copy()"
   ]
  },
  {
   "cell_type": "markdown",
   "id": "615e033b",
   "metadata": {},
   "source": [
    "## 3.1 Feature Creation"
   ]
  },
  {
   "cell_type": "code",
   "execution_count": 37,
   "id": "76ab6e27",
   "metadata": {
    "ExecuteTime": {
     "end_time": "2021-11-12T18:30:58.387932Z",
     "start_time": "2021-11-12T18:30:58.359563Z"
    }
   },
   "outputs": [],
   "source": [
    "# data reference\n",
    "\n",
    "df_ref = df3.drop(['invoice_no','stock_code','quantity', 'invoice_date','unit_price','country'], axis = 1 ).drop_duplicates(ignore_index = True)\n"
   ]
  },
  {
   "cell_type": "code",
   "execution_count": 38,
   "id": "9f59c51c",
   "metadata": {
    "ExecuteTime": {
     "end_time": "2021-11-12T18:30:58.435375Z",
     "start_time": "2021-11-12T18:30:58.388924Z"
    }
   },
   "outputs": [
    {
     "data": {
      "text/plain": [
       "customer_id       0\n",
       "gross_revenue    27\n",
       "dtype: int64"
      ]
     },
     "execution_count": 38,
     "metadata": {},
     "output_type": "execute_result"
    }
   ],
   "source": [
    "# Gross Revenue ( Faturamento = quantity * price)\n",
    "df2_purchase.loc[: , 'gross_revenue'] = df2_purchase.loc[: , 'quantity'] * df2_purchase.loc[: , 'unit_price']\n",
    "\n",
    "df_monetary = df2_purchase.loc[: , ['customer_id' , 'gross_revenue']].groupby('customer_id').sum().reset_index()\n",
    "df_ref = pd.merge(df_ref, df_monetary,on='customer_id',how='left')\n",
    "\n",
    "df_ref.isna().sum()"
   ]
  },
  {
   "cell_type": "code",
   "execution_count": 39,
   "id": "53a0e533",
   "metadata": {
    "ExecuteTime": {
     "end_time": "2021-11-12T18:30:58.465757Z",
     "start_time": "2021-11-12T18:30:58.437373Z"
    }
   },
   "outputs": [
    {
     "data": {
      "text/plain": [
       "customer_id       0\n",
       "gross_revenue    27\n",
       "recency_days     27\n",
       "dtype: int64"
      ]
     },
     "execution_count": 39,
     "metadata": {},
     "output_type": "execute_result"
    }
   ],
   "source": [
    "# Recency - Last day purchase\n",
    "df_recency = df2_purchase.loc[: ,[ 'customer_id', 'invoice_date']].groupby('customer_id').max().reset_index()\n",
    "df_recency['recency_days'] = (df2['invoice_date'].max() - df_recency['invoice_date']).dt.days\n",
    "df_recency = df_recency[['customer_id','recency_days']].copy()\n",
    "df_ref = pd.merge(df_ref , df_recency , on='customer_id', how='left')\n",
    "df_ref.isna().sum()"
   ]
  },
  {
   "cell_type": "code",
   "execution_count": 40,
   "id": "a01fffca",
   "metadata": {
    "ExecuteTime": {
     "end_time": "2021-11-12T18:30:58.528236Z",
     "start_time": "2021-11-12T18:30:58.466759Z"
    },
    "scrolled": true
   },
   "outputs": [
    {
     "data": {
      "text/plain": [
       "customer_id       0\n",
       "gross_revenue    27\n",
       "recency_days     27\n",
       "invoice_no       27\n",
       "dtype: int64"
      ]
     },
     "execution_count": 40,
     "metadata": {},
     "output_type": "execute_result"
    }
   ],
   "source": [
    "\n",
    "# Frequency\n",
    "df_freq = df2_purchase.loc[: ,['customer_id','invoice_no']].drop_duplicates().groupby('customer_id').count().reset_index()\n",
    "df_ref = pd.merge(df_ref , df_freq , on='customer_id', how='left')\n",
    "df_ref.isna().sum()"
   ]
  },
  {
   "cell_type": "code",
   "execution_count": 41,
   "id": "5ced0c7b",
   "metadata": {
    "ExecuteTime": {
     "end_time": "2021-11-12T18:30:58.559520Z",
     "start_time": "2021-11-12T18:30:58.529480Z"
    }
   },
   "outputs": [],
   "source": [
    "\n",
    "# Avg ticket\n",
    "df_avg_ticket = df2_purchase.loc[: ,['customer_id' , 'gross_revenue']].groupby('customer_id').mean().reset_index().rename(columns={'gross_revenue':'avg_ticket'})\n",
    "#df_avg_ticket['avg_ticket'] = np.round(df_avg_ticket['avg_ticket'] , 2)\n",
    "df_ref = pd.merge(df_ref, df_avg_ticket,on='customer_id',how='left')\n"
   ]
  },
  {
   "cell_type": "code",
   "execution_count": 42,
   "id": "d943c1d0",
   "metadata": {
    "ExecuteTime": {
     "end_time": "2021-11-12T18:30:58.574733Z",
     "start_time": "2021-11-12T18:30:58.560533Z"
    }
   },
   "outputs": [
    {
     "data": {
      "text/html": [
       "<div>\n",
       "<style scoped>\n",
       "    .dataframe tbody tr th:only-of-type {\n",
       "        vertical-align: middle;\n",
       "    }\n",
       "\n",
       "    .dataframe tbody tr th {\n",
       "        vertical-align: top;\n",
       "    }\n",
       "\n",
       "    .dataframe thead th {\n",
       "        text-align: right;\n",
       "    }\n",
       "</style>\n",
       "<table border=\"1\" class=\"dataframe\">\n",
       "  <thead>\n",
       "    <tr style=\"text-align: right;\">\n",
       "      <th></th>\n",
       "      <th>customer_id</th>\n",
       "      <th>gross_revenue</th>\n",
       "      <th>recency_days</th>\n",
       "      <th>invoice_no</th>\n",
       "      <th>avg_ticket</th>\n",
       "    </tr>\n",
       "  </thead>\n",
       "  <tbody>\n",
       "    <tr>\n",
       "      <th>0</th>\n",
       "      <td>17850</td>\n",
       "      <td>5391.21</td>\n",
       "      <td>372.00</td>\n",
       "      <td>34.00</td>\n",
       "      <td>18.15</td>\n",
       "    </tr>\n",
       "    <tr>\n",
       "      <th>1</th>\n",
       "      <td>13047</td>\n",
       "      <td>3232.59</td>\n",
       "      <td>56.00</td>\n",
       "      <td>9.00</td>\n",
       "      <td>18.90</td>\n",
       "    </tr>\n",
       "    <tr>\n",
       "      <th>2</th>\n",
       "      <td>12583</td>\n",
       "      <td>6705.38</td>\n",
       "      <td>2.00</td>\n",
       "      <td>15.00</td>\n",
       "      <td>28.90</td>\n",
       "    </tr>\n",
       "    <tr>\n",
       "      <th>3</th>\n",
       "      <td>13748</td>\n",
       "      <td>948.25</td>\n",
       "      <td>95.00</td>\n",
       "      <td>5.00</td>\n",
       "      <td>33.87</td>\n",
       "    </tr>\n",
       "    <tr>\n",
       "      <th>4</th>\n",
       "      <td>15100</td>\n",
       "      <td>876.00</td>\n",
       "      <td>333.00</td>\n",
       "      <td>3.00</td>\n",
       "      <td>292.00</td>\n",
       "    </tr>\n",
       "  </tbody>\n",
       "</table>\n",
       "</div>"
      ],
      "text/plain": [
       "   customer_id  gross_revenue  recency_days  invoice_no  avg_ticket\n",
       "0        17850        5391.21        372.00       34.00       18.15\n",
       "1        13047        3232.59         56.00        9.00       18.90\n",
       "2        12583        6705.38          2.00       15.00       28.90\n",
       "3        13748         948.25         95.00        5.00       33.87\n",
       "4        15100         876.00        333.00        3.00      292.00"
      ]
     },
     "execution_count": 42,
     "metadata": {},
     "output_type": "execute_result"
    }
   ],
   "source": [
    "df_ref.head()"
   ]
  },
  {
   "cell_type": "code",
   "execution_count": 43,
   "id": "8046f57e",
   "metadata": {
    "ExecuteTime": {
     "end_time": "2021-11-12T18:30:58.589792Z",
     "start_time": "2021-11-12T18:30:58.575733Z"
    }
   },
   "outputs": [],
   "source": [
    "# # Number of returns\n",
    "# df_returns = df2_returns[['customer_id', 'invoice_no']].drop_duplicates().groupby('customer_id').count().reset_index().rename(columns={'invoice_no':'returns'})\n",
    "# df_ref = pd.merge(df_ref , df_returns , on='customer_id', how='left')\n",
    "# df_ref.loc[df_ref['returns'].isna(), 'returns'] = 0\n",
    "# df_ref.isna().sum()"
   ]
  },
  {
   "cell_type": "code",
   "execution_count": 44,
   "id": "05d16c05",
   "metadata": {
    "ExecuteTime": {
     "end_time": "2021-11-12T18:30:58.605020Z",
     "start_time": "2021-11-12T18:30:58.591011Z"
    }
   },
   "outputs": [
    {
     "data": {
      "text/html": [
       "<div>\n",
       "<style scoped>\n",
       "    .dataframe tbody tr th:only-of-type {\n",
       "        vertical-align: middle;\n",
       "    }\n",
       "\n",
       "    .dataframe tbody tr th {\n",
       "        vertical-align: top;\n",
       "    }\n",
       "\n",
       "    .dataframe thead th {\n",
       "        text-align: right;\n",
       "    }\n",
       "</style>\n",
       "<table border=\"1\" class=\"dataframe\">\n",
       "  <thead>\n",
       "    <tr style=\"text-align: right;\">\n",
       "      <th></th>\n",
       "      <th>customer_id</th>\n",
       "      <th>gross_revenue</th>\n",
       "      <th>recency_days</th>\n",
       "      <th>invoice_no</th>\n",
       "      <th>avg_ticket</th>\n",
       "    </tr>\n",
       "  </thead>\n",
       "  <tbody>\n",
       "    <tr>\n",
       "      <th>0</th>\n",
       "      <td>17850</td>\n",
       "      <td>5391.21</td>\n",
       "      <td>372.00</td>\n",
       "      <td>34.00</td>\n",
       "      <td>18.15</td>\n",
       "    </tr>\n",
       "    <tr>\n",
       "      <th>1</th>\n",
       "      <td>13047</td>\n",
       "      <td>3232.59</td>\n",
       "      <td>56.00</td>\n",
       "      <td>9.00</td>\n",
       "      <td>18.90</td>\n",
       "    </tr>\n",
       "    <tr>\n",
       "      <th>2</th>\n",
       "      <td>12583</td>\n",
       "      <td>6705.38</td>\n",
       "      <td>2.00</td>\n",
       "      <td>15.00</td>\n",
       "      <td>28.90</td>\n",
       "    </tr>\n",
       "    <tr>\n",
       "      <th>3</th>\n",
       "      <td>13748</td>\n",
       "      <td>948.25</td>\n",
       "      <td>95.00</td>\n",
       "      <td>5.00</td>\n",
       "      <td>33.87</td>\n",
       "    </tr>\n",
       "    <tr>\n",
       "      <th>4</th>\n",
       "      <td>15100</td>\n",
       "      <td>876.00</td>\n",
       "      <td>333.00</td>\n",
       "      <td>3.00</td>\n",
       "      <td>292.00</td>\n",
       "    </tr>\n",
       "  </tbody>\n",
       "</table>\n",
       "</div>"
      ],
      "text/plain": [
       "   customer_id  gross_revenue  recency_days  invoice_no  avg_ticket\n",
       "0        17850        5391.21        372.00       34.00       18.15\n",
       "1        13047        3232.59         56.00        9.00       18.90\n",
       "2        12583        6705.38          2.00       15.00       28.90\n",
       "3        13748         948.25         95.00        5.00       33.87\n",
       "4        15100         876.00        333.00        3.00      292.00"
      ]
     },
     "execution_count": 44,
     "metadata": {},
     "output_type": "execute_result"
    }
   ],
   "source": [
    "df_ref.head()"
   ]
  },
  {
   "cell_type": "markdown",
   "id": "91dd55ac",
   "metadata": {},
   "source": [
    "# <font color ='red'> 4.0 EDA (Exploratory Data Analysis) </font>"
   ]
  },
  {
   "cell_type": "code",
   "execution_count": 45,
   "id": "bf89a0c7",
   "metadata": {
    "ExecuteTime": {
     "end_time": "2021-11-12T18:30:58.621019Z",
     "start_time": "2021-11-12T18:30:58.607019Z"
    }
   },
   "outputs": [],
   "source": [
    "df4 = df_ref.dropna().copy()"
   ]
  },
  {
   "cell_type": "code",
   "execution_count": 46,
   "id": "c7d3d751",
   "metadata": {
    "ExecuteTime": {
     "end_time": "2021-11-12T18:30:58.637020Z",
     "start_time": "2021-11-12T18:30:58.622021Z"
    }
   },
   "outputs": [
    {
     "data": {
      "text/plain": [
       "customer_id      0\n",
       "gross_revenue    0\n",
       "recency_days     0\n",
       "invoice_no       0\n",
       "avg_ticket       0\n",
       "dtype: int64"
      ]
     },
     "execution_count": 46,
     "metadata": {},
     "output_type": "execute_result"
    }
   ],
   "source": [
    "df4.isna().sum()"
   ]
  },
  {
   "cell_type": "markdown",
   "id": "84cad3f9",
   "metadata": {},
   "source": [
    "# <font color ='red'> 5.0 Data Preparation </font>"
   ]
  },
  {
   "cell_type": "code",
   "execution_count": 47,
   "id": "f2dad3a8",
   "metadata": {
    "ExecuteTime": {
     "end_time": "2021-11-12T18:30:58.652241Z",
     "start_time": "2021-11-12T18:30:58.638020Z"
    }
   },
   "outputs": [],
   "source": [
    "df5 = df4.copy()"
   ]
  },
  {
   "cell_type": "code",
   "execution_count": 48,
   "id": "41c882a7",
   "metadata": {
    "ExecuteTime": {
     "end_time": "2021-11-12T18:30:59.009962Z",
     "start_time": "2021-11-12T18:30:58.653243Z"
    }
   },
   "outputs": [
    {
     "data": {
      "text/plain": [
       "<AxesSubplot:xlabel='gross_revenue', ylabel='Density'>"
      ]
     },
     "execution_count": 48,
     "metadata": {},
     "output_type": "execute_result"
    },
    {
     "data": {
      "image/png": "[encoded data removed]",
      "text/plain": [
       "<Figure size 1800x864 with 1 Axes>"
      ]
     },
     "metadata": {},
     "output_type": "display_data"
    }
   ],
   "source": [
    "sns.distplot(np.log(df5['gross_revenue']))"
   ]
  },
  {
   "cell_type": "code",
   "execution_count": 49,
   "id": "0430e4b1",
   "metadata": {
    "ExecuteTime": {
     "end_time": "2021-11-12T18:30:59.025926Z",
     "start_time": "2021-11-12T18:30:59.011933Z"
    }
   },
   "outputs": [],
   "source": [
    "ss = pp.StandardScaler()\n",
    "\n",
    "df5['gross_revenue'] = ss.fit_transform(df5[['gross_revenue']])\n",
    "df5['recency_days'] = ss.fit_transform(df5[['recency_days']])\n",
    "df5['invoice_no'] = ss.fit_transform(df5[['invoice_no']])\n",
    "df5['avg_ticket'] = ss.fit_transform(df5[['avg_ticket']])\n"
   ]
  },
  {
   "cell_type": "code",
   "execution_count": 50,
   "id": "69e287a8",
   "metadata": {
    "ExecuteTime": {
     "end_time": "2021-11-12T18:30:59.041340Z",
     "start_time": "2021-11-12T18:30:59.026927Z"
    }
   },
   "outputs": [
    {
     "data": {
      "text/html": [
       "<div>\n",
       "<style scoped>\n",
       "    .dataframe tbody tr th:only-of-type {\n",
       "        vertical-align: middle;\n",
       "    }\n",
       "\n",
       "    .dataframe tbody tr th {\n",
       "        vertical-align: top;\n",
       "    }\n",
       "\n",
       "    .dataframe thead th {\n",
       "        text-align: right;\n",
       "    }\n",
       "</style>\n",
       "<table border=\"1\" class=\"dataframe\">\n",
       "  <thead>\n",
       "    <tr style=\"text-align: right;\">\n",
       "      <th></th>\n",
       "      <th>customer_id</th>\n",
       "      <th>gross_revenue</th>\n",
       "      <th>recency_days</th>\n",
       "      <th>invoice_no</th>\n",
       "      <th>avg_ticket</th>\n",
       "    </tr>\n",
       "  </thead>\n",
       "  <tbody>\n",
       "    <tr>\n",
       "      <th>0</th>\n",
       "      <td>17850</td>\n",
       "      <td>0.38</td>\n",
       "      <td>2.79</td>\n",
       "      <td>3.89</td>\n",
       "      <td>-0.03</td>\n",
       "    </tr>\n",
       "    <tr>\n",
       "      <th>1</th>\n",
       "      <td>13047</td>\n",
       "      <td>0.14</td>\n",
       "      <td>-0.36</td>\n",
       "      <td>0.62</td>\n",
       "      <td>-0.03</td>\n",
       "    </tr>\n",
       "    <tr>\n",
       "      <th>2</th>\n",
       "      <td>12583</td>\n",
       "      <td>0.52</td>\n",
       "      <td>-0.90</td>\n",
       "      <td>1.41</td>\n",
       "      <td>-0.03</td>\n",
       "    </tr>\n",
       "    <tr>\n",
       "      <th>3</th>\n",
       "      <td>13748</td>\n",
       "      <td>-0.12</td>\n",
       "      <td>0.03</td>\n",
       "      <td>0.10</td>\n",
       "      <td>-0.02</td>\n",
       "    </tr>\n",
       "    <tr>\n",
       "      <th>4</th>\n",
       "      <td>15100</td>\n",
       "      <td>-0.13</td>\n",
       "      <td>2.40</td>\n",
       "      <td>-0.16</td>\n",
       "      <td>0.15</td>\n",
       "    </tr>\n",
       "  </tbody>\n",
       "</table>\n",
       "</div>"
      ],
      "text/plain": [
       "   customer_id  gross_revenue  recency_days  invoice_no  avg_ticket\n",
       "0        17850           0.38          2.79        3.89       -0.03\n",
       "1        13047           0.14         -0.36        0.62       -0.03\n",
       "2        12583           0.52         -0.90        1.41       -0.03\n",
       "3        13748          -0.12          0.03        0.10       -0.02\n",
       "4        15100          -0.13          2.40       -0.16        0.15"
      ]
     },
     "execution_count": 50,
     "metadata": {},
     "output_type": "execute_result"
    }
   ],
   "source": [
    "df5.head()"
   ]
  },
  {
   "cell_type": "markdown",
   "id": "2d647920",
   "metadata": {},
   "source": [
    "# <font color ='red'> 6.0 Feature Selection </font>"
   ]
  },
  {
   "cell_type": "code",
   "execution_count": 51,
   "id": "7e50ca37",
   "metadata": {
    "ExecuteTime": {
     "end_time": "2021-11-12T18:30:59.056547Z",
     "start_time": "2021-11-12T18:30:59.043344Z"
    }
   },
   "outputs": [],
   "source": [
    "df6 = df5.copy()"
   ]
  },
  {
   "cell_type": "markdown",
   "id": "7abe5726",
   "metadata": {},
   "source": [
    "# <font color ='red'> 7.0 Hyperparameter Fine-Tunning </font>"
   ]
  },
  {
   "cell_type": "code",
   "execution_count": 52,
   "id": "7eede1a0",
   "metadata": {
    "ExecuteTime": {
     "end_time": "2021-11-12T18:30:59.071764Z",
     "start_time": "2021-11-12T18:30:59.057548Z"
    }
   },
   "outputs": [],
   "source": [
    "x = df6.drop(columns=['customer_id'])"
   ]
  },
  {
   "cell_type": "code",
   "execution_count": 53,
   "id": "f3e0064a",
   "metadata": {
    "ExecuteTime": {
     "end_time": "2021-11-12T18:30:59.087592Z",
     "start_time": "2021-11-12T18:30:59.072767Z"
    }
   },
   "outputs": [
    {
     "data": {
      "text/html": [
       "<div>\n",
       "<style scoped>\n",
       "    .dataframe tbody tr th:only-of-type {\n",
       "        vertical-align: middle;\n",
       "    }\n",
       "\n",
       "    .dataframe tbody tr th {\n",
       "        vertical-align: top;\n",
       "    }\n",
       "\n",
       "    .dataframe thead th {\n",
       "        text-align: right;\n",
       "    }\n",
       "</style>\n",
       "<table border=\"1\" class=\"dataframe\">\n",
       "  <thead>\n",
       "    <tr style=\"text-align: right;\">\n",
       "      <th></th>\n",
       "      <th>gross_revenue</th>\n",
       "      <th>recency_days</th>\n",
       "      <th>invoice_no</th>\n",
       "      <th>avg_ticket</th>\n",
       "    </tr>\n",
       "  </thead>\n",
       "  <tbody>\n",
       "    <tr>\n",
       "      <th>0</th>\n",
       "      <td>0.38</td>\n",
       "      <td>2.79</td>\n",
       "      <td>3.89</td>\n",
       "      <td>-0.03</td>\n",
       "    </tr>\n",
       "    <tr>\n",
       "      <th>1</th>\n",
       "      <td>0.14</td>\n",
       "      <td>-0.36</td>\n",
       "      <td>0.62</td>\n",
       "      <td>-0.03</td>\n",
       "    </tr>\n",
       "    <tr>\n",
       "      <th>2</th>\n",
       "      <td>0.52</td>\n",
       "      <td>-0.90</td>\n",
       "      <td>1.41</td>\n",
       "      <td>-0.03</td>\n",
       "    </tr>\n",
       "    <tr>\n",
       "      <th>3</th>\n",
       "      <td>-0.12</td>\n",
       "      <td>0.03</td>\n",
       "      <td>0.10</td>\n",
       "      <td>-0.02</td>\n",
       "    </tr>\n",
       "    <tr>\n",
       "      <th>4</th>\n",
       "      <td>-0.13</td>\n",
       "      <td>2.40</td>\n",
       "      <td>-0.16</td>\n",
       "      <td>0.15</td>\n",
       "    </tr>\n",
       "  </tbody>\n",
       "</table>\n",
       "</div>"
      ],
      "text/plain": [
       "   gross_revenue  recency_days  invoice_no  avg_ticket\n",
       "0           0.38          2.79        3.89       -0.03\n",
       "1           0.14         -0.36        0.62       -0.03\n",
       "2           0.52         -0.90        1.41       -0.03\n",
       "3          -0.12          0.03        0.10       -0.02\n",
       "4          -0.13          2.40       -0.16        0.15"
      ]
     },
     "execution_count": 53,
     "metadata": {},
     "output_type": "execute_result"
    }
   ],
   "source": [
    "x.head()"
   ]
  },
  {
   "cell_type": "code",
   "execution_count": 54,
   "id": "bab3cba1",
   "metadata": {
    "ExecuteTime": {
     "end_time": "2021-11-12T18:30:59.102856Z",
     "start_time": "2021-11-12T18:30:59.088582Z"
    }
   },
   "outputs": [],
   "source": [
    "clusters = [2,3,4,5,6,7]"
   ]
  },
  {
   "cell_type": "code",
   "execution_count": 55,
   "id": "9538f1b0",
   "metadata": {
    "ExecuteTime": {
     "end_time": "2021-11-12T18:30:59.927473Z",
     "start_time": "2021-11-12T18:30:59.104856Z"
    },
    "cell_style": "split",
    "scrolled": true
   },
   "outputs": [
    {
     "data": {
      "image/png": "[encoded data removed]",
      "text/plain": [
       "<Figure size 1800x864 with 1 Axes>"
      ]
     },
     "metadata": {},
     "output_type": "display_data"
    },
    {
     "data": {
      "text/plain": [
       "<AxesSubplot:title={'center':'Distortion Score Elbow for KMeans Clustering'}, xlabel='k', ylabel='distortion score'>"
      ]
     },
     "execution_count": 55,
     "metadata": {},
     "output_type": "execute_result"
    }
   ],
   "source": [
    "kmeans = KElbowVisualizer(c.KMeans() , k=clusters , timings= False)\n",
    "kmeans.fit(x)\n",
    "kmeans.show()"
   ]
  },
  {
   "cell_type": "code",
   "execution_count": 56,
   "id": "bfd49d8d",
   "metadata": {
    "ExecuteTime": {
     "end_time": "2021-11-12T18:31:02.405995Z",
     "start_time": "2021-11-12T18:30:59.928492Z"
    },
    "cell_style": "split",
    "hide_input": false,
    "scrolled": true
   },
   "outputs": [
    {
     "data": {
      "image/png": "[encoded data removed]",
      "text/plain": [
       "<Figure size 1800x864 with 1 Axes>"
      ]
     },
     "metadata": {},
     "output_type": "display_data"
    },
    {
     "data": {
      "text/plain": [
       "<AxesSubplot:title={'center':'Silhouette Score Elbow for KMeans Clustering'}, xlabel='k', ylabel='silhouette score'>"
      ]
     },
     "execution_count": 56,
     "metadata": {},
     "output_type": "execute_result"
    }
   ],
   "source": [
    "kmeans = KElbowVisualizer(c.KMeans() , k=clusters ,metric='silhouette', timings= False)\n",
    "kmeans.fit(x)\n",
    "kmeans.show()"
   ]
  },
  {
   "cell_type": "markdown",
   "id": "4bde7050",
   "metadata": {},
   "source": [
    "## 7.1 Silhouette Analysis"
   ]
  },
  {
   "cell_type": "code",
   "execution_count": 57,
   "id": "692315e0",
   "metadata": {
    "ExecuteTime": {
     "end_time": "2021-11-12T18:31:07.868349Z",
     "start_time": "2021-11-12T18:31:02.406995Z"
    }
   },
   "outputs": [
    {
     "data": {
      "image/png": "[encoded data removed]",
      "text/plain": [
       "<Figure size 1800x1296 with 6 Axes>"
      ]
     },
     "metadata": {},
     "output_type": "display_data"
    }
   ],
   "source": [
    "fig , ax = plt.subplots(3,2 , figsize=(25,18))\n",
    "\n",
    "for k in clusters:\n",
    "    km = c.KMeans(n_clusters=k , init='random', n_init=10 , max_iter=100 , random_state=42)\n",
    "    q, mod = divmod(k , 2)\n",
    "    visualizer = SilhouetteVisualizer(km , colors='yellowbrick', ax=ax[q-1][mod])\n",
    "    visualizer.fit(x)\n",
    "    visualizer.finalize()"
   ]
  },
  {
   "cell_type": "markdown",
   "id": "c036e322",
   "metadata": {},
   "source": [
    "# <font color ='red'> 8.0 Model Training </font>"
   ]
  },
  {
   "cell_type": "code",
   "execution_count": 58,
   "id": "8db949bc",
   "metadata": {
    "ExecuteTime": {
     "end_time": "2021-11-12T18:31:07.884111Z",
     "start_time": "2021-11-12T18:31:07.870336Z"
    }
   },
   "outputs": [],
   "source": [
    "df8 = x.copy()"
   ]
  },
  {
   "cell_type": "code",
   "execution_count": 59,
   "id": "27ca5a6d",
   "metadata": {
    "ExecuteTime": {
     "end_time": "2021-11-12T18:31:07.900122Z",
     "start_time": "2021-11-12T18:31:07.885110Z"
    }
   },
   "outputs": [
    {
     "data": {
      "text/html": [
       "<div>\n",
       "<style scoped>\n",
       "    .dataframe tbody tr th:only-of-type {\n",
       "        vertical-align: middle;\n",
       "    }\n",
       "\n",
       "    .dataframe tbody tr th {\n",
       "        vertical-align: top;\n",
       "    }\n",
       "\n",
       "    .dataframe thead th {\n",
       "        text-align: right;\n",
       "    }\n",
       "</style>\n",
       "<table border=\"1\" class=\"dataframe\">\n",
       "  <thead>\n",
       "    <tr style=\"text-align: right;\">\n",
       "      <th></th>\n",
       "      <th>gross_revenue</th>\n",
       "      <th>recency_days</th>\n",
       "      <th>invoice_no</th>\n",
       "      <th>avg_ticket</th>\n",
       "    </tr>\n",
       "  </thead>\n",
       "  <tbody>\n",
       "    <tr>\n",
       "      <th>0</th>\n",
       "      <td>0.38</td>\n",
       "      <td>2.79</td>\n",
       "      <td>3.89</td>\n",
       "      <td>-0.03</td>\n",
       "    </tr>\n",
       "    <tr>\n",
       "      <th>1</th>\n",
       "      <td>0.14</td>\n",
       "      <td>-0.36</td>\n",
       "      <td>0.62</td>\n",
       "      <td>-0.03</td>\n",
       "    </tr>\n",
       "    <tr>\n",
       "      <th>2</th>\n",
       "      <td>0.52</td>\n",
       "      <td>-0.90</td>\n",
       "      <td>1.41</td>\n",
       "      <td>-0.03</td>\n",
       "    </tr>\n",
       "    <tr>\n",
       "      <th>3</th>\n",
       "      <td>-0.12</td>\n",
       "      <td>0.03</td>\n",
       "      <td>0.10</td>\n",
       "      <td>-0.02</td>\n",
       "    </tr>\n",
       "    <tr>\n",
       "      <th>4</th>\n",
       "      <td>-0.13</td>\n",
       "      <td>2.40</td>\n",
       "      <td>-0.16</td>\n",
       "      <td>0.15</td>\n",
       "    </tr>\n",
       "  </tbody>\n",
       "</table>\n",
       "</div>"
      ],
      "text/plain": [
       "   gross_revenue  recency_days  invoice_no  avg_ticket\n",
       "0           0.38          2.79        3.89       -0.03\n",
       "1           0.14         -0.36        0.62       -0.03\n",
       "2           0.52         -0.90        1.41       -0.03\n",
       "3          -0.12          0.03        0.10       -0.02\n",
       "4          -0.13          2.40       -0.16        0.15"
      ]
     },
     "execution_count": 59,
     "metadata": {},
     "output_type": "execute_result"
    }
   ],
   "source": [
    "df8.head()"
   ]
  },
  {
   "cell_type": "markdown",
   "id": "0ca86674",
   "metadata": {},
   "source": [
    "## 8.1 K-Means"
   ]
  },
  {
   "cell_type": "code",
   "execution_count": 60,
   "id": "7bf2b59b",
   "metadata": {
    "ExecuteTime": {
     "end_time": "2021-11-12T18:31:07.978057Z",
     "start_time": "2021-11-12T18:31:07.901116Z"
    }
   },
   "outputs": [],
   "source": [
    "# model definition\n",
    "k = 3\n",
    "kmeans = c.KMeans(init='random', n_clusters=k, n_init=10, max_iter=300, random_state=42)\n",
    "\n",
    "# model training\n",
    "kmeans.fit(x)\n",
    "\n",
    "# clustering\n",
    "labels = kmeans.labels_\n"
   ]
  },
  {
   "cell_type": "markdown",
   "id": "3d53591c",
   "metadata": {},
   "source": [
    "## 8.2 Cluster Validation"
   ]
  },
  {
   "cell_type": "code",
   "execution_count": 63,
   "id": "aa7c4fdd",
   "metadata": {
    "ExecuteTime": {
     "end_time": "2021-11-12T18:31:37.756189Z",
     "start_time": "2021-11-12T18:31:37.471621Z"
    }
   },
   "outputs": [
    {
     "name": "stdout",
     "output_type": "stream",
     "text": [
      "WSS value: 9404.957923270293\n",
      "SS value: 0.5895242294229587\n"
     ]
    }
   ],
   "source": [
    "## Wss (Within-cluster sum of square)\n",
    "print('WSS value: {}'.format(kmeans.inertia_))\n",
    "\n",
    "## SS (Silhoute Score)\n",
    "print('SS value: {}'.format(m.silhouette_score(df8, labels, metric='euclidean')))"
   ]
  },
  {
   "cell_type": "markdown",
   "id": "16d7dc87",
   "metadata": {},
   "source": [
    "# <font color ='red'> 9.0 Cluster Analysis </font>"
   ]
  },
  {
   "cell_type": "code",
   "execution_count": 64,
   "id": "834c15de",
   "metadata": {
    "ExecuteTime": {
     "end_time": "2021-11-12T18:31:50.185326Z",
     "start_time": "2021-11-12T18:31:50.175085Z"
    }
   },
   "outputs": [
    {
     "data": {
      "text/html": [
       "<div>\n",
       "<style scoped>\n",
       "    .dataframe tbody tr th:only-of-type {\n",
       "        vertical-align: middle;\n",
       "    }\n",
       "\n",
       "    .dataframe tbody tr th {\n",
       "        vertical-align: top;\n",
       "    }\n",
       "\n",
       "    .dataframe thead th {\n",
       "        text-align: right;\n",
       "    }\n",
       "</style>\n",
       "<table border=\"1\" class=\"dataframe\">\n",
       "  <thead>\n",
       "    <tr style=\"text-align: right;\">\n",
       "      <th></th>\n",
       "      <th>customer_id</th>\n",
       "      <th>gross_revenue</th>\n",
       "      <th>recency_days</th>\n",
       "      <th>invoice_no</th>\n",
       "      <th>avg_ticket</th>\n",
       "      <th>cluster</th>\n",
       "    </tr>\n",
       "  </thead>\n",
       "  <tbody>\n",
       "    <tr>\n",
       "      <th>0</th>\n",
       "      <td>17850</td>\n",
       "      <td>0.38</td>\n",
       "      <td>2.79</td>\n",
       "      <td>3.89</td>\n",
       "      <td>-0.03</td>\n",
       "      <td>1</td>\n",
       "    </tr>\n",
       "    <tr>\n",
       "      <th>1</th>\n",
       "      <td>13047</td>\n",
       "      <td>0.14</td>\n",
       "      <td>-0.36</td>\n",
       "      <td>0.62</td>\n",
       "      <td>-0.03</td>\n",
       "      <td>2</td>\n",
       "    </tr>\n",
       "    <tr>\n",
       "      <th>2</th>\n",
       "      <td>12583</td>\n",
       "      <td>0.52</td>\n",
       "      <td>-0.90</td>\n",
       "      <td>1.41</td>\n",
       "      <td>-0.03</td>\n",
       "      <td>2</td>\n",
       "    </tr>\n",
       "    <tr>\n",
       "      <th>3</th>\n",
       "      <td>13748</td>\n",
       "      <td>-0.12</td>\n",
       "      <td>0.03</td>\n",
       "      <td>0.10</td>\n",
       "      <td>-0.02</td>\n",
       "      <td>2</td>\n",
       "    </tr>\n",
       "    <tr>\n",
       "      <th>4</th>\n",
       "      <td>15100</td>\n",
       "      <td>-0.13</td>\n",
       "      <td>2.40</td>\n",
       "      <td>-0.16</td>\n",
       "      <td>0.15</td>\n",
       "      <td>1</td>\n",
       "    </tr>\n",
       "  </tbody>\n",
       "</table>\n",
       "</div>"
      ],
      "text/plain": [
       "   customer_id  gross_revenue  recency_days  invoice_no  avg_ticket  cluster\n",
       "0        17850           0.38          2.79        3.89       -0.03        1\n",
       "1        13047           0.14         -0.36        0.62       -0.03        2\n",
       "2        12583           0.52         -0.90        1.41       -0.03        2\n",
       "3        13748          -0.12          0.03        0.10       -0.02        2\n",
       "4        15100          -0.13          2.40       -0.16        0.15        1"
      ]
     },
     "execution_count": 64,
     "metadata": {},
     "output_type": "execute_result"
    }
   ],
   "source": [
    "df9 = df6.copy()\n",
    "df9['cluster'] = labels\n",
    "df9.head()"
   ]
  },
  {
   "cell_type": "markdown",
   "id": "cf0c52a9",
   "metadata": {},
   "source": [
    "## 9.1 Vizualization Inspection"
   ]
  },
  {
   "cell_type": "code",
   "execution_count": 65,
   "id": "8e9a71dd",
   "metadata": {
    "ExecuteTime": {
     "end_time": "2021-11-12T18:31:50.979133Z",
     "start_time": "2021-11-12T18:31:50.186327Z"
    }
   },
   "outputs": [
    {
     "data": {
      "image/png": "[encoded data removed]",
      "text/plain": [
       "<Figure size 1800x864 with 1 Axes>"
      ]
     },
     "metadata": {},
     "output_type": "display_data"
    }
   ],
   "source": [
    "visualizer = SilhouetteVisualizer(kmeans ,  colors='yellowbrick')\n",
    "visualizer.fit(x)\n",
    "visualizer.finalize()\n"
   ]
  },
  {
   "cell_type": "markdown",
   "id": "6a016185",
   "metadata": {},
   "source": [
    "## 9.2 2D Plot\n"
   ]
  },
  {
   "cell_type": "code",
   "execution_count": 66,
   "id": "68a49dbd",
   "metadata": {
    "ExecuteTime": {
     "end_time": "2021-11-12T18:31:50.994137Z",
     "start_time": "2021-11-12T18:31:50.980134Z"
    }
   },
   "outputs": [
    {
     "data": {
      "text/html": [
       "<div>\n",
       "<style scoped>\n",
       "    .dataframe tbody tr th:only-of-type {\n",
       "        vertical-align: middle;\n",
       "    }\n",
       "\n",
       "    .dataframe tbody tr th {\n",
       "        vertical-align: top;\n",
       "    }\n",
       "\n",
       "    .dataframe thead th {\n",
       "        text-align: right;\n",
       "    }\n",
       "</style>\n",
       "<table border=\"1\" class=\"dataframe\">\n",
       "  <thead>\n",
       "    <tr style=\"text-align: right;\">\n",
       "      <th></th>\n",
       "      <th>customer_id</th>\n",
       "      <th>gross_revenue</th>\n",
       "      <th>recency_days</th>\n",
       "      <th>invoice_no</th>\n",
       "      <th>avg_ticket</th>\n",
       "      <th>cluster</th>\n",
       "    </tr>\n",
       "  </thead>\n",
       "  <tbody>\n",
       "    <tr>\n",
       "      <th>0</th>\n",
       "      <td>17850</td>\n",
       "      <td>0.38</td>\n",
       "      <td>2.79</td>\n",
       "      <td>3.89</td>\n",
       "      <td>-0.03</td>\n",
       "      <td>1</td>\n",
       "    </tr>\n",
       "    <tr>\n",
       "      <th>1</th>\n",
       "      <td>13047</td>\n",
       "      <td>0.14</td>\n",
       "      <td>-0.36</td>\n",
       "      <td>0.62</td>\n",
       "      <td>-0.03</td>\n",
       "      <td>2</td>\n",
       "    </tr>\n",
       "    <tr>\n",
       "      <th>2</th>\n",
       "      <td>12583</td>\n",
       "      <td>0.52</td>\n",
       "      <td>-0.90</td>\n",
       "      <td>1.41</td>\n",
       "      <td>-0.03</td>\n",
       "      <td>2</td>\n",
       "    </tr>\n",
       "    <tr>\n",
       "      <th>3</th>\n",
       "      <td>13748</td>\n",
       "      <td>-0.12</td>\n",
       "      <td>0.03</td>\n",
       "      <td>0.10</td>\n",
       "      <td>-0.02</td>\n",
       "      <td>2</td>\n",
       "    </tr>\n",
       "    <tr>\n",
       "      <th>4</th>\n",
       "      <td>15100</td>\n",
       "      <td>-0.13</td>\n",
       "      <td>2.40</td>\n",
       "      <td>-0.16</td>\n",
       "      <td>0.15</td>\n",
       "      <td>1</td>\n",
       "    </tr>\n",
       "  </tbody>\n",
       "</table>\n",
       "</div>"
      ],
      "text/plain": [
       "   customer_id  gross_revenue  recency_days  invoice_no  avg_ticket  cluster\n",
       "0        17850           0.38          2.79        3.89       -0.03        1\n",
       "1        13047           0.14         -0.36        0.62       -0.03        2\n",
       "2        12583           0.52         -0.90        1.41       -0.03        2\n",
       "3        13748          -0.12          0.03        0.10       -0.02        2\n",
       "4        15100          -0.13          2.40       -0.16        0.15        1"
      ]
     },
     "execution_count": 66,
     "metadata": {},
     "output_type": "execute_result"
    }
   ],
   "source": [
    "df9.head()"
   ]
  },
  {
   "cell_type": "code",
   "execution_count": 67,
   "id": "b4932297",
   "metadata": {
    "ExecuteTime": {
     "end_time": "2021-11-12T18:31:55.792117Z",
     "start_time": "2021-11-12T18:31:50.996136Z"
    }
   },
   "outputs": [
    {
     "data": {
      "text/plain": [
       "<seaborn.axisgrid.PairGrid at 0x14220e1e040>"
      ]
     },
     "execution_count": 67,
     "metadata": {},
     "output_type": "execute_result"
    },
    {
     "data": {
      "image/png": "[encoded data removed]",
      "text/plain": [
       "<Figure size 765.725x720 with 20 Axes>"
      ]
     },
     "metadata": {},
     "output_type": "display_data"
    }
   ],
   "source": [
    "df_viz = df9.drop(columns='customer_id', axis =1)\n",
    "sns.pairplot(df_viz , hue='cluster')"
   ]
  },
  {
   "cell_type": "markdown",
   "id": "cac59cd2",
   "metadata": {},
   "source": [
    "## 9.3 UMAP"
   ]
  },
  {
   "cell_type": "code",
   "execution_count": 68,
   "id": "a217ec92",
   "metadata": {
    "ExecuteTime": {
     "end_time": "2021-11-12T18:32:15.696528Z",
     "start_time": "2021-11-12T18:31:55.793066Z"
    }
   },
   "outputs": [
    {
     "data": {
      "text/plain": [
       "<AxesSubplot:xlabel='embedding_x', ylabel='embedding_y'>"
      ]
     },
     "execution_count": 68,
     "metadata": {},
     "output_type": "execute_result"
    },
    {
     "data": {
      "image/png": "[encoded data removed]",
      "text/plain": [
       "<Figure size 1800x864 with 1 Axes>"
      ]
     },
     "metadata": {},
     "output_type": "display_data"
    }
   ],
   "source": [
    "reducer = umap.UMAP(n_neighbors=40,random_state=42)\n",
    "embedding = reducer.fit_transform(x)\n",
    "\n",
    "\n",
    "# embedding\n",
    "df_viz['embedding_x'] = embedding[:,0]\n",
    "df_viz['embedding_y'] = embedding[:,1]\n",
    "\n",
    "\n",
    "# plot UMAP\n",
    "sns.scatterplot(x = 'embedding_x' , y='embedding_y',\n",
    "                hue='cluster' ,\n",
    "                palette=sns.color_palette('hls', n_colors=len(df_viz['cluster'].unique())),\n",
    "                data=df_viz)"
   ]
  },
  {
   "cell_type": "code",
   "execution_count": 69,
   "id": "d034cfc0",
   "metadata": {
    "ExecuteTime": {
     "end_time": "2021-11-12T18:32:15.711721Z",
     "start_time": "2021-11-12T18:32:15.697531Z"
    }
   },
   "outputs": [],
   "source": [
    "# fig = px.scatter_3d(df9, x='recency_days',y='invoice_no',z='gross_revenue', color='cluster')\n",
    "# fig.show()"
   ]
  },
  {
   "cell_type": "markdown",
   "id": "b70eba2e",
   "metadata": {},
   "source": [
    "## 9.2 Cluster Profile\n"
   ]
  },
  {
   "cell_type": "code",
   "execution_count": 70,
   "id": "2fecea82",
   "metadata": {
    "ExecuteTime": {
     "end_time": "2021-11-12T18:32:15.741783Z",
     "start_time": "2021-11-12T18:32:15.713720Z"
    }
   },
   "outputs": [
    {
     "data": {
      "text/html": [
       "<div>\n",
       "<style scoped>\n",
       "    .dataframe tbody tr th:only-of-type {\n",
       "        vertical-align: middle;\n",
       "    }\n",
       "\n",
       "    .dataframe tbody tr th {\n",
       "        vertical-align: top;\n",
       "    }\n",
       "\n",
       "    .dataframe thead th {\n",
       "        text-align: right;\n",
       "    }\n",
       "</style>\n",
       "<table border=\"1\" class=\"dataframe\">\n",
       "  <thead>\n",
       "    <tr style=\"text-align: right;\">\n",
       "      <th></th>\n",
       "      <th>cluster</th>\n",
       "      <th>customer_id</th>\n",
       "      <th>perc_customers</th>\n",
       "      <th>gross_revenue</th>\n",
       "      <th>recency_days</th>\n",
       "      <th>invoice_no</th>\n",
       "      <th>avg_ticket</th>\n",
       "    </tr>\n",
       "  </thead>\n",
       "  <tbody>\n",
       "    <tr>\n",
       "      <th>0</th>\n",
       "      <td>0</td>\n",
       "      <td>22</td>\n",
       "      <td>0.51</td>\n",
       "      <td>10.34</td>\n",
       "      <td>-0.72</td>\n",
       "      <td>8.44</td>\n",
       "      <td>4.19</td>\n",
       "    </tr>\n",
       "    <tr>\n",
       "      <th>1</th>\n",
       "      <td>1</td>\n",
       "      <td>1086</td>\n",
       "      <td>25.08</td>\n",
       "      <td>-0.16</td>\n",
       "      <td>1.54</td>\n",
       "      <td>-0.35</td>\n",
       "      <td>-0.01</td>\n",
       "    </tr>\n",
       "    <tr>\n",
       "      <th>2</th>\n",
       "      <td>2</td>\n",
       "      <td>3222</td>\n",
       "      <td>74.41</td>\n",
       "      <td>-0.02</td>\n",
       "      <td>-0.51</td>\n",
       "      <td>0.06</td>\n",
       "      <td>-0.03</td>\n",
       "    </tr>\n",
       "  </tbody>\n",
       "</table>\n",
       "</div>"
      ],
      "text/plain": [
       "   cluster  customer_id  perc_customers  gross_revenue  recency_days  \\\n",
       "0        0           22            0.51          10.34         -0.72   \n",
       "1        1         1086           25.08          -0.16          1.54   \n",
       "2        2         3222           74.41          -0.02         -0.51   \n",
       "\n",
       "   invoice_no  avg_ticket  \n",
       "0        8.44        4.19  \n",
       "1       -0.35       -0.01  \n",
       "2        0.06       -0.03  "
      ]
     },
     "execution_count": 70,
     "metadata": {},
     "output_type": "execute_result"
    }
   ],
   "source": [
    "# Number of customer\n",
    "df_cluster = df9[['customer_id','cluster']].groupby('cluster').count().reset_index()\n",
    "df_cluster['perc_customers'] = 100*(df_cluster['customer_id'] / df_cluster['customer_id'].sum())\n",
    "\n",
    "# Avg Gross revenue\n",
    "df_avg_gross_revenue = df9[['gross_revenue','cluster']].groupby('cluster').mean().reset_index()\n",
    "df_cluster = pd.merge(df_cluster , df_avg_gross_revenue , how='inner' , on='cluster')\n",
    "\n",
    "# Avg recency days\n",
    "df_avg_recency_days = df9[['recency_days','cluster']].groupby('cluster').mean().reset_index()\n",
    "df_cluster = pd.merge(df_cluster , df_avg_recency_days , how='inner' , on='cluster')\n",
    "\n",
    "# Avg invoice_no\n",
    "df_avg_invoice_no = df9[['invoice_no','cluster']].groupby('cluster').mean().reset_index()\n",
    "df_cluster = pd.merge(df_cluster , df_avg_invoice_no , how='inner' , on='cluster')\n",
    "\n",
    "# Avg Ticket\n",
    "df_ticket = df9[['avg_ticket','cluster']].groupby('cluster').mean().reset_index()\n",
    "df_cluster = pd.merge(df_cluster , df_ticket , how='inner' , on='cluster')\n",
    " \n",
    "\n",
    "df_cluster"
   ]
  },
  {
   "cell_type": "markdown",
   "id": "9de02b54",
   "metadata": {},
   "source": [
    "### Cluster 01: ( Candidato a Insiders)\n",
    "\n",
    "    - Número de customers: 6 (0.14% do customers)\n",
    "    - Recência em média: 7 dias \n",
    "    - Compras em média: 89 compras\n",
    "    - Receita em média: $ 182.182,00 dólares\n",
    "    \n",
    "### Cluster 02: \n",
    "\n",
    "    - Número de customers: 31 (0.71% do customers)\n",
    "    - Recência em média: 14 dias \n",
    "    - Compras em média: 53 compras\n",
    "    - Receita em média: $ 40.543,52 dólares\n",
    "\n",
    "### Cluster 03: \n",
    "\n",
    "    - Número de customers: 4.335 (99.15% do customers)\n",
    "    - Recência em média: 92 dias \n",
    "    - Compras em média: 5 compras\n",
    "    - Receita em média: $ 1.372,57 dólares"
   ]
  },
  {
   "cell_type": "markdown",
   "id": "44b0219f",
   "metadata": {},
   "source": [
    "# <font color ='red'> 10.0 Deploy to production </font>"
   ]
  },
  {
   "cell_type": "code",
   "execution_count": 71,
   "id": "7132112f",
   "metadata": {
    "ExecuteTime": {
     "end_time": "2021-11-12T18:32:15.757784Z",
     "start_time": "2021-11-12T18:32:15.743751Z"
    }
   },
   "outputs": [],
   "source": [
    "df10 = df9.copy()"
   ]
  },
  {
   "cell_type": "code",
   "execution_count": null,
   "id": "74d7d3f7",
   "metadata": {},
   "outputs": [],
   "source": []
  },
  {
   "cell_type": "code",
   "execution_count": null,
   "id": "b757fdc4",
   "metadata": {},
   "outputs": [],
   "source": []
  },
  {
   "cell_type": "code",
   "execution_count": null,
   "id": "da6571f5",
   "metadata": {},
   "outputs": [],
   "source": []
  },
  {
   "cell_type": "code",
   "execution_count": null,
   "id": "160755b3",
   "metadata": {},
   "outputs": [],
   "source": []
  },
  {
   "cell_type": "code",
   "execution_count": null,
   "id": "9559cbfc",
   "metadata": {},
   "outputs": [],
   "source": []
  },
  {
   "cell_type": "code",
   "execution_count": null,
   "id": "6fbe5b6e",
   "metadata": {},
   "outputs": [],
   "source": []
  },
  {
   "cell_type": "code",
   "execution_count": null,
   "id": "ccc38f38",
   "metadata": {},
   "outputs": [],
   "source": []
  }
 ],
 "metadata": {
  "gist": {
   "data": {
    "description": "repositorio/pa005_insiders_clustering/insiders_clustering/notebooks/c3.0-fsp-metrics.ipynb",
    "public": false
   },
   "id": ""
  },
  "kernelspec": {
   "display_name": "Python 3 (ipykernel)",
   "language": "python",
   "name": "python3"
  },
  "language_info": {
   "codemirror_mode": {
    "name": "ipython",
    "version": 3
   },
   "file_extension": ".py",
   "mimetype": "text/x-python",
   "name": "python",
   "nbconvert_exporter": "python",
   "pygments_lexer": "ipython3",
   "version": "3.9.7"
  },
  "toc": {
   "base_numbering": 1,
   "nav_menu": {},
   "number_sections": false,
   "sideBar": true,
   "skip_h1_title": false,
   "title_cell": "Table of Contents",
   "title_sidebar": "Contents",
   "toc_cell": false,
   "toc_position": {
    "height": "calc(100% - 180px)",
    "left": "10px",
    "top": "150px",
    "width": "384px"
   },
   "toc_section_display": true,
   "toc_window_display": false
  },
  "varInspector": {
   "cols": {
    "lenName": 16,
    "lenType": 16,
    "lenVar": 40
   },
   "kernels_config": {
    "python": {
     "delete_cmd_postfix": "",
     "delete_cmd_prefix": "del ",
     "library": "var_list.py",
     "varRefreshCmd": "print(var_dic_list())"
    },
    "r": {
     "delete_cmd_postfix": ") ",
     "delete_cmd_prefix": "rm(",
     "library": "var_list.r",
     "varRefreshCmd": "cat(var_dic_list()) "
    }
   },
   "position": {
    "height": "831px",
    "left": "1033px",
    "right": "20px",
    "top": "15px",
    "width": "798px"
   },
   "types_to_exclude": [
    "module",
    "function",
    "builtin_function_or_method",
    "instance",
    "_Feature"
   ],
   "window_display": false
  }
 },
 "nbformat": 4,
 "nbformat_minor": 5
}
